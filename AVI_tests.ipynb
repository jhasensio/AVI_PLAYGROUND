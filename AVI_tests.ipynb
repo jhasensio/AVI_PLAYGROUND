{
 "cells": [
  {
   "cell_type": "markdown",
   "metadata": {},
   "source": [
    "### Import Libraries"
   ]
  },
  {
   "cell_type": "code",
   "execution_count": null,
   "metadata": {},
   "outputs": [],
   "source": [
    "from avi.sdk.avi_api import ApiSession\n",
    "import datetime, time\n",
    "from requests.packages import urllib3\n",
    "urllib3.disable_warnings()\n",
    "import json\n",
    "from envs.controller_info import session_params as session_env\n",
    "# Establish a first session\n",
    "api = ApiSession(\n",
    "    controller_ip=session_env['controller_ip'],\n",
    "    username=session_env['controller_username'],\n",
    "    password=session_env['controller_password'],\n",
    "    tenant=session_env['tenant'],\n",
    "    api_version=session_env['api_version']\n",
    "    )\n",
    "# Update headers and api version imported from demo env file with controller version (ensure actual API Version is uses in subsequent requests\n",
    "session_env['headers']['X-Avi-Version'] = api.remote_api_version['Version']\n",
    "session_env['api_version'] = api.remote_api_version['Version']\n",
    "\n",
    "# Create a new session with received AVI API Version\n",
    "api = ApiSession(\n",
    "    controller_ip=session_env['controller_ip'],\n",
    "    username=session_env['controller_username'],\n",
    "    password=session_env['controller_password'],\n",
    "    tenant=session_env['tenant'],\n",
    "    api_version=session_env['api_version']\n",
    "    )\n",
    "### Display Session ID to Verify AVI Controller Session Establishment\n",
    "print('Successful connection to ' + session_env['name'] + '. Session ID:' + api.session_id)"
   ]
  },
  {
   "cell_type": "code",
   "execution_count": null,
   "metadata": {},
   "outputs": [],
   "source": [
    "source_segroup_uuid = \"serviceenginegroup-e5b13687-efbb-4417-9302-b1d37c367c8b\"\n",
    "source_vrf_uuid = \"vrfcontext-054e4876-bf3a-4124-ab94-ce379f1a11f\"\n",
    "\n",
    "query = {\n",
    "    \"refers_to\": \"vrfcontext:\"+source_vrf_uuid+\",serviceenginegroup:\"+source_segroup_uuid\n",
    "    #\"se_group_ref.icontains\": source_segroup_uuid\n",
    "}\n",
    "resp = api.get (\"virtualservice\", params=query)\n",
    "if resp.status_code in range(200, 299):\n",
    "    print(resp)\n",
    "if resp.status_code in range(200, 299):\n",
    "    print(resp.url)\n",
    "    print (\" - Found \"+str(json.loads(resp.text)[\"count\"])+\" VirtualServices at @ source VRF context \"+source_vrf+\" and SEGroup \"+source_segroup)\n",
    "    print(\"-------------------------------------------------------------------------------\")\n",
    "else:        \n",
    "    print('Error in getting virtualservices :%s' % resp.text)\n",
    "\n",
    "respuesta = json.loads(resp.text)[\"results\"]\n",
    "print(json.dumps(respuesta, indent=3, sort_keys=True))\n",
    "for item in respuesta:\n",
    "    print (item[\"name\"])"
   ]
  },
  {
   "cell_type": "code",
   "execution_count": null,
   "metadata": {},
   "outputs": [],
   "source": [
    "query= { \n",
    "    }\n",
    "resp = api.get('networkservice', params=query)\n",
    "print (\"Sending request to following URL: \" +resp.url)\n",
    "json.loads(resp.text)"
   ]
  },
  {
   "cell_type": "code",
   "execution_count": null,
   "metadata": {},
   "outputs": [],
   "source": [
    "url_path = \"networkservice\"\n",
    "resp = api.get(url_path)\n",
    "print (\"Sending request to following URL: \" +resp.url)\n",
    "json.loads(resp.text)"
   ]
  },
  {
   "cell_type": "code",
   "execution_count": null,
   "metadata": {},
   "outputs": [],
   "source": [
    "\n",
    "from libs.inventory_example import fetch_data"
   ]
  },
  {
   "cell_type": "code",
   "execution_count": null,
   "metadata": {},
   "outputs": [],
   "source": [
    "fetch_data(api, \"Default-Cloud\", \"admin\", \"l7_client.sum_total_responses\")"
   ]
  },
  {
   "cell_type": "code",
   "execution_count": null,
   "metadata": {},
   "outputs": [],
   "source": [
    "from envs.controller_info import session_params as session_env\n",
    "from libs.clone import *\n",
    "import json\n",
    "\n",
    "target_segroup = \"SEG-TARGET-MAD-001\"\n",
    "source_segroup = \"SEG-SOURCE-MAD-002\"\n",
    "# 1 Clone existing VRF object\n",
    "# Returns a new dictionary with cloned object \n",
    "source_vrf = \"vrf_source_mad_002\"\n",
    "cloned_vrf = clone_vrf (session_env, source_vrf)\n",
    "print()\n",
    "print(\"\\033[1mCheck returned output for further verification:\\033[0m\")\n",
    "print(\"\\033[1m-----------------------------------------------\\033[0m\")\n",
    "print(json.dumps(cloned_vrf, indent=3, sort_keys=True))"
   ]
  },
  {
   "cell_type": "code",
   "execution_count": null,
   "metadata": {},
   "outputs": [],
   "source": [
    "output_config= {'ip_routing_config': {'vrfcontext': 'vrf_source_mad_002',\n",
    "  'vrf_ref': 'https://192.168.1.15/api/vrfcontext/vrfcontext-054e4876-bf3a-4124-ab94-ce379f1a11f2#vrf_source_mad_002',\n",
    "  'vrf_uuid': 'vrfcontext-054e4876-bf3a-4124-ab94-ce379f1a11f2',\n",
    "  'static_routes': [{'route_type': 'V4',\n",
    "    'route_prefix': '192.168.0.0',\n",
    "    'route_mask': 16,\n",
    "    'route_next_hop': '192.168.2.10'},\n",
    "   {'route_type': 'V4',\n",
    "    'route_prefix': '0.0.0.0',\n",
    "    'route_mask': 0,\n",
    "    'route_next_hop': '192.168.2.1'}]},\n",
    " 'SE_1': {'se_uuid': 'se-564d63c6-3882-ca52-7be5-b04c9ba78358',\n",
    "  'ip_addr': '192.168.2.22',\n",
    "  'mask': 24,\n",
    "  'mac_address': '00:0c:29:a7:83:8a',\n",
    "  'if_name': 'eth1',\n",
    "  'vrf_ref': 'https://192.168.1.15/api/vrfcontext/vrfcontext-054e4876-bf3a-4124-ab94-ce379f1a11f2#vrf_source_mad_002'},\n",
    " 'SE_2': {'se_uuid': 'se-564d0f61-3a27-ff26-8af7-306296a7610c',\n",
    "  'ip_addr': '192.168.2.23',\n",
    "  'mask': 24,\n",
    "  'mac_address': '00:0c:29:a7:61:3e',\n",
    "  'if_name': 'eth1',\n",
    "  'vrf_ref': 'https://192.168.1.15/api/vrfcontext/vrfcontext-054e4876-bf3a-4124-ab94-ce379f1a11f2#vrf_source_mad_002'},\n",
    " 'network_service_config': {'_last_modified': '1724663564869200',\n",
    "  'cloud_ref': 'https://192.168.1.15/api/cloud/cloud-baf1f7f6-18ff-46cb-a134-6154d9af52a1',\n",
    "  'name': 'NS-SOURCE-MAD-002',\n",
    "  'routing_service': {'advertise_backend_networks': False,\n",
    "   'enable_auto_gateway': False,\n",
    "   'enable_routing': True,\n",
    "   'enable_vip_on_all_interfaces': True,\n",
    "   'enable_vmac': False,\n",
    "   'floating_intf_ip': [{'addr': '192.168.2.30', 'type': 'V4'},\n",
    "    {'addr': '192.168.2.31', 'type': 'V4'}],\n",
    "   'graceful_restart': False,\n",
    "   'routing_by_linux_ipstack': False},\n",
    "  'se_group_ref': 'https://192.168.1.15/api/serviceenginegroup/serviceenginegroup-e5b13687-efbb-4417-9302-b1d37c367c8b',\n",
    "  'service_type': 'ROUTING_SERVICE',\n",
    "  'tenant_ref': 'https://192.168.1.15/api/tenant/admin',\n",
    "  'url': 'https://192.168.1.15/api/networkservice/networkservice-0ea7992a-7ed2-4a48-836d-e267eae39cc0',\n",
    "  'uuid': 'networkservice-0ea7992a-7ed2-4a48-836d-e267eae39cc0',\n",
    "  'vrf_ref': 'https://192.168.1.15/api/vrfcontext/vrfcontext-054e4876-bf3a-4124-ab94-ce379f1a11f2'},\n",
    " 'virtualservices': [{'name': 'VS_SOURCE_151',\n",
    "   'pool_ref': 'https://192.168.1.15/api/pool/pool-6a200b81-f82c-4470-981c-9fbf5a9493d3#nginx-003',\n",
    "   'se_group_ref': 'https://192.168.1.15/api/serviceenginegroup/serviceenginegroup-e5b13687-efbb-4417-9302-b1d37c367c8b#SEG-SOURCE-MAD-002',\n",
    "   'url': 'https://192.168.1.15/api/virtualservice/virtualservice-3ca11aba-3419-4691-bce7-b4b925b78617#VS_SOURCE_151',\n",
    "   'uuid': 'virtualservice-3ca11aba-3419-4691-bce7-b4b925b78617',\n",
    "   'vrf_context_ref': 'https://192.168.1.15/api/vrfcontext/vrfcontext-054e4876-bf3a-4124-ab94-ce379f1a11f2#vrf_source_mad_002',\n",
    "   'vsvip_ref': 'https://192.168.1.15/api/vsvip/vsvip-dcf988a0-6e58-4f9f-b8ac-14754cff44dd#vsvip-source-151'},\n",
    "  {'name': 'VS_SOURCE_152',\n",
    "   'pool_ref': 'https://192.168.1.15/api/pool/pool-826a3189-a03f-4d12-bd31-b5df89d73120#nginx-004',\n",
    "   'se_group_ref': 'https://192.168.1.15/api/serviceenginegroup/serviceenginegroup-e5b13687-efbb-4417-9302-b1d37c367c8b#SEG-SOURCE-MAD-002',\n",
    "   'url': 'https://192.168.1.15/api/virtualservice/virtualservice-28210162-9d9d-4d5b-9169-0b329fde1bcd#VS_SOURCE_152',\n",
    "   'uuid': 'virtualservice-28210162-9d9d-4d5b-9169-0b329fde1bcd',\n",
    "   'vrf_context_ref': 'https://192.168.1.15/api/vrfcontext/vrfcontext-054e4876-bf3a-4124-ab94-ce379f1a11f2#vrf_source_mad_002',\n",
    "   'vsvip_ref': 'https://192.168.1.15/api/vsvip/vsvip-205d1da9-61ff-48b0-9f66-45516eb7ada7#vsvip-source-152'}],\n",
    " 'network_config': ['network_source_mad_002'],\n",
    " 'vsvips_config': [{'name': 'vsvip-source-151',\n",
    "   'vrf_context_ref': 'https://192.168.1.15/api/vrfcontext/vrfcontext-054e4876-bf3a-4124-ab94-ce379f1a11f2',\n",
    "   'ip_address': '192.168.1.151',\n",
    "   'placement_network_ref': 'https://192.168.1.15/api/network/network-80fa8f21-c62d-40c0-b6cf-fae51543925d',\n",
    "   'placement_network': 'network_source_mad_002'},\n",
    "  {'name': 'vsvip-source-152',\n",
    "   'vrf_context_ref': 'https://192.168.1.15/api/vrfcontext/vrfcontext-054e4876-bf3a-4124-ab94-ce379f1a11f2',\n",
    "   'ip_address': '192.168.1.152',\n",
    "   'placement_network_ref': 'https://192.168.1.15/api/network/network-80fa8f21-c62d-40c0-b6cf-fae51543925d',\n",
    "   'placement_network': 'network_source_mad_002'}]}"
   ]
  },
  {
   "cell_type": "code",
   "execution_count": null,
   "metadata": {},
   "outputs": [],
   "source": [
    "output_config[\"virtualservices\"]"
   ]
  },
  {
   "cell_type": "code",
   "execution_count": null,
   "metadata": {},
   "outputs": [],
   "source": [
    "from envs.controller_info import session_params as session_env\n",
    "from libs.clone import *\n",
    "import json\n",
    "\n",
    "# 6 Clone VirtualServices from a given source_vrf and segroup\n",
    "# Returns a new dictionary with cloned object configuration\n",
    "source_vrf=output_config[\"ip_routing_config\"][\"vrfcontext\"]\n",
    "#target_vrf=cloned_vrf[\"name\"]\n",
    "target_vrf= \"vrf_source_mad_002-NEW\"\n",
    "target_segroup = \"SEG-TARGET-MAD-001\"\n",
    "cloned_vss=[]\n",
    "for source_vs in output_config[\"virtualservices\"]:\n",
    "    source_vs_name = source_vs[\"name\"]\n",
    "    cloned_vs = clone_virtualservices (session_env, source_vs, target_vrf, target_segroup)\n",
    "    cloned_vss.append(cloned_vs)\n",
    "if (cloned_vss):\n",
    "    print(\"\\033[1mNew cloned VirtualServices summary\\033[0m\")\n",
    "    print(\"\\033[1m-------------------------\\033[0m\")\n",
    "    for item in cloned_vss:\n",
    "        print (\"Virtual Service name \\033[1m\"+item[\"name\"]+\"\\033[0m with following config:\")\n",
    "        print (\" - VRF Context name \"+item[\"vrf_context_ref\"].split(\"#\")[1])\n",
    "        print (\" - VSVIP name \"+item[\"vsvip_ref\"].split(\"#\")[1])\n",
    "        print (\" - Pool name \"+item[\"pool_ref\"].split(\"#\")[1])\n",
    "print()\n",
    "print(\"\\033[1mCheck full returned output for further verification:\\033[0m\")\n",
    "print(\"\\033[1m----------------------------------------------------\\033[0m\")\n",
    "print(json.dumps(cloned_vss, indent=3, sort_keys=True))"
   ]
  },
  {
   "cell_type": "code",
   "execution_count": 1,
   "metadata": {},
   "outputs": [
    {
     "ename": "NameError",
     "evalue": "name 'se_pairs' is not defined",
     "output_type": "error",
     "traceback": [
      "\u001b[0;31m---------------------------------------------------------------------------\u001b[0m",
      "\u001b[0;31mNameError\u001b[0m                                 Traceback (most recent call last)",
      "Cell \u001b[0;32mIn[1], line 79\u001b[0m\n\u001b[1;32m     77\u001b[0m \u001b[38;5;28;01mfrom\u001b[39;00m \u001b[38;5;21;01mlibs\u001b[39;00m\u001b[38;5;21;01m.\u001b[39;00m\u001b[38;5;21;01mmigrate\u001b[39;00m \u001b[38;5;28;01mimport\u001b[39;00m \u001b[38;5;241m*\u001b[39m\n\u001b[1;32m     78\u001b[0m \u001b[38;5;66;03m# Disable Interfaces at source SEs\u001b[39;00m\n\u001b[0;32m---> 79\u001b[0m \u001b[38;5;28;01mfor\u001b[39;00m i \u001b[38;5;129;01min\u001b[39;00m \u001b[38;5;28mrange\u001b[39m(\u001b[38;5;28mlen\u001b[39m(\u001b[43mse_pairs\u001b[49m)):\n\u001b[1;32m     80\u001b[0m   enable_interface(session_env, output_config[\u001b[38;5;124m\"\u001b[39m\u001b[38;5;124mse_pairs\u001b[39m\u001b[38;5;124m\"\u001b[39m][i][\u001b[38;5;124m\"\u001b[39m\u001b[38;5;124msource_se\u001b[39m\u001b[38;5;124m\"\u001b[39m][\u001b[38;5;124m\"\u001b[39m\u001b[38;5;124mse_name\u001b[39m\u001b[38;5;124m\"\u001b[39m], output_config[\u001b[38;5;124m\"\u001b[39m\u001b[38;5;124mse_pairs\u001b[39m\u001b[38;5;124m\"\u001b[39m][\u001b[38;5;124m\"\u001b[39m\u001b[38;5;124msource_se\u001b[39m\u001b[38;5;124m\"\u001b[39m][\u001b[38;5;124m\"\u001b[39m\u001b[38;5;124mif_name\u001b[39m\u001b[38;5;124m\"\u001b[39m])\n",
      "\u001b[0;31mNameError\u001b[0m: name 'se_pairs' is not defined"
     ]
    }
   ],
   "source": [
    "\n",
    "output_config={'ip_routing_config': {'vrfcontext': 'vrf_source_mad_002',\n",
    "  'vrf_ref': 'https://192.168.1.15/api/vrfcontext/vrfcontext-054e4876-bf3a-4124-ab94-ce379f1a11f2#vrf_source_mad_002',\n",
    "  'vrf_uuid': 'vrfcontext-054e4876-bf3a-4124-ab94-ce379f1a11f2',\n",
    "  'static_routes': [{'route_type': 'V4',\n",
    "    'route_prefix': '192.168.0.0',\n",
    "    'route_mask': 16,\n",
    "    'route_next_hop': '192.168.2.10'},\n",
    "   {'route_type': 'V4',\n",
    "    'route_prefix': '0.0.0.0',\n",
    "    'route_mask': 0,\n",
    "    'route_next_hop': '192.168.2.1'}]},\n",
    " 'se_pairs': [{'source_se': {'se_uuid': 'se-564d63c6-3882-ca52-7be5-b04c9ba78358',\n",
    "    'se_name': '192.168.1.22',\n",
    "    'if_name': 'eth1',\n",
    "    'if_vrf_ref': 'https://192.168.1.15/api/vrfcontext/vrfcontext-054e4876-bf3a-4124-ab94-ce379f1a11f2#vrf_source_mad_002',\n",
    "    'if_ip_addr': '192.168.2.22',\n",
    "    'if_mask': 24,\n",
    "    'if_mac_address': '00:0c:29:a7:83:8a'},\n",
    "   'target_se': {'se_uuid': 'se-564dcb90-ff93-dc99-bf4a-62907bc4a7af',\n",
    "    'se_name': '192.168.1.20',\n",
    "    'if_name': 'eth2'}},\n",
    "  {'source_se': {'se_uuid': 'se-564d0f61-3a27-ff26-8af7-306296a7610c',\n",
    "    'se_name': '192.168.1.23',\n",
    "    'if_name': 'eth1',\n",
    "    'if_vrf_ref': 'https://192.168.1.15/api/vrfcontext/vrfcontext-054e4876-bf3a-4124-ab94-ce379f1a11f2#vrf_source_mad_002',\n",
    "    'if_ip_addr': '192.168.2.23',\n",
    "    'if_mask': 24,\n",
    "    'if_mac_address': '00:0c:29:a7:61:3e'},\n",
    "   'target_se': {'se_uuid': 'se-564d5830-e7a9-edc0-194c-c76236ba47eb',\n",
    "    'se_name': '192.168.1.21',\n",
    "    'if_name': 'eth2'}}],\n",
    " 'network_service_config': {'_last_modified': '1724663564869200',\n",
    "  'cloud_ref': 'https://192.168.1.15/api/cloud/cloud-baf1f7f6-18ff-46cb-a134-6154d9af52a1',\n",
    "  'name': 'NS-SOURCE-MAD-002',\n",
    "  'routing_service': {'advertise_backend_networks': False,\n",
    "   'enable_auto_gateway': False,\n",
    "   'enable_routing': True,\n",
    "   'enable_vip_on_all_interfaces': True,\n",
    "   'enable_vmac': False,\n",
    "   'floating_intf_ip': [{'addr': '192.168.2.30', 'type': 'V4'},\n",
    "    {'addr': '192.168.2.31', 'type': 'V4'}],\n",
    "   'graceful_restart': False,\n",
    "   'routing_by_linux_ipstack': False},\n",
    "  'se_group_ref': 'https://192.168.1.15/api/serviceenginegroup/serviceenginegroup-e5b13687-efbb-4417-9302-b1d37c367c8b',\n",
    "  'service_type': 'ROUTING_SERVICE',\n",
    "  'tenant_ref': 'https://192.168.1.15/api/tenant/admin',\n",
    "  'url': 'https://192.168.1.15/api/networkservice/networkservice-0ea7992a-7ed2-4a48-836d-e267eae39cc0',\n",
    "  'uuid': 'networkservice-0ea7992a-7ed2-4a48-836d-e267eae39cc0',\n",
    "  'vrf_ref': 'https://192.168.1.15/api/vrfcontext/vrfcontext-054e4876-bf3a-4124-ab94-ce379f1a11f2'},\n",
    " 'virtualservices': [{'name': 'VS_SOURCE_151',\n",
    "   'pool_ref': 'https://192.168.1.15/api/pool/pool-6a200b81-f82c-4470-981c-9fbf5a9493d3#nginx-003',\n",
    "   'se_group_ref': 'https://192.168.1.15/api/serviceenginegroup/serviceenginegroup-e5b13687-efbb-4417-9302-b1d37c367c8b#SEG-SOURCE-MAD-002',\n",
    "   'url': 'https://192.168.1.15/api/virtualservice/virtualservice-3ca11aba-3419-4691-bce7-b4b925b78617#VS_SOURCE_151',\n",
    "   'uuid': 'virtualservice-3ca11aba-3419-4691-bce7-b4b925b78617',\n",
    "   'vrf_context_ref': 'https://192.168.1.15/api/vrfcontext/vrfcontext-054e4876-bf3a-4124-ab94-ce379f1a11f2#vrf_source_mad_002',\n",
    "   'vsvip_ref': 'https://192.168.1.15/api/vsvip/vsvip-dcf988a0-6e58-4f9f-b8ac-14754cff44dd#vsvip-source-151'},\n",
    "  {'name': 'VS_SOURCE_152',\n",
    "   'pool_ref': 'https://192.168.1.15/api/pool/pool-826a3189-a03f-4d12-bd31-b5df89d73120#nginx-004',\n",
    "   'se_group_ref': 'https://192.168.1.15/api/serviceenginegroup/serviceenginegroup-e5b13687-efbb-4417-9302-b1d37c367c8b#SEG-SOURCE-MAD-002',\n",
    "   'url': 'https://192.168.1.15/api/virtualservice/virtualservice-28210162-9d9d-4d5b-9169-0b329fde1bcd#VS_SOURCE_152',\n",
    "   'uuid': 'virtualservice-28210162-9d9d-4d5b-9169-0b329fde1bcd',\n",
    "   'vrf_context_ref': 'https://192.168.1.15/api/vrfcontext/vrfcontext-054e4876-bf3a-4124-ab94-ce379f1a11f2#vrf_source_mad_002',\n",
    "   'vsvip_ref': 'https://192.168.1.15/api/vsvip/vsvip-205d1da9-61ff-48b0-9f66-45516eb7ada7#vsvip-source-152'}],\n",
    " 'network_config': ['network_source_mad_002'],\n",
    " 'vsvips_config': [{'name': 'vsvip-source-151',\n",
    "   'vrf_context_ref': 'https://192.168.1.15/api/vrfcontext/vrfcontext-054e4876-bf3a-4124-ab94-ce379f1a11f2',\n",
    "   'ip_address': '192.168.1.151',\n",
    "   'placement_network_ref': 'https://192.168.1.15/api/network/network-80fa8f21-c62d-40c0-b6cf-fae51543925d',\n",
    "   'placement_network': 'network_source_mad_002'},\n",
    "  {'name': 'vsvip-source-152',\n",
    "   'vrf_context_ref': 'https://192.168.1.15/api/vrfcontext/vrfcontext-054e4876-bf3a-4124-ab94-ce379f1a11f2',\n",
    "   'ip_address': '192.168.1.152',\n",
    "   'placement_network_ref': 'https://192.168.1.15/api/network/network-80fa8f21-c62d-40c0-b6cf-fae51543925d',\n",
    "   'placement_network': 'network_source_mad_002'}]}\n"
   ]
  },
  {
   "cell_type": "code",
   "execution_count": 3,
   "metadata": {},
   "outputs": [
    {
     "data": {
      "text/plain": [
       "'eth1'"
      ]
     },
     "execution_count": 3,
     "metadata": {},
     "output_type": "execute_result"
    }
   ],
   "source": [
    "output_config[\"se_pairs\"][0][\"source_se\"][\"if_name\"]"
   ]
  },
  {
   "cell_type": "code",
   "execution_count": 4,
   "metadata": {},
   "outputs": [
    {
     "name": "stdout",
     "output_type": "stream",
     "text": [
      "<Response [200]>\n",
      "- Object serviceengine/se-564d63c6-3882-ca52-7be5-b04c9ba78358 modified OK\n",
      "\n",
      "<Response [200]>\n",
      "- Object serviceengine/se-564d0f61-3a27-ff26-8af7-306296a7610c modified OK\n",
      "\n"
     ]
    }
   ],
   "source": [
    "from envs.controller_info import session_params as session_env\n",
    "from libs.migrate import *\n",
    "# Disable Interface at target SEs\n",
    "for i in range(len(output_config[\"se_pairs\"])):\n",
    "  se_name = output_config[\"se_pairs\"][i][\"source_se\"][\"se_name\"]\n",
    "  if_name = output_config[\"se_pairs\"][i][\"source_se\"][\"if_name\"]\n",
    "  enable_interface(session_env, se_name, if_name)"
   ]
  },
  {
   "cell_type": "code",
   "execution_count": null,
   "metadata": {},
   "outputs": [],
   "source": [
    "# Apply Interface configuration at target SEs\n",
    "for i in range(len(output_config[\"se_pairs\"])):\n",
    "  se_name = output_config[\"se_pairs\"][i][\"source_se\"][\"se_name\"]\n",
    "  if_name = output_config[\"se_pairs\"][i][\"source_se\"][\"if_name\"]\n",
    "  enable_interface(session_env, se_name, if_name)"
   ]
  },
  {
   "cell_type": "code",
   "execution_count": null,
   "metadata": {},
   "outputs": [],
   "source": [
    "# Disable interface configuration at source SE \n",
    "for i in range(len(output_config[\"se_pairs\"])):\n",
    "  se_name = output_config[\"se_pairs\"][i][\"source_se\"][\"se_name\"]\n",
    "  if_name = output_config[\"se_pairs\"][i][\"source_se\"][\"if_name\"]\n",
    "  enable_interface(session_env, se_name, if_name)"
   ]
  },
  {
   "cell_type": "code",
   "execution_count": null,
   "metadata": {},
   "outputs": [],
   "source": [
    "# Enable interface configuration at source SE \n",
    "for i in range(len(output_config[\"se_pairs\"])):\n",
    "  se_name = output_config[\"se_pairs\"][i][\"source_se\"][\"se_name\"]\n",
    "  if_name = output_config[\"se_pairs\"][i][\"source_se\"][\"if_name\"]\n",
    "  enable_interface(session_env, se_name, if_name)"
   ]
  },
  {
   "cell_type": "code",
   "execution_count": null,
   "metadata": {},
   "outputs": [],
   "source": [
    "from envs.controller_info import session_params as session_env\n",
    "from libs.migrate import *\n",
    "disable_interface(session_env, se_pairs[0][\"source_se_uuid\"], se_pairs[0][\"source_if_name\"])"
   ]
  },
  {
   "cell_type": "code",
   "execution_count": null,
   "metadata": {},
   "outputs": [],
   "source": [
    "from envs.controller_info import session_params as session_env\n",
    "from libs.migrate import *\n",
    "import json\n",
    "\n",
    "# 5 Clone Pools related to an VS existing in a given source VRF and duplicate into a target_vrf \n",
    "# Returns a new dictionary with cloned object configuration\n",
    "source_vrf=output_config[\"ip_routing_config\"][\"vrfcontext\"]\n",
    "#target_vrf=cloned_vrf[\"name\"]\n",
    "target_vrf= \"vrf_source_mad_002-NEW\"\n",
    "cloned_pools = []\n",
    "for source_vs in output_config[\"virtualservices\"]:\n",
    "    source_vs_name = vs[\"name\"]\n",
    "    cloned_pool = clone_pools (session_env, source_vs, target_vrf)\n",
    "    cloned_pools.append(cloned_pool)\n",
    "if (cloned_pools):\n",
    "    print(\"\\033[1mNew cloned objects summary\\033[0m\")\n",
    "    print(\"\\033[1m-------------------------\\033[0m\")\n",
    "    for pool in cloned_pools:\n",
    "        print (\"Pool named \\033[1m\"+pool[\"name\"]+\"\\033[0m with following servers:\")\n",
    "        for server in pool[\"servers\"]:\n",
    "           print (\" - Server IP \"+server[\"ip\"][\"addr\"])\n",
    "print()\n",
    "print(\"\\033[1mCheck full returned output for further verification:\\033[0m\")\n",
    "print(\"\\033[1m----------------------------------------------------\\033[0m\")\n",
    "print(json.dumps(cloned_pools, indent=3, sort_keys=True))"
   ]
  },
  {
   "cell_type": "code",
   "execution_count": null,
   "metadata": {},
   "outputs": [],
   "source": [
    "cloned_vsvipssource_vrf=output_config[\"ip_routing_config\"][\"vrfcontext\"]\n",
    "target_vrf=cloned_vrf[\"name\"]\n",
    "cloned_vsvips=[]\n",
    "for vsvip in output_config[\"vsvips_config\"]:\n",
    "    target_network = vsvip[\"placement_network\"]+\"-NEW\"\n",
    "    vsvip_name = vsvip[\"name\"]\n",
    "    cloned_vsvip = clone_vsvips(session_env, vsvip_name, target_vrf, target_network)\n",
    "    cloned_vsvips.append(cloned_vsvip)\n",
    "if (cloned_vsvips):\n",
    "    print(\"\\033[1mNew cloned objects summary for network\"+target_network+\"\\033[0m\")\n",
    "    print(\"\\033[1m------------------------------------------------------\\033[0m\")\n",
    "    for item in cloned_vsvips:\n",
    "      print (\"VSVIP named \\033[1m\"+item[\"name\"]+\"\\033[0m with IP Address \\033[1m\"+item[\"vip\"][0][\"ip_address\"][\"addr\"]+\"\\033[0m at target VRF \\033[1m\"+ target_vrf+\"\\033[0m\")\n",
    "print()\n",
    "print(\"\\033[1mCheck full returned output for further verification:\\033[0m\")\n",
    "print(\"\\033[1m----------------------------------------------------\\033[0m\")\n",
    "print(json.dumps(cloned_vsvips, indent=3, sort_keys=True))"
   ]
  },
  {
   "cell_type": "code",
   "execution_count": null,
   "metadata": {},
   "outputs": [],
   "source": [
    "\n",
    "# 2 Clone network object in the previously cloned VRF\n",
    "# Returns a new dictionary with cloned object \n",
    "target_vrf = cloned_vrf[\"name\"]\n",
    "#target_vrf= \"vrf_source_mad_002-NEW\"\n",
    "source_network = \"network_source_mad_002\"\n",
    "cloned_network = clone_network (session_env, source_network, target_vrf)\n",
    "print()\n",
    "print(\"\\033[1mCheck returned output for further verification:\\033[0m\")\n",
    "print(\"\\033[1m-----------------------------------------------\\033[0m\")\n",
    "print(json.dumps(cloned_network, indent=3, sort_keys=True))\n"
   ]
  },
  {
   "cell_type": "code",
   "execution_count": null,
   "metadata": {},
   "outputs": [],
   "source": [
    "\n",
    "# 3 Clone existing networkservice object in the previously cloned VRF in the target service engine group. \n",
    "# Returns a new dictionary with cloned object configuration \n",
    "#target_vrf = \"vrf_source_mad_002-NEW\"\n",
    "#target_segroup = \"SEG-TARGET-MAD-001\"\n",
    "source_networkservice = \"NS-SOURCE-MAD-002\"\n",
    "cloned_networkservice = clone_networkservice (session_env, source_networkservice, target_vrf, target_segroup )\n",
    "print()\n",
    "print(\"\\033[1mCheck returned output for further verification:\\033[0m\")\n",
    "print(\"\\033[1m-----------------------------------------------\\033[0m\")\n",
    "print(json.dumps(cloned_networkservice, indent=3, sort_keys=True))\n",
    "\n"
   ]
  },
  {
   "cell_type": "code",
   "execution_count": null,
   "metadata": {},
   "outputs": [],
   "source": [
    "\n",
    "# 4 Clone existing VSVIPs objects extracted from a source VRF into the previously cloned VRF into the target service engine group. \n",
    "# Returns a new dictionary with cloned object configuration\n",
    "#source_vrf=\"vrf_source_mad_002\"\n",
    "#target_vrf=\"vrf_source_mad_002-NEW\"\n",
    "#target_network=\"network_source_mad_002-NEW\"\n",
    "target_network = cloned_network[\"name\"]\n",
    "cloned_vsvips = clone_vsvips(session_env, source_vrf, target_vrf, target_network)\n",
    "if (cloned_vsvips):\n",
    "    print(\"\\033[1mNew cloned objects summary\\033[0m\")\n",
    "    print(\"\\033[1m-------------------------\\033[0m\")\n",
    "    for item in cloned_vsvips:\n",
    "        print (\"VSVIP named \\033[1m\"+item[\"name\"]+\"\\033[0m with IP Address \\033[1m\"+item[\"vip\"][0][\"ip_address\"][\"addr\"]+\"\\033[0m at target VRF \\033[1m\"+ target_vrf+\"\\033[0m\")\n",
    "print()\n",
    "print(\"\\033[1mCheck full returned output for further verification:\\033[0m\")\n",
    "print(\"\\033[1m----------------------------------------------------\\033[0m\")\n",
    "print(json.dumps(cloned_vsvips, indent=3, sort_keys=True))\n"
   ]
  },
  {
   "cell_type": "code",
   "execution_count": null,
   "metadata": {},
   "outputs": [],
   "source": [
    "\n",
    "# 5 Clone Pools related to VS existing in a given source VRF and duplicate into a target_vrf \n",
    "# Returns a new dictionary with cloned object configuration\n",
    "#source_vrf=\"vrf_source_mad_002\"\n",
    "#target_vrf=\"vrf_source_mad_002-NEW\"\n",
    "\n",
    "cloned_pools = clone_pools (session_env, source_vrf, target_vrf)\n",
    "if (cloned_pools):\n",
    "    print(\"\\033[1mNew cloned objects summary\\033[0m\")\n",
    "    print(\"\\033[1m-------------------------\\033[0m\")\n",
    "    for item in cloned_pools:\n",
    "        print (\"Pool named \\033[1m\"+item[\"name\"]+\"\\033[0m with following servers:\")\n",
    "        for server in item[\"servers\"]:\n",
    "           print (\" - Server IP \"+server[\"ip\"][\"addr\"])\n",
    "print()\n",
    "#print(\"\\033[1mCheck full returned output for further verification:\\033[0m\")\n",
    "#print(\"\\033[1m----------------------------------------------------\\033[0m\")\n",
    "#print(json.dumps(cloned_pools, indent=3, sort_keys=True))\n",
    "\n"
   ]
  },
  {
   "cell_type": "code",
   "execution_count": null,
   "metadata": {},
   "outputs": [],
   "source": [
    "# 6 Clone VirtualServices from a given source_vrf and segroup\n",
    "# Returns a new dictionary with cloned object configuration\n",
    "source_vrf=\"vrf_source_mad_002\"\n",
    "target_vrf=\"vrf_source_mad_002-NEW\"\n",
    "source_segroup = \"SEG-SOURCE-MAD-002\"\n",
    "target_segroup = \"SEG-TARGET-MAD-001\"\n",
    "cloned_vss = clone_virtualservices (session_env, source_vrf, source_segroup, target_vrf, target_segroup)\n",
    "if (cloned_vss):\n",
    "    print(\"\\033[1mNew cloned VirtualServices summary\\033[0m\")\n",
    "    print(\"\\033[1m-------------------------\\033[0m\")\n",
    "    for item in cloned_vss:\n",
    "        print (\"Virtual Service name \\033[1m\"+item[\"name\"]+\"\\033[0m with following config:\")\n",
    "        print (\" - VRF Context name \"+item[\"vrf_context_ref\"].split(\"#\")[1])\n",
    "        print (\" - VSVIP name \"+item[\"vsvip_ref\"].split(\"#\")[1])\n",
    "        print (\" - Pool name \"+item[\"pool_ref\"].split(\"#\")[1])\n",
    "print()\n",
    "print(\"\\033[1mCheck full returned output for further verification:\\033[0m\")\n",
    "print(\"\\033[1m----------------------------------------------------\\033[0m\")\n",
    "print(json.dumps(cloned_vss, indent=3, sort_keys=True))\n"
   ]
  },
  {
   "cell_type": "code",
   "execution_count": null,
   "metadata": {},
   "outputs": [],
   "source": [
    "print(\"\\033[1mCheck full returned output for further verification:\\033[0m\")\n",
    "print(\"\\033[1m----------------------------------------------------\\033[0m\")\n",
    "print(json.dumps(cloned_vss, indent=3, sort_keys=True))\n"
   ]
  },
  {
   "cell_type": "code",
   "execution_count": null,
   "metadata": {},
   "outputs": [],
   "source": [
    "options = [\"Option 1\", \"Option 2\", \"Option 3\"]\n",
    "from libs.aux import *\n",
    "\n",
    "selected_option = display_menu_from_list(options)\n",
    "    \n",
    "if selected_option:\n",
    "    print(f\"You selected: {selected_option}\")\n",
    "else:\n",
    "    print(\"No valid option was selected.\")"
   ]
  }
 ],
 "metadata": {
  "kernelspec": {
   "display_name": "Python 3",
   "language": "python",
   "name": "python3"
  },
  "language_info": {
   "codemirror_mode": {
    "name": "ipython",
    "version": 3
   },
   "file_extension": ".py",
   "mimetype": "text/x-python",
   "name": "python",
   "nbconvert_exporter": "python",
   "pygments_lexer": "ipython3",
   "version": "3.10.12"
  }
 },
 "nbformat": 4,
 "nbformat_minor": 2
}
