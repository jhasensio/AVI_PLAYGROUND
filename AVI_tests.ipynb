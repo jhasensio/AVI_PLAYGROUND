{
 "cells": [
  {
   "cell_type": "markdown",
   "metadata": {},
   "source": [
    "### Import Libraries"
   ]
  },
  {
   "cell_type": "code",
   "execution_count": 1,
   "metadata": {},
   "outputs": [
    {
     "name": "stdout",
     "output_type": "stream",
     "text": [
      "Successful connection to avicontroller. Session ID:batz2vtezpap548ciw8uiazvzlijgesg\n"
     ]
    }
   ],
   "source": [
    "from avi.sdk.avi_api import ApiSession\n",
    "import datetime, time\n",
    "from requests.packages import urllib3\n",
    "urllib3.disable_warnings()\n",
    "import json\n",
    "from envs.controller_info import session_params as session_env\n",
    "# Establish a first session\n",
    "api = ApiSession(\n",
    "    controller_ip=session_env['controller_ip'],\n",
    "    username=session_env['controller_username'],\n",
    "    password=session_env['controller_password'],\n",
    "    tenant=session_env['tenant'],\n",
    "    api_version=session_env['api_version']\n",
    "    )\n",
    "# Update headers and api version imported from demo env file with controller version (ensure actual API Version is uses in subsequent requests\n",
    "session_env['headers']['X-Avi-Version'] = api.remote_api_version['Version']\n",
    "session_env['api_version'] = api.remote_api_version['Version']\n",
    "\n",
    "# Create a new session with received AVI API Version\n",
    "api = ApiSession(\n",
    "    controller_ip=session_env['controller_ip'],\n",
    "    username=session_env['controller_username'],\n",
    "    password=session_env['controller_password'],\n",
    "    tenant=session_env['tenant'],\n",
    "    api_version=session_env['api_version']\n",
    "    )\n",
    "### Display Session ID to Verify AVI Controller Session Establishment\n",
    "print('Successful connection to ' + session_env['name'] + '. Session ID:' + api.session_id)"
   ]
  },
  {
   "cell_type": "code",
   "execution_count": 2,
   "metadata": {},
   "outputs": [
    {
     "name": "stdout",
     "output_type": "stream",
     "text": [
      "Sending request to following URL: https://192.168.1.15/api/networkservice\n"
     ]
    },
    {
     "data": {
      "text/plain": [
       "{'count': 0, 'results': []}"
      ]
     },
     "execution_count": 2,
     "metadata": {},
     "output_type": "execute_result"
    }
   ],
   "source": [
    "query= { \n",
    "    }\n",
    "resp = api.get('networkservice', params=query)\n",
    "print (\"Sending request to following URL: \" +resp.url)\n",
    "json.loads(resp.text)"
   ]
  },
  {
   "cell_type": "code",
   "execution_count": 16,
   "metadata": {},
   "outputs": [
    {
     "name": "stdout",
     "output_type": "stream",
     "text": [
      "Sending request to following URL: https://192.168.1.15/api/networkservice\n"
     ]
    },
    {
     "data": {
      "text/plain": [
       "{'count': 1,\n",
       " 'results': [{'_last_modified': '1724312384385207',\n",
       "   'cloud_ref': 'https://192.168.1.15/api/cloud/cloud-baf1f7f6-18ff-46cb-a134-6154d9af52a1',\n",
       "   'name': 'NS-SOURCE-MAD-002',\n",
       "   'routing_service': {'advertise_backend_networks': False,\n",
       "    'enable_auto_gateway': False,\n",
       "    'enable_routing': True,\n",
       "    'enable_vip_on_all_interfaces': True,\n",
       "    'enable_vmac': False,\n",
       "    'floating_intf_ip': [{'addr': '192.168.2.30', 'type': 'V4'}],\n",
       "    'graceful_restart': False,\n",
       "    'routing_by_linux_ipstack': False},\n",
       "   'se_group_ref': 'https://192.168.1.15/api/serviceenginegroup/serviceenginegroup-e5b13687-efbb-4417-9302-b1d37c367c8b',\n",
       "   'service_type': 'ROUTING_SERVICE',\n",
       "   'tenant_ref': 'https://192.168.1.15/api/tenant/admin',\n",
       "   'url': 'https://192.168.1.15/api/networkservice/networkservice-00976445-ccf6-4fdf-9c5a-be7e4d3e56ad',\n",
       "   'uuid': 'networkservice-00976445-ccf6-4fdf-9c5a-be7e4d3e56ad',\n",
       "   'vrf_ref': 'https://192.168.1.15/api/vrfcontext/vrfcontext-e69db980-a4b4-4097-8717-7702fdba30b6'}]}"
      ]
     },
     "execution_count": 16,
     "metadata": {},
     "output_type": "execute_result"
    }
   ],
   "source": [
    "url_path = \"networkservice\"\n",
    "resp = api.get(url_path)\n",
    "print (\"Sending request to following URL: \" +resp.url)\n",
    "json.loads(resp.text)"
   ]
  },
  {
   "cell_type": "code",
   "execution_count": 3,
   "metadata": {},
   "outputs": [],
   "source": [
    "\n",
    "from libs.inventory_example import fetch_data"
   ]
  },
  {
   "cell_type": "code",
   "execution_count": 8,
   "metadata": {},
   "outputs": [
    {
     "data": {
      "text/plain": [
       "[VSData(name='vs-example-org1', uuid='virtualservice-6bd64913-d5f4-41d7-ade9-eb2e7c003b23', domain_name=None, pool_names=['nginx-pool'], pool_refs=['/api/pool/pool-66773fdb-8d10-4823-9257-51fffed6b1d4#nginx-pool'], vh_parent_vs_name='', metrics={'l7_client.sum_total_responses': {'value': 0.0, 'timestamp': '2024-08-22T06:43:40+00:00'}}),\n",
       " VSData(name='VS_SOURCE_001', uuid='virtualservice-c460f4eb-df41-412a-9ef0-e899d2759495', domain_name=None, pool_names=[], pool_refs=[], vh_parent_vs_name='', metrics={'l7_client.sum_total_responses': {'value': 0.0, 'timestamp': '2024-08-22T06:43:40+00:00'}}),\n",
       " VSData(name='VS_SOURCE_002', uuid='virtualservice-75e79ba3-ac2b-4dab-8e91-c5184d1d8657', domain_name=None, pool_names=[], pool_refs=[], vh_parent_vs_name='', metrics={'l7_client.sum_total_responses': {'value': 0.0, 'timestamp': '2024-08-22T06:43:40+00:00'}}),\n",
       " VSData(name='VS_SOURCE_003', uuid='virtualservice-2521ab05-03ff-4eaf-8828-cf71ef50c226', domain_name=None, pool_names=[], pool_refs=[], vh_parent_vs_name='', metrics={'l7_client.sum_total_responses': {'value': 0.0, 'timestamp': '2024-08-22T06:43:40+00:00'}}),\n",
       " VSData(name='VS_TARGET_001', uuid='virtualservice-e9a9a1a0-43bb-4596-9f68-ce053d3fac94', domain_name=None, pool_names=[], pool_refs=[], vh_parent_vs_name='', metrics={'l7_client.sum_total_responses': {'value': 0.0, 'timestamp': '2024-08-22T06:43:40+00:00'}}),\n",
       " VSData(name='VS_TARGET_002', uuid='virtualservice-1be2d786-49ca-457c-8c35-01764d0f230f', domain_name=None, pool_names=[], pool_refs=[], vh_parent_vs_name='', metrics={'l7_client.sum_total_responses': {'value': 0.0, 'timestamp': '2024-08-22T06:43:40+00:00'}}),\n",
       " VSData(name='VS_TARGET_003', uuid='virtualservice-b6fbcfe6-2e55-45f1-9da7-37b780a42d41', domain_name=None, pool_names=[], pool_refs=[], vh_parent_vs_name='', metrics={'l7_client.sum_total_responses': {'value': 0.0, 'timestamp': '2024-08-22T06:43:40+00:00'}})]"
      ]
     },
     "execution_count": 8,
     "metadata": {},
     "output_type": "execute_result"
    }
   ],
   "source": [
    "fetch_data(api, \"Default-Cloud\", \"admin\", \"l7_client.sum_total_responses\")"
   ]
  }
 ],
 "metadata": {
  "kernelspec": {
   "display_name": "Python 3",
   "language": "python",
   "name": "python3"
  },
  "language_info": {
   "codemirror_mode": {
    "name": "ipython",
    "version": 3
   },
   "file_extension": ".py",
   "mimetype": "text/x-python",
   "name": "python",
   "nbconvert_exporter": "python",
   "pygments_lexer": "ipython3",
   "version": "3.10.12"
  }
 },
 "nbformat": 4,
 "nbformat_minor": 2
}
