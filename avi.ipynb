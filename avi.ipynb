{
 "cells": [
  {
   "cell_type": "markdown",
   "metadata": {},
   "source": [
    "# AVI API Playground\n",
    "\n",
    "This is for first steps... of AVI by using Jupyter\n",
    "\n",
    "https://avinetworks.com/docs/latest/api-guide/overview.html \n",
    "\n",
    "\n",
    "https://github.com/avinetworks/sdk/blob/master/python/avi/sdk/README.md\n",
    "\n",
    "[1.- Initial Login](#1--initial-login)\n",
    "[2.- Read Operations](#import-libraries)"
   ]
  },
  {
   "cell_type": "markdown",
   "metadata": {},
   "source": [
    "## 1.- Initial Login"
   ]
  },
  {
   "cell_type": "markdown",
   "metadata": {},
   "source": [
    "In this step bla, bla, bla\n"
   ]
  },
  {
   "cell_type": "markdown",
   "metadata": {},
   "source": [
    "### Import Libraries"
   ]
  },
  {
   "cell_type": "code",
   "execution_count": 22,
   "metadata": {},
   "outputs": [],
   "source": [
    "from avi.sdk.avi_api import ApiSession\n",
    "import datetime, time\n",
    "from requests.packages import urllib3\n",
    "urllib3.disable_warnings()"
   ]
  },
  {
   "cell_type": "markdown",
   "metadata": {},
   "source": [
    "### Import Environment Session Variables"
   ]
  },
  {
   "cell_type": "code",
   "execution_count": 23,
   "metadata": {},
   "outputs": [],
   "source": [
    "from envs.controller_info import session_params as session_env"
   ]
  },
  {
   "cell_type": "code",
   "execution_count": 24,
   "metadata": {},
   "outputs": [],
   "source": [
    "# Establish a first session\n",
    "api = ApiSession(\n",
    "    controller_ip=session_env['controller_ip'],\n",
    "    username=session_env['controller_username'],\n",
    "    password=session_env['controller_password'],\n",
    "    tenant=session_env['tenant'],\n",
    "    api_version=session_env['api_version']\n",
    "    )\n",
    "# Update headers and api version imported from demo env file with controller version (ensure actual API Version is uses in subsequent requests\n",
    "session_env['headers']['X-Avi-Version'] = api.remote_api_version['Version']\n",
    "session_env['api_version'] = api.remote_api_version['Version']\n",
    "\n",
    "# Create a new session with received AVI API Version\n",
    "api = ApiSession(\n",
    "    controller_ip=session_env['controller_ip'],\n",
    "    username=session_env['controller_username'],\n",
    "    password=session_env['controller_password'],\n",
    "    tenant=session_env['tenant'],\n",
    "    api_version=session_env['api_version']\n",
    "    )"
   ]
  },
  {
   "cell_type": "markdown",
   "metadata": {},
   "source": [
    "### Display Session ID to Verify AVI Controller Session Establishment"
   ]
  },
  {
   "cell_type": "code",
   "execution_count": 25,
   "metadata": {},
   "outputs": [
    {
     "name": "stdout",
     "output_type": "stream",
     "text": [
      "Successful connection to avicontroller. Session ID:6mo8t0rxrui350rexjx18kxcpawh0g2q\n"
     ]
    }
   ],
   "source": [
    "print('Successful connection to ' + session_env['name'] + '. Session ID:' + api.session_id)"
   ]
  },
  {
   "cell_type": "markdown",
   "metadata": {},
   "source": [
    "## 2.- Read Operations"
   ]
  },
  {
   "cell_type": "markdown",
   "metadata": {},
   "source": [
    "Get is a common method to read information.\n",
    "You can get information of your current setup easily invoking the corresponding API\n",
    "\n",
    "AVI has dozens of APIs... \n",
    "   - Use https://controller/swagger to understand different API\n",
    "   - You can easily infere the API when navigating through the GUI just looking at the address bar used in the GUI \n",
    "\n",
    "   Example if the GUI shows https://192.168.1.15/#!/admin/applications/virtualservice that means you are in the **admin** tenant and you are using the **virtualservice** API\n",
    "\n",
    "   In the previous step we created an AVI API session object that we called *api*. \n",
    "   Let's invoke the get method over our api object to inspect the output"
   ]
  },
  {
   "cell_type": "markdown",
   "metadata": {},
   "source": [
    "### 2.1 API Object **Get** Method"
   ]
  },
  {
   "cell_type": "markdown",
   "metadata": {},
   "source": [
    "Import some required Libraries first"
   ]
  },
  {
   "cell_type": "code",
   "execution_count": 26,
   "metadata": {},
   "outputs": [],
   "source": [
    "import json"
   ]
  },
  {
   "cell_type": "markdown",
   "metadata": {},
   "source": [
    "Now create a new object named vs with will contain the output of the get method using the virtualservice API path"
   ]
  },
  {
   "cell_type": "code",
   "execution_count": 27,
   "metadata": {},
   "outputs": [],
   "source": [
    "vs = api.get('virtualservice')"
   ]
  },
  {
   "cell_type": "markdown",
   "metadata": {},
   "source": [
    "The request produces a json formatted output. You can change it by using "
   ]
  },
  {
   "cell_type": "code",
   "execution_count": 28,
   "metadata": {},
   "outputs": [
    {
     "data": {
      "text/plain": [
       "{'count': 2,\n",
       " 'results': [{'_last_modified': '1720707512296814',\n",
       "   'active_standby_se_tag': 'ACTIVE_STANDBY_SE_1',\n",
       "   'advertise_down_vs': False,\n",
       "   'allow_invalid_client_cert': False,\n",
       "   'analytics_policy': {'all_headers': True,\n",
       "    'client_insights': 'NO_INSIGHTS',\n",
       "    'full_client_logs': {'duration': 0, 'enabled': True, 'throttle': 10},\n",
       "    'learning_log_policy': {'enabled': False},\n",
       "    'metrics_realtime_update': {'duration': 0, 'enabled': True},\n",
       "    'significant_log_throttle': 10,\n",
       "    'udf_log_throttle': 10},\n",
       "   'analytics_profile_ref': 'https://192.168.1.15/api/analyticsprofile/analyticsprofile-768ef0ed-a2ac-427c-92c7-8715ce805374',\n",
       "   'application_profile_ref': 'https://192.168.1.15/api/applicationprofile/applicationprofile-a70f9a51-201c-428a-ac55-8d70e840650f',\n",
       "   'bulk_sync_kvcache': False,\n",
       "   'close_client_conn_on_config_update': False,\n",
       "   'cloud_ref': 'https://192.168.1.15/api/cloud/cloud-baf1f7f6-18ff-46cb-a134-6154d9af52a1',\n",
       "   'cloud_type': 'CLOUD_NONE',\n",
       "   'content_rewrite': {'rewritable_content_ref': 'https://192.168.1.15/api/stringgroup/stringgroup-caeef771-f17f-4099-936b-33023eb37300'},\n",
       "   'delay_fairness': False,\n",
       "   'east_west_placement': False,\n",
       "   'enable_autogw': True,\n",
       "   'enabled': True,\n",
       "   'error_page_profile_ref': 'https://192.168.1.15/api/errorpageprofile/errorpageprofile-aed90b14-c20b-4228-a63d-1a0cc585e784',\n",
       "   'flow_dist': 'LOAD_AWARE',\n",
       "   'flow_label_type': 'NO_LABEL',\n",
       "   'http_policies': [{'http_policy_set_ref': 'https://192.168.1.15/api/httppolicyset/httppolicyset-270eb82f-1558-44fb-92fe-c349dd597fdd',\n",
       "     'index': 11}],\n",
       "   'ign_pool_net_reach': False,\n",
       "   'limit_doser': False,\n",
       "   'marked_for_delete': False,\n",
       "   'markers': [{'key': 'division', 'values': ['org1']}],\n",
       "   'max_cps_per_client': 0,\n",
       "   'name': 'vs-example-org1',\n",
       "   'network_profile_ref': 'https://192.168.1.15/api/networkprofile/networkprofile-4ee2f4b9-728c-4437-a81a-0f7ad3550097',\n",
       "   'network_security_policy_ref': 'https://192.168.1.15/api/networksecuritypolicy/networksecuritypolicy-03e5cea0-8e03-4afd-bfb7-a8a328133c17',\n",
       "   'pool_ref': 'https://192.168.1.15/api/pool/pool-9f434947-9a77-4c0f-a19d-62b359b1ed5c',\n",
       "   'redis_db': 5,\n",
       "   'redis_port': 5025,\n",
       "   'remove_listening_port_on_vs_down': False,\n",
       "   'scaleout_ecmp': False,\n",
       "   'se_group_ref': 'https://192.168.1.15/api/serviceenginegroup/serviceenginegroup-17a49de4-afad-4929-a8e1-297be6ab9d70',\n",
       "   'self_se_election': True,\n",
       "   'services': [{'enable_http2': False,\n",
       "     'enable_ssl': True,\n",
       "     'horizon_internal_ports': False,\n",
       "     'is_active_ftp_data_port': False,\n",
       "     'port': 443,\n",
       "     'port_range_end': 443}],\n",
       "   'sideband_profile': {'sideband_max_request_body_size': 1024},\n",
       "   'ssl_key_and_certificate_refs': ['https://192.168.1.15/api/sslkeyandcertificate/sslkeyandcertificate-f2012485-19ec-4adf-ad16-8ae102a661e3'],\n",
       "   'ssl_profile_ref': 'https://192.168.1.15/api/sslprofile/sslprofile-ec1f5255-6430-4441-8b2b-33d981939c79',\n",
       "   'ssl_sess_cache_avg_size': 1024,\n",
       "   'tenant_ref': 'https://192.168.1.15/api/tenant/admin',\n",
       "   'tls_ticket_key': [{'aes_key': 'Xr9esAYxM0esFU5MA6/lBA==',\n",
       "     'hmac_key': 'OkMp31EIEZZLSBMhZNH6yg==',\n",
       "     'name': 'afa6bc93-166a-4efb-86cb-2e7c49d50262'},\n",
       "    {'aes_key': 'uN0gFzIy2z14mtnqV2egWQ==',\n",
       "     'hmac_key': 'ERY5oIrqKTff8vP5Agdf6Q==',\n",
       "     'name': 'c1a37021-8eec-4cbd-901b-dc2b75eadc96'},\n",
       "    {'aes_key': 'Wzw26RrA1ouXOne7RK82EA==',\n",
       "     'hmac_key': 'AI90Md57Cyfp6AlhDK7L9w==',\n",
       "     'name': '25ffd010-321a-4998-be49-9703c3be9bca'}],\n",
       "   'traffic_enabled': True,\n",
       "   'type': 'VS_TYPE_NORMAL',\n",
       "   'url': 'https://192.168.1.15/api/virtualservice/virtualservice-f851f486-66d3-48ed-bfaa-d749c477f91c',\n",
       "   'use_bridge_ip_as_vip': False,\n",
       "   'use_vip_as_snat': False,\n",
       "   'uuid': 'virtualservice-f851f486-66d3-48ed-bfaa-d749c477f91c',\n",
       "   'version': 52,\n",
       "   'vh_type': 'VS_TYPE_VH_SNI',\n",
       "   'vip_runtime': [{'first_se_assigned_time': {'secs': 1720697367,\n",
       "      'usecs': 998289},\n",
       "     'num_additional_se': 0,\n",
       "     'requested_resource': {'num_se': 1, 'num_standby_se': 1},\n",
       "     'se_list': [{'active_on_cloud': True,\n",
       "       'active_on_se': True,\n",
       "       'admin_down_requested': False,\n",
       "       'attach_ip_in_progress': False,\n",
       "       'cloud_programming_done': True,\n",
       "       'cloud_programming_status': 'Virtual Service IP is reachable in the Cloud',\n",
       "       'delete_in_progress': False,\n",
       "       'detach_ip_in_progress': False,\n",
       "       'incarnation': '2024-08-13 14:32:26.192520',\n",
       "       'is_portchannel': False,\n",
       "       'is_primary': True,\n",
       "       'is_standby': False,\n",
       "       'memory': 2944,\n",
       "       'mgmt_ip': {'addr': '192.168.1.20', 'type': 'V4'},\n",
       "       'mgmt_ip6': {'addr': 'fd38:9bda:673d:0:20c:29ff:fec4:a7af',\n",
       "        'type': 'V6'},\n",
       "       'scaleout_in_progress': False,\n",
       "       'se_programming_done': True,\n",
       "       'se_ready_in_progress': False,\n",
       "       'se_ref': 'https://192.168.1.15/api/serviceengine/se-564dcb90-ff93-dc99-bf4a-62907bc4a7af',\n",
       "       'sec_idx': 0,\n",
       "       'vcpus': 1,\n",
       "       'vip6_subnet_mask': 128,\n",
       "       'vip_intf_list': [{'is_portchannel': False,\n",
       "         'vip_intf_ip': {'addr': '192.168.1.40', 'type': 'V4'},\n",
       "         'vip_intf_mac': '00:0c:29:c4:a7:e1',\n",
       "         'vlan_id': 0}],\n",
       "       'vip_intf_mac': '00:0c:29:c4:a7:e1',\n",
       "       'vip_subnet_mask': 32,\n",
       "       'vlan_id': 0,\n",
       "       'vnic': [{'mac': '00:0c:29:c4:a7:e1', 'type': 'VNIC_TYPE_FE'},\n",
       "        {'mac': '00:0c:29:c4:a7:e1', 'type': 'VNIC_TYPE_BE'}]},\n",
       "      {'active_on_cloud': False,\n",
       "       'active_on_se': True,\n",
       "       'admin_down_requested': False,\n",
       "       'attach_ip_in_progress': False,\n",
       "       'cloud_programming_done': True,\n",
       "       'cloud_programming_status': 'Virtual Service IP is not reachable in the Cloud',\n",
       "       'delete_in_progress': False,\n",
       "       'detach_ip_in_progress': False,\n",
       "       'incarnation': '2024-08-13 14:32:48.641733',\n",
       "       'is_portchannel': False,\n",
       "       'is_primary': False,\n",
       "       'is_standby': True,\n",
       "       'memory': 1971,\n",
       "       'mgmt_ip': {'addr': '192.168.1.21', 'type': 'V4'},\n",
       "       'mgmt_ip6': {'addr': 'fd38:9bda:673d:0:20c:29ff:feba:47eb',\n",
       "        'type': 'V6'},\n",
       "       'scaleout_in_progress': False,\n",
       "       'se_programming_done': True,\n",
       "       'se_ready_in_progress': False,\n",
       "       'se_ref': 'https://192.168.1.15/api/serviceengine/se-564d5830-e7a9-edc0-194c-c76236ba47eb',\n",
       "       'sec_idx': 1,\n",
       "       'vcpus': 1,\n",
       "       'vip6_subnet_mask': 128,\n",
       "       'vip_intf_list': [{'is_portchannel': False,\n",
       "         'vip_intf_ip': {'addr': '192.168.1.41', 'type': 'V4'},\n",
       "         'vip_intf_mac': '00:0c:29:ba:47:1d',\n",
       "         'vlan_id': 0}],\n",
       "       'vip_intf_mac': '00:0c:29:ba:47:1d',\n",
       "       'vip_subnet_mask': 32,\n",
       "       'vlan_id': 0,\n",
       "       'vnic': [{'mac': '00:0c:29:ba:47:1d', 'type': 'VNIC_TYPE_FE'},\n",
       "        {'mac': '00:0c:29:ba:47:1d', 'type': 'VNIC_TYPE_BE'}]}],\n",
       "     'vip_id': '1'}],\n",
       "   'vrf_context_ref': 'https://192.168.1.15/api/vrfcontext/vrfcontext-e69db980-a4b4-4097-8717-7702fdba30b6',\n",
       "   'vsvip_ref': 'https://192.168.1.15/api/vsvip/vsvip-188553aa-bbe1-4b6e-b2ed-7ed1d5f78293',\n",
       "   'waf_policy_ref': 'https://192.168.1.15/api/wafpolicy/wafpolicy-e530ee23-886b-4649-a632-2b62ca2c1e0a',\n",
       "   'weight': 1},\n",
       "  {'_last_modified': '1720697366159540',\n",
       "   'active_standby_se_tag': 'ACTIVE_STANDBY_SE_1',\n",
       "   'advertise_down_vs': False,\n",
       "   'allow_invalid_client_cert': False,\n",
       "   'analytics_policy': {'all_headers': True,\n",
       "    'client_insights': 'NO_INSIGHTS',\n",
       "    'full_client_logs': {'duration': 0, 'enabled': False, 'throttle': 10},\n",
       "    'learning_log_policy': {'enabled': False},\n",
       "    'metrics_realtime_update': {'duration': 0, 'enabled': True},\n",
       "    'significant_log_throttle': 10,\n",
       "    'udf_log_throttle': 10},\n",
       "   'analytics_profile_ref': 'https://192.168.1.15/api/analyticsprofile/analyticsprofile-768ef0ed-a2ac-427c-92c7-8715ce805374',\n",
       "   'application_profile_ref': 'https://192.168.1.15/api/applicationprofile/applicationprofile-a70f9a51-201c-428a-ac55-8d70e840650f',\n",
       "   'bulk_sync_kvcache': False,\n",
       "   'close_client_conn_on_config_update': False,\n",
       "   'cloud_ref': 'https://192.168.1.15/api/cloud/cloud-baf1f7f6-18ff-46cb-a134-6154d9af52a1',\n",
       "   'cloud_type': 'CLOUD_NONE',\n",
       "   'content_rewrite': {'rewritable_content_ref': 'https://192.168.1.15/api/stringgroup/stringgroup-caeef771-f17f-4099-936b-33023eb37300'},\n",
       "   'delay_fairness': False,\n",
       "   'east_west_placement': False,\n",
       "   'enable_autogw': True,\n",
       "   'enabled': True,\n",
       "   'error_page_profile_ref': 'https://192.168.1.15/api/errorpageprofile/errorpageprofile-aed90b14-c20b-4228-a63d-1a0cc585e784',\n",
       "   'flow_dist': 'LOAD_AWARE',\n",
       "   'flow_label_type': 'NO_LABEL',\n",
       "   'http_policies': [{'http_policy_set_ref': 'https://192.168.1.15/api/httppolicyset/httppolicyset-270eb82f-1558-44fb-92fe-c349dd597fdd',\n",
       "     'index': 11}],\n",
       "   'ign_pool_net_reach': False,\n",
       "   'limit_doser': False,\n",
       "   'marked_for_delete': False,\n",
       "   'markers': [{'key': 'division', 'values': ['org1']}],\n",
       "   'max_cps_per_client': 0,\n",
       "   'name': 'vs-example-org1-new-name',\n",
       "   'network_profile_ref': 'https://192.168.1.15/api/networkprofile/networkprofile-4ee2f4b9-728c-4437-a81a-0f7ad3550097',\n",
       "   'network_security_policy_ref': 'https://192.168.1.15/api/networksecuritypolicy/networksecuritypolicy-03e5cea0-8e03-4afd-bfb7-a8a328133c17',\n",
       "   'pool_ref': 'https://192.168.1.15/api/pool/pool-9f434947-9a77-4c0f-a19d-62b359b1ed5c',\n",
       "   'redis_db': 4,\n",
       "   'redis_port': 5028,\n",
       "   'remove_listening_port_on_vs_down': False,\n",
       "   'scaleout_ecmp': False,\n",
       "   'se_group_ref': 'https://192.168.1.15/api/serviceenginegroup/serviceenginegroup-30fc00e4-24df-4d0c-b1db-76278885757f',\n",
       "   'self_se_election': True,\n",
       "   'services': [{'enable_http2': False,\n",
       "     'enable_ssl': True,\n",
       "     'horizon_internal_ports': False,\n",
       "     'is_active_ftp_data_port': False,\n",
       "     'port': 443,\n",
       "     'port_range_end': 443}],\n",
       "   'sideband_profile': {'sideband_max_request_body_size': 1024},\n",
       "   'ssl_key_and_certificate_refs': ['https://192.168.1.15/api/sslkeyandcertificate/sslkeyandcertificate-f2012485-19ec-4adf-ad16-8ae102a661e3'],\n",
       "   'ssl_profile_ref': 'https://192.168.1.15/api/sslprofile/sslprofile-ec1f5255-6430-4441-8b2b-33d981939c79',\n",
       "   'ssl_sess_cache_avg_size': 1024,\n",
       "   'tenant_ref': 'https://192.168.1.15/api/tenant/admin',\n",
       "   'tls_ticket_key': [{'aes_key': '9ho/IuZUoLoYmPbBTYa9Hg==',\n",
       "     'hmac_key': '47/epZdmSb2x8cVlWNzmFQ==',\n",
       "     'name': '53546712-62eb-4969-b70e-7fab8eb6e55a'},\n",
       "    {'aes_key': 'pNd4VNRtHAPuDgEFY7sWpg==',\n",
       "     'hmac_key': '9gkzcbyMrQukzBcg1TIMjg==',\n",
       "     'name': '9ec5d919-e2f0-4a45-b183-3cfe4de43bdf'},\n",
       "    {'aes_key': 'vOVu8JzPNVyM1EI2Oipl0Q==',\n",
       "     'hmac_key': 'ajHL3Q7WPjXgy6sY/ik+vA==',\n",
       "     'name': 'b653e676-e65a-4bfe-a7f5-5abb1a406cfd'}],\n",
       "   'traffic_enabled': True,\n",
       "   'type': 'VS_TYPE_NORMAL',\n",
       "   'url': 'https://192.168.1.15/api/virtualservice/virtualservice-ad04064c-f206-40c2-95b8-a69bd6d57646',\n",
       "   'use_bridge_ip_as_vip': False,\n",
       "   'use_vip_as_snat': False,\n",
       "   'uuid': 'virtualservice-ad04064c-f206-40c2-95b8-a69bd6d57646',\n",
       "   'version': 31,\n",
       "   'vh_type': 'VS_TYPE_VH_SNI',\n",
       "   'vip_runtime': [{'first_se_assigned_time': {'secs': 1720697367,\n",
       "      'usecs': 400974},\n",
       "     'num_additional_se': 0,\n",
       "     'requested_resource': {'num_se': 1, 'num_standby_se': 1},\n",
       "     'se_list': [{'active_on_cloud': True,\n",
       "       'active_on_se': True,\n",
       "       'admin_down_requested': False,\n",
       "       'attach_ip_in_progress': False,\n",
       "       'cloud_programming_done': True,\n",
       "       'cloud_programming_status': 'Virtual Service IP is reachable in the Cloud',\n",
       "       'delete_in_progress': False,\n",
       "       'detach_ip_in_progress': False,\n",
       "       'incarnation': '2024-08-13 14:32:19.649737',\n",
       "       'is_portchannel': False,\n",
       "       'is_primary': True,\n",
       "       'is_standby': False,\n",
       "       'memory': 1971,\n",
       "       'mgmt_ip': {'addr': '192.168.1.22', 'type': 'V4'},\n",
       "       'mgmt_ip6': {'addr': 'fd38:9bda:673d:0:20c:29ff:fea7:8358',\n",
       "        'type': 'V6'},\n",
       "       'scaleout_in_progress': False,\n",
       "       'se_programming_done': True,\n",
       "       'se_ready_in_progress': False,\n",
       "       'se_ref': 'https://192.168.1.15/api/serviceengine/se-564d63c6-3882-ca52-7be5-b04c9ba78358',\n",
       "       'sec_idx': 0,\n",
       "       'vcpus': 1,\n",
       "       'vip6_subnet_mask': 128,\n",
       "       'vip_intf_list': [{'is_portchannel': False,\n",
       "         'vip_intf_ip': {'addr': '192.168.1.42', 'type': 'V4'},\n",
       "         'vip_intf_mac': '00:0c:29:a7:83:8a',\n",
       "         'vlan_id': 0}],\n",
       "       'vip_intf_mac': '00:0c:29:a7:83:8a',\n",
       "       'vip_subnet_mask': 32,\n",
       "       'vlan_id': 0,\n",
       "       'vnic': [{'mac': '00:0c:29:a7:83:8a', 'type': 'VNIC_TYPE_FE'},\n",
       "        {'mac': '00:0c:29:a7:83:8a', 'type': 'VNIC_TYPE_BE'}]},\n",
       "      {'active_on_cloud': False,\n",
       "       'active_on_se': True,\n",
       "       'admin_down_requested': False,\n",
       "       'attach_ip_in_progress': False,\n",
       "       'cloud_programming_done': True,\n",
       "       'cloud_programming_status': 'Virtual Service IP is not reachable in the Cloud',\n",
       "       'delete_in_progress': False,\n",
       "       'detach_ip_in_progress': False,\n",
       "       'incarnation': '2024-08-13 14:33:09.338763',\n",
       "       'is_portchannel': False,\n",
       "       'is_primary': False,\n",
       "       'is_standby': True,\n",
       "       'memory': 1971,\n",
       "       'mgmt_ip': {'addr': '192.168.1.23', 'type': 'V4'},\n",
       "       'mgmt_ip6': {'addr': 'fd38:9bda:673d:0:20c:29ff:fea7:610c',\n",
       "        'type': 'V6'},\n",
       "       'scaleout_in_progress': False,\n",
       "       'se_programming_done': True,\n",
       "       'se_ready_in_progress': False,\n",
       "       'se_ref': 'https://192.168.1.15/api/serviceengine/se-564d0f61-3a27-ff26-8af7-306296a7610c',\n",
       "       'sec_idx': 1,\n",
       "       'vcpus': 1,\n",
       "       'vip6_subnet_mask': 128,\n",
       "       'vip_intf_list': [{'is_portchannel': False,\n",
       "         'vip_intf_ip': {'addr': '192.168.1.43', 'type': 'V4'},\n",
       "         'vip_intf_mac': '00:0c:29:a7:61:3e',\n",
       "         'vlan_id': 0}],\n",
       "       'vip_intf_mac': '00:0c:29:a7:61:3e',\n",
       "       'vip_subnet_mask': 32,\n",
       "       'vlan_id': 0,\n",
       "       'vnic': [{'mac': '00:0c:29:a7:61:3e', 'type': 'VNIC_TYPE_FE'},\n",
       "        {'mac': '00:0c:29:a7:61:3e', 'type': 'VNIC_TYPE_BE'}]}],\n",
       "     'vip_id': '1'}],\n",
       "   'vrf_context_ref': 'https://192.168.1.15/api/vrfcontext/vrfcontext-e69db980-a4b4-4097-8717-7702fdba30b6',\n",
       "   'vsvip_ref': 'https://192.168.1.15/api/vsvip/vsvip-472a36cf-f2df-44ee-b793-4de2f024bbae',\n",
       "   'waf_policy_ref': 'https://192.168.1.15/api/wafpolicy/wafpolicy-e530ee23-886b-4649-a632-2b62ca2c1e0a',\n",
       "   'weight': 1}]}"
      ]
     },
     "execution_count": 28,
     "metadata": {},
     "output_type": "execute_result"
    }
   ],
   "source": [
    "json.loads(vs.text)"
   ]
  },
  {
   "cell_type": "markdown",
   "metadata": {},
   "source": [
    "As you can tell, above output can be hard to handle and read. There are some parameters you can use to narrow down the response.\n",
    "\n",
    "- **path**: takes relative path to the AVI api \n",
    "- **tenant**: overrides the tenant used during session creation\n",
    "- **tenant_uuid**: overrides the tenant or tenant_uuid during session creation  \n",
    "- **timeout**: timeout for API calls; Default value is 60 seconds \n",
    "- **api_version**: overrides x-avi-header in request header during session creation get method takes relative path to service and kwargs as per Session class get method returns session's response object\n",
    "- **params**: dictionary of key value pairs to be sent as query parameters\n"
   ]
  },
  {
   "cell_type": "markdown",
   "metadata": {},
   "source": [
    "| Filter                                               | Description                                                                   | Example                                                                                                                                                                                                    | Returns                                                                                                                                                         |\n",
    "| ---------------------------------------------------- | ----------------------------------------------------------------------------- | ---------------------------------------------------------------------------------------------------------------------------------------------------------------------------------------------------------- | --------------------------------------------------------------------------------------------------------------------------------------------------------------- |\n",
    "| \\<field\\>=                                             | Filter objects with specific fields matching given value                      | /api/pool/?fail_action.type=FAIL_ACTION_CLOSE_CONN                                                                                                                                                         | Returns list of pools whose failure action is configured as FAIL_ACTION_CLOSE_CONN                                                                              |\n",
    "|                                                      |\\<field\\> can be a nested field using . as a separator | /api/pool/?analytics_policy.enable_realtime_metrics=false                     | Returns list of pools with real-time metrics enabled                                                                                                                                                       |\n",
    "| \\<field\\>.contains=                                    | Filter objects where field \\<field\\> contains the given string                  | /api/pool/?name.contains=-app1-                                                                                                                                                                            | Returns list of pools whose name contains the string \"-app1-\"                                                                                                   |\n",
    "| \\<field\\>.icontains=                                   | (\"contains\" is case-sensitive, \"icontains\" is case-insensitive)               |\n",
    "| [name.in](http://name.in)                            | Filter objects where name or uuid exactly matches any of the values in a list | /api/pool/?name.in=pool-1,pool-2,pool-3                                                                                                                                                                    | Returns list with pool-1, pool-2 and pool-3                                                                                                                     |\n",
    "| [uuid.in](http://uuid.in)                            |\n",
    "| search                                               | Filter objects which contain the search string in any field’s value           | /api/pool/?search=LEAST_CONN                                                                                                                                                                               | Returns list of pools containing \"LEAST_CONN\" in any field value. To search for an exact match on an entire field’s value, enclose the search string in quotes. |\n",
    "| isearch                                              | /api/pool/?search=\"LB_ALGORITHM_LEAST_CONNECTIONS\"                            | (\"search\" is case-sensitive, \"isearch\" is case-insensitive)                                                                                                                                                |\n",
    "| search=()                                            | Filter objects by searching for a field name and value                        | /api/pool/?search=(addr,10.1.1.1)                                                                                                                                                                          | Returns list of pools containing the string \"10.1.1.1\" in the field \"addr\" (even if the field is a nested field as in this case).                               |\n",
    "| isearch=()                                           | /api/pool/?search=(addr, \"10.1.1.1\")                                          | To search for an exact match on an entire field’s value, enclose the search string in quotes. Leaving the value part empty matches any value (i.e. searches for the presence of the specified field name). |\n",
    "|                                                      | /api/virtualservice/?search=(dns_policies,)                                   | (\"search\" is case-sensitive, \"isearch\" is case-insensitive)                                                                                                                                                |\n",
    "| refers_to                                            | Filter objects which have a reference to the specified object                 | /api/pool/?refers_to=healthmonitor:healthmonitor-be7880b9-2c72-4abd-9fd3-8243517e8163                                                                                                                      | Returns list of pools that refer to the health monitor with this UUID                                                                                           |\n",
    "| referred_by                                          | Filter objects which are referred to by the specified object                  | /api/pool/?referred_by=virtualservice:virtualservice-7a292eb3-ad23-4900-a269-c529db4133f8                                                                                                                  | Returns list of pools that are referred to by the virtual service with this UUID                                                                                |\n",
    "| exclude                                              | Inverts the filtering logic of the specified query                            | /api/pool/?name.icontains=-web-&refers_to=healthmonitor:healthmonitor-be7880b9-2c72-4abd-9fd3-8243517e8163&exclude=name.icontains                                                                          | Returns list of pools that refer to the health monitor with this UUID where the Pool name does not contain the string \"-web-\"                                   |\n",
    "| skip_default                                         | Excludes fields from the returned object that are set to the default value    | /api/pool/?name=app1-pool&skip_default=true                                                                                                                                                                | Returns the specified object excluding any field whose value has not been changed from its default                                                              |\n",
    "| include_name                                         | Appends the object name to each object reference - \\<object\\>_ref: \\<url\\>#\\<name\\> | /api/pool/?name=app1-pool&include_name=true                                                                                                                                                                | Returns the object with all \\*_ref fields having the referenced object name appended                                                                            |"
   ]
  },
  {
   "cell_type": "markdown",
   "metadata": {},
   "source": [
    "**Example 1**.- Get virtualservices with a name value equals to **vs-example-org1**\n",
    "\n",
    "_Sample output:_\n",
    "\n",
    "```json\n",
    "{'count': 1,\n",
    " 'results': [{'_last_modified': '1720707512296814',\n",
    "   'active_standby_se_tag': 'ACTIVE_STANDBY_SE_1',\n",
    "   'advertise_down_vs': False,\n",
    "   'allow_invalid_client_cert': False,\n",
    "   ... # (skipped)\n",
    "   'close_client_conn_on_config_update': False,\n",
    "   'cloud_ref': 'https://192.168.1.15/api/cloud/cloud-baf1f7f6-18ff-46cb-a134-6154d9af52a1',\n",
    "   'cloud_type': 'CLOUD_NONE',\n",
    "   'content_rewrite': {'rewritable_content_ref': 'https://192.168.1.15/api/stringgroup/stringgroup-caeef771-f17f-4099-936b-33023eb37300'},\n",
    "   'delay_fairness': False,\n",
    "   'east_west_placement': False,\n",
    "   'weight': 1}]}\n",
    "```"
   ]
  },
  {
   "cell_type": "code",
   "execution_count": null,
   "metadata": {},
   "outputs": [],
   "source": [
    "query= { \n",
    "    \"name\": \"vs-example-org1\"\n",
    "    }\n",
    "vs = api.get('virtualservice', params=query)\n",
    "json.loads(vs.text)"
   ]
  },
  {
   "cell_type": "markdown",
   "metadata": {},
   "source": [
    "**Example 2**.- Get virtualservices with a name value equal to vs-example-org1 but only retrieve some fields in the response (enabled, vsvip_ref and type).\n",
    "\n",
    "_Sample output_:\n",
    "\n",
    "```json\n",
    "{'count': 1,\n",
    " 'results': [\n",
    "    {'enabled': True,\n",
    "   'name': 'vs-example-org1',\n",
    "   'type': 'VS_TYPE_NORMAL',\n",
    "   'url': 'https://192.168.1.15/api/virtualservice/virtualservice-f851f486-66d3-48ed-bfaa-d749c477f91c',\n",
    "   'uuid': 'virtualservice-f851f486-66d3-48ed-bfaa-d749c477f91c',\n",
    "   'vsvip_ref': 'https://192.168.1.15/api/vsvip/vsvip-188553aa-bbe1-4b6e-b2ed-7ed1d5f78293'}\n",
    "  ]\n",
    "}\n",
    "```"
   ]
  },
  {
   "cell_type": "code",
   "execution_count": null,
   "metadata": {},
   "outputs": [],
   "source": [
    "query= { \n",
    "    \"name\": \"vs-example-org1\", \n",
    "    \"fields\": \"enabled,vsvip_ref,type\"\n",
    "    }\n",
    "vs = api.get('virtualservice', params=query)\n",
    "json.loads(vs.text)"
   ]
  },
  {
   "cell_type": "markdown",
   "metadata": {},
   "source": [
    "**Example 3**.- Get virtualservices that contains the string **-Example-** in the field **name** (key insensitive) and only retrieve some fields in the response (name).\n",
    "\n",
    "_Sample output_:\n",
    "\n",
    "```json\n",
    "{'count': 2,\n",
    " 'results': [{'name': 'vs-example-org1',\n",
    "   'url': 'https://192.168.1.15/api/virtualservice/virtualservice-f851f486-66d3-48ed-bfaa-d749c477f91c',\n",
    "   'uuid': 'virtualservice-f851f486-66d3-48ed-bfaa-d749c477f91c'},\n",
    "  {'name': 'vs-example-org1-new-name',\n",
    "   'url': 'https://192.168.1.15/api/virtualservice/virtualservice-ad04064c-f206-40c2-95b8-a69bd6d57646',\n",
    "   'uuid': 'virtualservice-ad04064c-f206-40c2-95b8-a69bd6d57646'}]}\n",
    "```"
   ]
  },
  {
   "cell_type": "code",
   "execution_count": 90,
   "metadata": {},
   "outputs": [
    {
     "data": {
      "text/plain": [
       "{'count': 2,\n",
       " 'results': [{'name': 'vs-example-org1',\n",
       "   'url': 'https://192.168.1.15/api/virtualservice/virtualservice-f851f486-66d3-48ed-bfaa-d749c477f91c',\n",
       "   'uuid': 'virtualservice-f851f486-66d3-48ed-bfaa-d749c477f91c'},\n",
       "  {'name': 'vs-example-org1-new-name',\n",
       "   'url': 'https://192.168.1.15/api/virtualservice/virtualservice-ad04064c-f206-40c2-95b8-a69bd6d57646',\n",
       "   'uuid': 'virtualservice-ad04064c-f206-40c2-95b8-a69bd6d57646'}]}"
      ]
     },
     "execution_count": 90,
     "metadata": {},
     "output_type": "execute_result"
    }
   ],
   "source": [
    "query= { \n",
    "    \"name.icontains\": \"-Example-\", \n",
    "    \"fields\": \"name\"\n",
    "    }\n",
    "vs = api.get('virtualservice', params=query)\n",
    "json.loads(vs.text)"
   ]
  },
  {
   "cell_type": "markdown",
   "metadata": {},
   "source": [
    "**Example 4**.- Using two queries obtain the virtualservices sharing the same service engine group with a given virtualservice named **vs-example-org1**.\n",
    "    \n",
    "  - 1st query get se_group_ref for a given virtualservice name  \n",
    "\n",
    "_Sample output_first_query:_\n",
    "\n",
    "```json\n",
    "{'count': 1,\n",
    " 'results': [{'name': 'vs-example-org1',\n",
    "   'se_group_ref': 'https://192.168.1.15/api/serviceenginegroup/serviceenginegroup-17a49de4-afad-4929-a8e1-297be6ab9d70#SOURCE-GROUP1',\n",
    "   'url': 'https://192.168.1.15/api/virtualservice/virtualservice-f851f486-66d3-48ed-bfaa-d749c477f91c#vs-example-org1',\n",
    "   'uuid': 'virtualservice-f851f486-66d3-48ed-bfaa-d749c477f91c'}]}\n",
    "```\n",
    "  - 2nd query after extracting the UUID (embedded in the se_group_ref retrieved field above) use the refers_to query parameter to get all virtualservice sharing same service engine group\n",
    "\n",
    "_Sample output_second_query:_\n",
    "\n",
    "```json\n",
    "{'count': 2,\n",
    " 'results': [{'name': 'vs-example-org1',\n",
    "   'url': 'https://192.168.1.15/api/virtualservice/virtualservice-f851f486-66d3-48ed-bfaa-d749c477f91c',\n",
    "   'uuid': 'virtualservice-f851f486-66d3-48ed-bfaa-d749c477f91c'},\n",
    "  {'name': 'vs-example2-org1',\n",
    "   'url': 'https://192.168.1.15/api/virtualservice/virtualservice-7779e1cb-c7b8-4050-a266-1ab699dd4076',\n",
    "   'uuid': 'virtualservice-7779e1cb-c7b8-4050-a266-1ab699dd4076'}]}\n",
    "```\n"
   ]
  },
  {
   "cell_type": "code",
   "execution_count": 149,
   "metadata": {},
   "outputs": [
    {
     "data": {
      "text/plain": [
       "{'count': 1,\n",
       " 'results': [{'name': 'vs-example-org1',\n",
       "   'se_group_ref': 'https://192.168.1.15/api/serviceenginegroup/serviceenginegroup-17a49de4-afad-4929-a8e1-297be6ab9d70#SOURCE-GROUP1',\n",
       "   'url': 'https://192.168.1.15/api/virtualservice/virtualservice-f851f486-66d3-48ed-bfaa-d749c477f91c#vs-example-org1',\n",
       "   'uuid': 'virtualservice-f851f486-66d3-48ed-bfaa-d749c477f91c'}]}"
      ]
     },
     "execution_count": 149,
     "metadata": {},
     "output_type": "execute_result"
    }
   ],
   "source": [
    "# 1st query retrieve se_group_ref appending the name to ease identification\n",
    "query= {\n",
    "    \"name\": \"vs-example-org1\", \n",
    "    \"fields\": \"name,se_group_ref\", # Without blank spaces\n",
    "    \"include_name\": \"true\"\n",
    "    }\n",
    "vs = api.get('virtualservice', params=query)\n",
    "json.loads(vs.text)"
   ]
  },
  {
   "cell_type": "markdown",
   "metadata": {},
   "source": [
    "Extract the se_group_ref (removing the trailing name delimited by #)"
   ]
  },
  {
   "cell_type": "code",
   "execution_count": 147,
   "metadata": {},
   "outputs": [
    {
     "name": "stdout",
     "output_type": "stream",
     "text": [
      "The extracted Service Engine Group UUID is serviceenginegroup-17a49de4-afad-4929-a8e1-297be6ab9d70\n"
     ]
    }
   ],
   "source": [
    "# Copy response text to the output variable\n",
    "output=json.loads(vs.text)\n",
    "# Access the first (0 index) of results and extract the se_group_ref field splitting the trailing name delimited by #. Store in se_group_ref_name variable\n",
    "se_group_ref_name = output[\"results\"][0][\"se_group_ref\"].split(\"#\")[0]\n",
    "# Extract the SE_GROUP_UUID from the se_group_ref (last part of URL)\n",
    "se_group_uuid = se_group_ref_name.split(\"/\")[5]\n",
    "print(\"The extracted Service Engine Group UUID is \"+se_group_uuid)"
   ]
  },
  {
   "cell_type": "code",
   "execution_count": 151,
   "metadata": {},
   "outputs": [
    {
     "data": {
      "text/plain": [
       "{'count': 2,\n",
       " 'results': [{'name': 'vs-example-org1',\n",
       "   'url': 'https://192.168.1.15/api/virtualservice/virtualservice-f851f486-66d3-48ed-bfaa-d749c477f91c',\n",
       "   'uuid': 'virtualservice-f851f486-66d3-48ed-bfaa-d749c477f91c'},\n",
       "  {'name': 'vs-example2-org1',\n",
       "   'url': 'https://192.168.1.15/api/virtualservice/virtualservice-7779e1cb-c7b8-4050-a266-1ab699dd4076',\n",
       "   'uuid': 'virtualservice-7779e1cb-c7b8-4050-a266-1ab699dd4076'}]}"
      ]
     },
     "execution_count": 151,
     "metadata": {},
     "output_type": "execute_result"
    }
   ],
   "source": [
    "# 2st query retrieve all virtual services that refer to the service Engine Group UUID by that se_group_ref\n",
    "query= {\n",
    "    \"fields\": \"name\", # Without blank spaces\n",
    "    \"refers_to\": f\"serviceenginegroup:{se_group_uuid}\"\n",
    "    }\n",
    "vs = api.get('virtualservice', params=query)\n",
    "json.loads(vs.text)"
   ]
  }
 ],
 "metadata": {
  "kernelspec": {
   "display_name": "Python 3",
   "language": "python",
   "name": "python3"
  },
  "language_info": {
   "codemirror_mode": {
    "name": "ipython",
    "version": 3
   },
   "file_extension": ".py",
   "mimetype": "text/x-python",
   "name": "python",
   "nbconvert_exporter": "python",
   "pygments_lexer": "ipython3",
   "version": "3.10.12"
  }
 },
 "nbformat": 4,
 "nbformat_minor": 2
}
