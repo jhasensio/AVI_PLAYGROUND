{
 "cells": [
  {
   "cell_type": "markdown",
   "metadata": {},
   "source": [
    "# AVI Python SDK. First Steps\n",
    "\n",
    "AVI API SDK is a Python Package that provides APIs to communicate with Avi Controller’s REST APIs. It extends Python’s Request Library’s Session Class and provides utilities to simplify integration with Avi Controller.\n",
    "\n",
    "https://avinetworks.com/docs/latest/api-guide/overview.html \n",
    "\n",
    "\n",
    "https://github.com/vmware/alb-sdk\n",
    "\n",
    "- [1.- Initial Login](#1--initial-login)\n",
    "- [2.- Read Operations](#2--read-operations)\n",
    "- [3.- Working with JSON](#3--working-with-data-structures)"
   ]
  },
  {
   "cell_type": "markdown",
   "metadata": {},
   "source": [
    "## 1.- Initial Login"
   ]
  },
  {
   "cell_type": "markdown",
   "metadata": {},
   "source": [
    "The Session Class handles session authentication and keeps a cache of sessions to avoid multiple connection setups and teardowns across different API Session invocation. It automatically updates session cookies, CSRF Tokens from controller and provides helper APIs and templates for Avi Objects. Other important features are X-AVI-TENANT (tenant) header handling and sample source code for common load balancing examples\n"
   ]
  },
  {
   "cell_type": "markdown",
   "metadata": {},
   "source": [
    "### Import Libraries"
   ]
  },
  {
   "cell_type": "code",
   "execution_count": 1,
   "metadata": {},
   "outputs": [],
   "source": [
    "from avi.sdk.avi_api import ApiSession\n",
    "import datetime, time\n",
    "from requests.packages import urllib3\n",
    "urllib3.disable_warnings()\n",
    "import json"
   ]
  },
  {
   "cell_type": "markdown",
   "metadata": {},
   "source": [
    "### Import Environment Session Variables"
   ]
  },
  {
   "cell_type": "markdown",
   "metadata": {},
   "source": [
    "In this example, the session parameters such a username, password, Controller IP Address and so on have been provided from an independet file that is placed in envs/controller_info.py file. From this file we are importing the session_params data as session_env and we can access easily to the values of all the existing variables as shown bellow. "
   ]
  },
  {
   "cell_type": "code",
   "execution_count": null,
   "metadata": {},
   "outputs": [],
   "source": [
    "from envs.controller_info import session_params as session_env"
   ]
  },
  {
   "cell_type": "code",
   "execution_count": null,
   "metadata": {},
   "outputs": [],
   "source": [
    "# Establish a first session\n",
    "api = ApiSession(\n",
    "    controller_ip=session_env['controller_ip'],\n",
    "    username=session_env['controller_username'],\n",
    "    password=session_env['controller_password'],\n",
    "    tenant=session_env['tenant'],\n",
    "    api_version=session_env['api_version']\n",
    "    )\n",
    "# Update headers and api version imported from demo env file with controller version (ensure actual API Version is uses in subsequent requests\n",
    "session_env['headers']['X-Avi-Version'] = api.remote_api_version['Version']\n",
    "session_env['api_version'] = api.remote_api_version['Version']\n",
    "\n",
    "# Create a new session with received AVI API Version\n",
    "api = ApiSession(\n",
    "    controller_ip=session_env['controller_ip'],\n",
    "    username=session_env['controller_username'],\n",
    "    password=session_env['controller_password'],\n",
    "    tenant=session_env['tenant'],\n",
    "    api_version=session_env['api_version']\n",
    "    )"
   ]
  },
  {
   "cell_type": "markdown",
   "metadata": {},
   "source": [
    "### Display Session ID to Verify AVI Controller Session Establishment"
   ]
  },
  {
   "cell_type": "code",
   "execution_count": null,
   "metadata": {},
   "outputs": [],
   "source": [
    "print('Successful connection to ' + session_env['name'] + '. Session ID:' + api.session_id)"
   ]
  },
  {
   "cell_type": "markdown",
   "metadata": {},
   "source": [
    "From this moment on, we can call the **api** object and invoke different methods that provide CRUD operations as in the following examples. "
   ]
  },
  {
   "cell_type": "markdown",
   "metadata": {},
   "source": [
    "## 2.- Read (GET) Operations"
   ]
  },
  {
   "cell_type": "markdown",
   "metadata": {},
   "source": [
    "Get is a common method to read information.\n",
    "You can get information of your current setup easily invoking the corresponding API\n",
    "\n",
    "AVI has dozens of APIs... \n",
    "   - Use https://controller/swagger to understand different API\n",
    "   - You can easily infere the API when navigating through the GUI just looking at the address bar used in the GUI \n",
    "\n",
    "   Example if the GUI shows https://192.168.1.15/#!/admin/applications/virtualservice that means you are in the **admin** tenant and you are using the **virtualservice** API\n",
    "\n",
    "   In the previous step we created an AVI API session object that we called *api*. \n",
    "   Let's invoke the **GET** method over our api object to inspect the output"
   ]
  },
  {
   "cell_type": "markdown",
   "metadata": {},
   "source": [
    "### 2.1 API Object **Get** Method"
   ]
  },
  {
   "cell_type": "markdown",
   "metadata": {},
   "source": [
    "Now create a new object named containing the response received from the controller. The response object contains some properties such as text or url that we can read after sending the GET request. In this case the api we are using is **virtualservice**"
   ]
  },
  {
   "cell_type": "code",
   "execution_count": null,
   "metadata": {},
   "outputs": [],
   "source": [
    "resp = api.get('virtualservice')\n",
    "print (\"Sending request to following URL: \" + resp.url)"
   ]
  },
  {
   "cell_type": "markdown",
   "metadata": {},
   "source": [
    "The request produces a json formatted output. You can beautify the output it by using json loads method to gain some readability"
   ]
  },
  {
   "cell_type": "code",
   "execution_count": null,
   "metadata": {},
   "outputs": [],
   "source": [
    "json.loads(resp.text)"
   ]
  },
  {
   "cell_type": "markdown",
   "metadata": {},
   "source": [
    "As you can tell, above output can be hard to handle and read. There are some parameters you can use to narrow down the response.\n",
    "\n",
    "- **path**: takes relative path to the AVI api \n",
    "- **tenant**: overrides the tenant used during session creation\n",
    "- **tenant_uuid**: overrides the tenant or tenant_uuid during session creation  \n",
    "- **timeout**: timeout for API calls; Default value is 60 seconds \n",
    "- **api_version**: overrides x-avi-header in request header during session creation get method takes relative path to service and kwargs as per Session class get method returns session's response object\n",
    "- **params**: dictionary of key value pairs to be sent as query parameters\n"
   ]
  },
  {
   "cell_type": "markdown",
   "metadata": {},
   "source": [
    "| Filter                                               | Description                                                                   | Example                                                                                                                                                                                                    | Returns                                                                                                                                                         |\n",
    "| ---------------------------------------------------- | ----------------------------------------------------------------------------- | ---------------------------------------------------------------------------------------------------------------------------------------------------------------------------------------------------------- | --------------------------------------------------------------------------------------------------------------------------------------------------------------- |\n",
    "| \\<field\\>=                                             | Filter objects with specific fields matching given value                      | /api/pool/?fail_action.type=FAIL_ACTION_CLOSE_CONN                                                                                                                                                         | Returns list of pools whose failure action is configured as FAIL_ACTION_CLOSE_CONN                                                                              |\n",
    "|                                                      |\\<field\\> can be a nested field using . as a separator | /api/pool/?analytics_policy.enable_realtime_metrics=false                     | Returns list of pools with real-time metrics enabled                                                                                                                                                       |\n",
    "| \\<field\\>.contains=                                    | Filter objects where field \\<field\\> contains the given string                  | /api/pool/?name.contains=-app1-                                                                                                                                                                            | Returns list of pools whose name contains the string \"-app1-\"                                                                                                   |\n",
    "| \\<field\\>.icontains=                                   | (\"contains\" is case-sensitive, \"icontains\" is case-insensitive)               |\n",
    "| [name.in](http://name.in)                            | Filter objects where name or uuid exactly matches any of the values in a list | /api/pool/?name.in=pool-1,pool-2,pool-3                                                                                                                                                                    | Returns list with pool-1, pool-2 and pool-3                                                                                                                     |\n",
    "| [uuid.in](http://uuid.in)                            |\n",
    "| search                                               | Filter objects which contain the search string in any field’s value           | /api/pool/?search=LEAST_CONN                                                                                                                                                                               | Returns list of pools containing \"LEAST_CONN\" in any field value. To search for an exact match on an entire field’s value, enclose the search string in quotes. |\n",
    "| isearch                                              | /api/pool/?search=\"LB_ALGORITHM_LEAST_CONNECTIONS\"                            | (\"search\" is case-sensitive, \"isearch\" is case-insensitive)                                                                                                                                                |\n",
    "| search=()                                            | Filter objects by searching for a field name and value                        | /api/pool/?search=(addr,10.1.1.1)                                                                                                                                                                          | Returns list of pools containing the string \"10.1.1.1\" in the field \"addr\" (even if the field is a nested field as in this case).                               |\n",
    "| isearch=()                                           | /api/pool/?search=(addr, \"10.1.1.1\")                                          | To search for an exact match on an entire field’s value, enclose the search string in quotes. Leaving the value part empty matches any value (i.e. searches for the presence of the specified field name). |\n",
    "|                                                      | /api/virtualservice/?search=(dns_policies,)                                   | (\"search\" is case-sensitive, \"isearch\" is case-insensitive)                                                                                                                                                |\n",
    "| refers_to                                            | Filter objects which have a reference to the specified object                 | /api/pool/?refers_to=healthmonitor:healthmonitor-be7880b9-2c72-4abd-9fd3-8243517e8163                                                                                                                      | Returns list of pools that refer to the health monitor with this UUID                                                                                           |\n",
    "| referred_by                                          | Filter objects which are referred to by the specified object                  | /api/pool/?referred_by=virtualservice:virtualservice-7a292eb3-ad23-4900-a269-c529db4133f8                                                                                                                  | Returns list of pools that are referred to by the virtual service with this UUID                                                                                |\n",
    "| exclude                                              | Inverts the filtering logic of the specified query                            | /api/pool/?name.icontains=-web-&refers_to=healthmonitor:healthmonitor-be7880b9-2c72-4abd-9fd3-8243517e8163&exclude=name.icontains                                                                          | Returns list of pools that refer to the health monitor with this UUID where the Pool name does not contain the string \"-web-\"                                   |\n",
    "| skip_default                                         | Excludes fields from the returned object that are set to the default value    | /api/pool/?name=app1-pool&skip_default=true                                                                                                                                                                | Returns the specified object excluding any field whose value has not been changed from its default                                                              |\n",
    "| include_name                                         | Appends the object name to each object reference - \\<object\\>_ref: \\<url\\>#\\<name\\> | /api/pool/?name=app1-pool&include_name=true                                                                                                                                                                | Returns the object with all \\*_ref fields having the referenced object name appended                                                                            |"
   ]
  },
  {
   "cell_type": "markdown",
   "metadata": {},
   "source": [
    "**Example 1**.- Get virtualservices with a name value equals to **vs-example-org1**\n",
    "\n",
    "_Sample output:_\n",
    "\n",
    "```json\n",
    "{'count': 1,\n",
    " 'results': [{'_last_modified': '1720707512296814',\n",
    "   'active_standby_se_tag': 'ACTIVE_STANDBY_SE_1',\n",
    "   'advertise_down_vs': False,\n",
    "   'allow_invalid_client_cert': False,\n",
    "   ... # (skipped)\n",
    "   'close_client_conn_on_config_update': False,\n",
    "   'cloud_ref': 'https://192.168.1.15/api/cloud/cloud-baf1f7f6-18ff-46cb-a134-6154d9af52a1',\n",
    "   'cloud_type': 'CLOUD_NONE',\n",
    "   'content_rewrite': {'rewritable_content_ref': 'https://192.168.1.15/api/stringgroup/stringgroup-caeef771-f17f-4099-936b-33023eb37300'},\n",
    "   'delay_fairness': False,\n",
    "   'east_west_placement': False,\n",
    "   'weight': 1}]}\n",
    "```"
   ]
  },
  {
   "cell_type": "code",
   "execution_count": null,
   "metadata": {},
   "outputs": [],
   "source": [
    "query= { \n",
    "    \"name\": \"vs-example-org1\"\n",
    "    }\n",
    "resp = api.get('virtualservice', params=query)\n",
    "print (\"Sending request to following URL: \" +resp.url)\n",
    "json.loads(resp.text)"
   ]
  },
  {
   "cell_type": "markdown",
   "metadata": {},
   "source": [
    "**Example 2**.- Get virtualservices with a name value equal to vs-example-org1 but only retrieve some fields in the response (enabled, vsvip_ref and type).\n",
    "\n",
    "_Sample output_:\n",
    "\n",
    "```json\n",
    "{'count': 1,\n",
    " 'results': [\n",
    "    {'enabled': True,\n",
    "   'name': 'vs-example-org1',\n",
    "   'type': 'VS_TYPE_NORMAL',\n",
    "   'url': 'https://192.168.1.15/api/virtualservice/virtualservice-f851f486-66d3-48ed-bfaa-d749c477f91c',\n",
    "   'uuid': 'virtualservice-f851f486-66d3-48ed-bfaa-d749c477f91c',\n",
    "   'vsvip_ref': 'https://192.168.1.15/api/vsvip/vsvip-188553aa-bbe1-4b6e-b2ed-7ed1d5f78293'}\n",
    "  ]\n",
    "}\n",
    "```"
   ]
  },
  {
   "cell_type": "code",
   "execution_count": null,
   "metadata": {},
   "outputs": [],
   "source": [
    "query= { \n",
    "    \"name\": \"vs-example-org1\", \n",
    "    \"fields\": \"enabled,vsvip_ref,type\"\n",
    "    }\n",
    "resp = api.get('virtualservice', params=query)\n",
    "print (\"Sending request to following URL: \" + resp.url)\n",
    "json.loads(resp.text)"
   ]
  },
  {
   "cell_type": "markdown",
   "metadata": {},
   "source": [
    "**Example 3**.- Get virtualservices that contains the string **-Example-** in the field **name** (key insensitive) and only retrieve some fields in the response (name).\n",
    "\n",
    "_Sample output_:\n",
    "\n",
    "```json\n",
    "{'count': 2,\n",
    " 'results': [{'name': 'vs-example-org1',\n",
    "   'url': 'https://192.168.1.15/api/virtualservice/virtualservice-f851f486-66d3-48ed-bfaa-d749c477f91c',\n",
    "   'uuid': 'virtualservice-f851f486-66d3-48ed-bfaa-d749c477f91c'},\n",
    "  {'name': 'vs-example-org1-new-name',\n",
    "   'url': 'https://192.168.1.15/api/virtualservice/virtualservice-ad04064c-f206-40c2-95b8-a69bd6d57646',\n",
    "   'uuid': 'virtualservice-ad04064c-f206-40c2-95b8-a69bd6d57646'}]}\n",
    "```"
   ]
  },
  {
   "cell_type": "code",
   "execution_count": null,
   "metadata": {},
   "outputs": [],
   "source": [
    "query= { \n",
    "    \"name.icontains\": \"-Example-\", \n",
    "    \"fields\": \"name\"\n",
    "    }\n",
    "resp = api.get('virtualservice', params=query)\n",
    "print (\"Sending request to following URL: \" + resp.url)\n",
    "json.loads(resp.text)"
   ]
  },
  {
   "cell_type": "markdown",
   "metadata": {},
   "source": [
    "**Example 4**.- Using two queries obtain the virtualservices sharing the same service engine group with a given virtualservice named **vs-example-org1**.\n",
    "    \n",
    "  - 1st query get se_group_ref for a given virtualservice name  \n",
    "\n",
    "_Sample output_first_query:_\n",
    "\n",
    "```json\n",
    "{'count': 1,\n",
    " 'results': [{'name': 'vs-example-org1',\n",
    "   'se_group_ref': 'https://192.168.1.15/api/serviceenginegroup/serviceenginegroup-17a49de4-afad-4929-a8e1-297be6ab9d70#SOURCE-GROUP1',\n",
    "   'url': 'https://192.168.1.15/api/virtualservice/virtualservice-f851f486-66d3-48ed-bfaa-d749c477f91c#vs-example-org1',\n",
    "   'uuid': 'virtualservice-f851f486-66d3-48ed-bfaa-d749c477f91c'}]}\n",
    "```\n",
    "  - 2nd query after extracting the UUID (embedded in the se_group_ref retrieved field above) use the refers_to query parameter to get all virtualservice sharing same service engine group\n",
    "\n",
    "_Sample output_second_query:_\n",
    "\n",
    "```json\n",
    "{'count': 2,\n",
    " 'results': [{'name': 'vs-example-org1',\n",
    "   'url': 'https://192.168.1.15/api/virtualservice/virtualservice-f851f486-66d3-48ed-bfaa-d749c477f91c',\n",
    "   'uuid': 'virtualservice-f851f486-66d3-48ed-bfaa-d749c477f91c'},\n",
    "  {'name': 'vs-example2-org1',\n",
    "   'url': 'https://192.168.1.15/api/virtualservice/virtualservice-7779e1cb-c7b8-4050-a266-1ab699dd4076',\n",
    "   'uuid': 'virtualservice-7779e1cb-c7b8-4050-a266-1ab699dd4076'}]}\n",
    "```\n"
   ]
  },
  {
   "cell_type": "code",
   "execution_count": null,
   "metadata": {},
   "outputs": [],
   "source": [
    "# 1st query retrieve se_group_ref appending the name to ease identification\n",
    "query= {\n",
    "    \"name\": \"vs-example-org1\", \n",
    "    \"fields\": \"name,se_group_ref\", # Without blank spaces\n",
    "    \"include_name\": \"true\"\n",
    "    }\n",
    "resp = api.get('virtualservice', params=query)\n",
    "print (\"Sending request to following URL: \" + resp.url)\n",
    "json.loads(resp.text)"
   ]
  },
  {
   "cell_type": "markdown",
   "metadata": {},
   "source": [
    "Extract the se_group_ref (removing the trailing name delimited by #)"
   ]
  },
  {
   "cell_type": "code",
   "execution_count": null,
   "metadata": {},
   "outputs": [],
   "source": [
    "# Copy response text to the output variable\n",
    "output=json.loads(resp.text)\n",
    "# Access the first (0 index) of results and extract the se_group_ref field splitting the trailing name delimited by #. Store in se_group_ref_name variable\n",
    "se_group_ref_name = output[\"results\"][0][\"se_group_ref\"].split(\"#\")[0]\n",
    "# Extract the SE_GROUP_UUID from the se_group_ref (last part of URL)\n",
    "se_group_uuid = se_group_ref_name.split(\"/\")[5]\n",
    "print(\"The extracted Service Engine Group UUID is \"+se_group_uuid)"
   ]
  },
  {
   "cell_type": "code",
   "execution_count": null,
   "metadata": {},
   "outputs": [],
   "source": [
    "# 2st query retrieve all virtual services that refer to the service Engine Group UUID by that se_group_ref\n",
    "query= {\n",
    "    \"fields\": \"name\", # Without blank spaces\n",
    "    \"refers_to\": f\"serviceenginegroup:{se_group_uuid}\"\n",
    "    }\n",
    "resp = api.get('virtualservice', params=query)\n",
    "print (\"Sending request to following URL: \" + resp.url)\n",
    "json.loads(resp.text)"
   ]
  },
  {
   "cell_type": "markdown",
   "metadata": {},
   "source": [
    "### 2.2 API GET Object by Name method"
   ]
  },
  {
   "cell_type": "markdown",
   "metadata": {},
   "source": [
    "Another interesing method is the **get_obj_by_name**. This method is very useful when you know the name of the object you are looking for. Instead of parsing the contents of the results in the full json response and creating a query using the name field, this method directly returns the response of a particular object. "
   ]
  },
  {
   "cell_type": "code",
   "execution_count": null,
   "metadata": {},
   "outputs": [],
   "source": [
    "# Get an specific object by his name \n",
    "api_name = \"virtualservice\"\n",
    "object_name = \"vs-example-org1\"\n",
    "object = api.get_object_by_name(api_name, object_name)\n",
    "# Display object content\n",
    "object "
   ]
  },
  {
   "cell_type": "markdown",
   "metadata": {},
   "source": [
    "### 2.3 API GET Object Ref method"
   ]
  },
  {
   "cell_type": "markdown",
   "metadata": {},
   "source": [
    "Similarly the **get_obj_ref** is useful to get the reference value of certain object. This is sometimes required in some of CRUD operations. "
   ]
  },
  {
   "cell_type": "code",
   "execution_count": null,
   "metadata": {},
   "outputs": [],
   "source": [
    "# Get an specific object by his name \n",
    "api_name = \"serviceenginegroup\"\n",
    "object_name = \"SEG-TARGET-MAD-001\"\n",
    "object = api.get_object_by_name(api_name, object_name)\n",
    "\n",
    "# Get object reference \n",
    "object_ref = api.get_obj_ref(object)\n",
    "print('The '+api_name+' reference of the '+api_name+' named '+object_name+' is:')\n",
    "print('- '+ str(object_ref))"
   ]
  },
  {
   "cell_type": "markdown",
   "metadata": {},
   "source": [
    "## 3.- Working with Data Structures"
   ]
  },
  {
   "cell_type": "markdown",
   "metadata": {},
   "source": [
    "Lets now get familiar with data structures and some tipical operations. As a first step, let's create a new GET virtualservices request and we save the received response into a variable named **data**"
   ]
  },
  {
   "cell_type": "code",
   "execution_count": null,
   "metadata": {},
   "outputs": [],
   "source": [
    "query = {\n",
    "   \"skip_default\": \"true\"\n",
    "}\n",
    "resp = api.get('virtualservice', params=query)\n",
    "data = json.loads(resp.text)\n",
    "\n",
    "print (\"Sending request to following URL: \" + resp.url)\n"
   ]
  },
  {
   "cell_type": "markdown",
   "metadata": {},
   "source": [
    "Once we have the response, we can save it permanently into a file as json format (double quotes). This can help to explore the contents or even to modify the JSON document for further operations. "
   ]
  },
  {
   "cell_type": "code",
   "execution_count": null,
   "metadata": {},
   "outputs": [],
   "source": [
    "# Save into a file\n",
    "with open('output.json', 'w') as outfile:\n",
    "    json.dump(data, outfile)"
   ]
  },
  {
   "cell_type": "markdown",
   "metadata": {},
   "source": [
    "Similarly we can open an existing JSON file (double quotes) and load the contents into a Python Dictionary (single quotes)"
   ]
  },
  {
   "cell_type": "code",
   "execution_count": null,
   "metadata": {},
   "outputs": [],
   "source": [
    "file_path = 'output.json'\n",
    "with open(file_path, 'r') as inputfile:\n",
    "    data = json.load(inputfile)\n",
    "data"
   ]
  },
  {
   "cell_type": "markdown",
   "metadata": {},
   "source": [
    "The response contents always include a **count** key that contains a value of the number of occurrences of the requested object whereas the response itself is contained as the value of the **results** key. The results key is essentially a _list of dictionaries_ Python data structure. We can refer the items using the index (0 for the first response, 1 for second response and so on). As an example, let's access to the first item"
   ]
  },
  {
   "cell_type": "code",
   "execution_count": null,
   "metadata": {},
   "outputs": [],
   "source": [
    "# Saving results in a new variable and access the first item of the list of dictionaries. \n",
    "results = data[\"results\"]\n",
    "results[0]"
   ]
  },
  {
   "cell_type": "markdown",
   "metadata": {},
   "source": [
    "### 3.- Filtering data"
   ]
  },
  {
   "cell_type": "markdown",
   "metadata": {},
   "source": [
    "Sometimes we want to extract an item (a single dictionary) from the existing list using a value of one of the fields as search element. For example, lets say from the n objects in above example, we want to get only the one where the **name** key contains a value equals to **vs-example-org1**. To implement this, we need to iterate over existing list until a coincidence is found using following sample code: "
   ]
  },
  {
   "cell_type": "code",
   "execution_count": null,
   "metadata": {},
   "outputs": [],
   "source": [
    "print(\"Number of items in results list: \" + str(len(results)))\n",
    "field_to_match = \"name\"\n",
    "value_to_match = \"vs-example-org1\"\n",
    "result = [ item for item in results if item.get(field_to_match) == value_to_match]\n",
    "print(\"Number of items in new filtered list: \" + str(len(result)))"
   ]
  },
  {
   "cell_type": "code",
   "execution_count": null,
   "metadata": {},
   "outputs": [],
   "source": [
    "print(\"The value of the name key for the single item is: \" +str(result[0][\"name\"]))"
   ]
  },
  {
   "cell_type": "markdown",
   "metadata": {},
   "source": [
    "Another typical operation is when we want to simplify the data by removing some irrelevant fields. As an example imagine we just want to extract the name, uuid, vsvip_ref, se_group_ref, vsvip_ref and pool_ref from the above full response. This can be done through following piece of code. \n",
    "\n",
    "_Sample output_:\n",
    "\n",
    "```json\n",
    "{'uuid': 'virtualservice-6bd64913-d5f4-41d7-ade9-eb2e7c003b23',\n",
    " 'se_group_ref': 'https://192.168.1.15/api/serviceenginegroup/serviceenginegroup-e5b13687-efbb-4417-9302-b1d37c367c8b',\n",
    " 'name': 'vs-example-org1',\n",
    " 'vsvip_ref': 'https://192.168.1.15/api/vsvip/vsvip-b2dc6a93-4bc1-4462-a778-b22dbf0a6e9b',\n",
    " 'pool_ref': 'https://192.168.1.15/api/pool/pool-66773fdb-8d10-4823-9257-51fffed6b1d4'}\n",
    "```"
   ]
  },
  {
   "cell_type": "code",
   "execution_count": null,
   "metadata": {},
   "outputs": [],
   "source": [
    "# Save data to filter into a new variable\n",
    "data_to_filter = result[0]\n",
    "\n",
    "# Define list containing fields_of_interest\n",
    "fields_of_interest = [ \n",
    "    'uuid',\n",
    "    'se_group_ref',\n",
    "    'name', \n",
    "    'vsvip_ref',\n",
    "    'pool_ref']\n",
    "\n",
    "# Filter the data iterating through the items and save results\n",
    "filtered_data = {key: data_to_filter[key] for key in fields_of_interest if key in data_to_filter }\n",
    "print(\"The new filtered data is:\")\n",
    "print(json.dumps(filtered_data, indent=3))"
   ]
  }
 ],
 "metadata": {
  "kernelspec": {
   "display_name": "Python 3",
   "language": "python",
   "name": "python3"
  },
  "language_info": {
   "codemirror_mode": {
    "name": "ipython",
    "version": 3
   },
   "file_extension": ".py",
   "mimetype": "text/x-python",
   "name": "python",
   "nbconvert_exporter": "python",
   "pygments_lexer": "ipython3",
   "version": "3.10.12"
  }
 },
 "nbformat": 4,
 "nbformat_minor": 2
}
