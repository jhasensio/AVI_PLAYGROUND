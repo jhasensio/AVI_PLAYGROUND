{
 "cells": [
  {
   "cell_type": "markdown",
   "metadata": {},
   "source": [
    "# AVI Python SDK. CREATE, MODIFYING AND DELETING Objects\n",
    "\n",
    "Having understood some basic concepts of how to use the sdk with the read operations, let's explore some operations that allow us to create, update and delete to have the complete picture.\n",
    "\n",
    "https://avinetworks.com/docs/latest/api-guide/overview.html \n",
    "https://github.com/vmware/alb-sdk/tree/eng/python/avi/sdk \n",
    "\n",
    "\n",
    "- [1.- Initial Login](#1--initial-login)\n",
    "- [2.- Create (POST) Operations](#2--create-post-method)\n",
    "- [3.- Modify (PUT) Operations](#3--modify-put-method)\n",
    "- [4.- Melete (DELETE) Operations](#3--modify-put-method)"
   ]
  },
  {
   "cell_type": "markdown",
   "metadata": {},
   "source": [
    "## Initial Login"
   ]
  },
  {
   "cell_type": "markdown",
   "metadata": {},
   "source": [
    "As a first step, we need to create the ApiSession object to interact with the controller via API. "
   ]
  },
  {
   "cell_type": "code",
   "execution_count": 1,
   "metadata": {},
   "outputs": [
    {
     "name": "stdout",
     "output_type": "stream",
     "text": [
      "Successful connection to avicontroller. Session ID:al7z8g6t34vzxc06vys7jvymg3igucoy\n"
     ]
    }
   ],
   "source": [
    "from avi.sdk.avi_api import ApiSession\n",
    "import datetime, time\n",
    "from requests.packages import urllib3\n",
    "urllib3.disable_warnings()\n",
    "import json\n",
    "\n",
    "# Import environment variables with controller information and credentials\n",
    "from envs.controller_info import session_params as session_env\n",
    "\n",
    "# Establish a first session with AVI Controller\n",
    "api = ApiSession(\n",
    "    controller_ip=session_env['controller_ip'],\n",
    "    username=session_env['controller_username'],\n",
    "    password=session_env['controller_password'],\n",
    "    tenant=session_env['tenant'],\n",
    "    api_version=session_env['api_version']\n",
    "    )\n",
    "# Update headers and api version imported from demo env file with controller version (ensure actual API Version is uses in subsequent requests\n",
    "session_env['headers']['X-Avi-Version'] = api.remote_api_version['Version']\n",
    "session_env['api_version'] = api.remote_api_version['Version']\n",
    "\n",
    "# Create a new session with received AVI API Version\n",
    "api = ApiSession(\n",
    "    controller_ip=session_env['controller_ip'],\n",
    "    username=session_env['controller_username'],\n",
    "    password=session_env['controller_password'],\n",
    "    tenant=session_env['tenant'],\n",
    "    api_version=session_env['api_version']\n",
    "    )\n",
    "# Display Session ID to Verify AVI Controller Session Establishment\n",
    "print('Successful connection to ' + session_env['name'] + '. Session ID:' + api.session_id)"
   ]
  },
  {
   "cell_type": "markdown",
   "metadata": {},
   "source": [
    "## 2.- CREATE (POST) Method"
   ]
  },
  {
   "cell_type": "markdown",
   "metadata": {},
   "source": [
    "### Example 2.1: Sending manually created BODY"
   ]
  },
  {
   "cell_type": "markdown",
   "metadata": {},
   "source": [
    "The POST method is used to create new objects. The way to invoke is quite similar to the GET method but this time we need to create a BODY containing information we want to update. Since error handling is important because we can make mistakes with fields names, it is crucial to add some logic to control AVI controller responses. In below example we will create a simple BODY manually including required fields to create a new vsvip object."
   ]
  },
  {
   "cell_type": "code",
   "execution_count": 31,
   "metadata": {},
   "outputs": [
    {
     "name": "stdout",
     "output_type": "stream",
     "text": [
      "<Response [201]>\n",
      "- New vsvip named vsvip-new-001 CREATED\n"
     ]
    }
   ],
   "source": [
    "# Define POST parameters\n",
    "url_path=\"vsvip\"\n",
    "vsvip_name = \"vsvip-new-001\"\n",
    "\n",
    "\n",
    "body = {\n",
    "  \"vip\": [\n",
    "    {\n",
    "      \"enabled\": \"true\",\n",
    "      \"auto_allocate_ip\": \"true\",\n",
    "      \"auto_allocate_ip_type\": \"V4_ONLY\",\n",
    "      \"ipam_network_subnet\": {\n",
    "          \"network_ref\": \"https://192.168.1.15/api/network/network-5b30f803-879e-4312-b49b-309f41e98f7d\",\n",
    "          \"subnet\": {\n",
    "            \"ip_addr\": {\n",
    "               \"addr\": \"192.168.1.0\",\n",
    "               \"type\": \"V4\"\n",
    "            },\n",
    "            \"mask\": 24\n",
    "        }\n",
    "      },\n",
    "      \"vip_id\": 1\n",
    "    }\n",
    "  ],\n",
    "  \"name\": vsvip_name,\n",
    "}\n",
    "\n",
    "#Send POST information via POST\n",
    "resp = api.post (url_path, data=json.dumps(body))\n",
    "\n",
    "if resp.status_code in range(200, 299):\n",
    "    print(resp)\n",
    "    print('- New '+url_path+' named '+body['name'], resp.reason)#, resp.text)\n",
    "else:\n",
    "    print('Error in creating '+url_path+' :%s' % resp.text)"
   ]
  },
  {
   "cell_type": "markdown",
   "metadata": {},
   "source": [
    "We can extract some information from the response received from the AVI Controller. In this example, we can extract the allocated IP address from the internal IPAM. "
   ]
  },
  {
   "cell_type": "code",
   "execution_count": 29,
   "metadata": {},
   "outputs": [
    {
     "name": "stdout",
     "output_type": "stream",
     "text": [
      "The allocated IP Address for the VSVIP object is: 192.168.1.53\n"
     ]
    }
   ],
   "source": [
    "print(\"The allocated IP Address for the VSVIP object is: \" + json.loads(resp.text)[\"vip\"][0][\"ip_address\"][\"addr\"])"
   ]
  },
  {
   "cell_type": "markdown",
   "metadata": {},
   "source": [
    "### Example 2.2: Extracting references using api call instead of full values"
   ]
  },
  {
   "cell_type": "markdown",
   "metadata": {},
   "source": [
    "A smarter way to populate some of the fields is by calling recurrently the API to get the value. As an example below, instead of providing the full network_ref value, we are just querying to the API where the name correspond to the intended network name _home-network_ with is much more simple way"
   ]
  },
  {
   "cell_type": "code",
   "execution_count": 32,
   "metadata": {},
   "outputs": [
    {
     "name": "stdout",
     "output_type": "stream",
     "text": [
      "<Response [201]>\n",
      "- New vsvip named vsvip-new-002 CREATED\n",
      "\n",
      "The allocated IP Address for the VSVIP object is: 192.168.1.54\n"
     ]
    }
   ],
   "source": [
    "# Define POST parameters\n",
    "url_path=\"vsvip\"\n",
    "vsvip_name = \"vsvip-new-002\"\n",
    "network_name = \"home-network\"\n",
    "\n",
    "\n",
    "body = {\n",
    "  \"vip\": [\n",
    "    {\n",
    "      \"enabled\": \"true\",\n",
    "      \"auto_allocate_ip\": \"true\",\n",
    "      \"auto_allocate_ip_type\": \"V4_ONLY\",\n",
    "      \"ipam_network_subnet\": {\n",
    "          \"network_ref\": '/api/network?name='+network_name,\n",
    "          \"subnet\": {\n",
    "            \"ip_addr\": {\n",
    "               \"addr\": \"192.168.1.0\",\n",
    "               \"type\": \"V4\"\n",
    "            },\n",
    "            \"mask\": 24\n",
    "        }\n",
    "      },\n",
    "      \"vip_id\": 1\n",
    "    }\n",
    "  ],\n",
    "  \"name\": vsvip_name,\n",
    "}\n",
    "\n",
    "#Send BODY information via POST\n",
    "resp = api.post (url_path, data=json.dumps(body))\n",
    "\n",
    "if resp.status_code in range(200, 299):\n",
    "    print(resp)\n",
    "    print('- New '+url_path+' named '+body['name'], resp.reason)#, resp.text)\n",
    "else:\n",
    "    print('Error in creating '+url_path+' :%s' % resp.text)\n",
    "\n",
    "#Shows allocated IP address.\n",
    "print()\n",
    "print(\"The allocated IP Address for the VSVIP object is: \" + json.loads(resp.text)[\"vip\"][0][\"ip_address\"][\"addr\"])"
   ]
  },
  {
   "cell_type": "markdown",
   "metadata": {},
   "source": [
    "### Example 2.3.- Creating new object using existing one as a template"
   ]
  },
  {
   "cell_type": "markdown",
   "metadata": {},
   "source": [
    "As you can tell, sometimes it could be really hard to craft the body from scratch since you need to be sure of all the mandatory fields and sintax. A better approach might be to extract (read) the information of an existing object and use this as a template. This allows you to clone JSON body and change the required information to create a new object without worrying that much about sintax and name of fields. \n",
    "\n",
    "Following example will use a SOURCE serviceenginegroup as template and after changing unique keys such as the name it will create a new cloned object. "
   ]
  },
  {
   "cell_type": "code",
   "execution_count": 38,
   "metadata": {},
   "outputs": [
    {
     "name": "stdout",
     "output_type": "stream",
     "text": [
      "Sending request to following URL: https://192.168.1.15/api/serviceenginegroup?name=MAD-SEG001\n",
      "<Response [200]>\n",
      "OK\n",
      "Data found for name: MAD-SEG001\n"
     ]
    }
   ],
   "source": [
    "# Cloning an object from an exising one after changing required parameters\n",
    "\n",
    "# Define GET parameters. Type SOURCE service engine group \n",
    "url_path=\"serviceenginegroup\"\n",
    "src_name = \"MAD-SEG001\"\n",
    "query = {\n",
    "   \"name\": src_name \n",
    "}\n",
    "\n",
    "resp = api.get(url_path, params=query)\n",
    "print (\"Sending request to following URL: \" +resp.url)\n",
    "\n",
    "if resp.status_code in range(200, 299):\n",
    "    print(resp)\n",
    "    print(resp.reason)\n",
    "else:\n",
    "    print('Error in GET request '+url_path+' :%s' % resp.text)\n",
    "\n",
    "# Extracting results contents\n",
    "if (json.loads(resp.text)['count']==0):\n",
    "    print()\n",
    "    print(\"Empty response for name: \" +src_name)\n",
    "else:\n",
    "    print(\"Data found for name: \" +src_name)\n",
    "    data = json.loads(resp.text)[\"results\"][0]\n"
   ]
  },
  {
   "cell_type": "markdown",
   "metadata": {},
   "source": [
    "Now we have the response we can create a new object with just the obtained response and updating the required fields with new values as shown below:"
   ]
  },
  {
   "cell_type": "code",
   "execution_count": 47,
   "metadata": {},
   "outputs": [
    {
     "name": "stdout",
     "output_type": "stream",
     "text": [
      "Updated fields are: \n",
      "- name: NEW-SEGROUP-003\n",
      "- max_vs_per_se: 22\n"
     ]
    }
   ],
   "source": [
    "# Define new parameters\n",
    "new_fields = {\n",
    "   \"name\": \"NEW-SEGROUP-003\",\n",
    "   \"max_vs_per_se\": 22\n",
    "}\n",
    "\n",
    "# Update dictionary overriding new fields values \n",
    "data.update(new_fields)\n",
    "\n",
    "# Print modified items\n",
    "print(\"Updated fields are: \")\n",
    "for item in new_fields: \n",
    "    print(\"- \"+item+\": \" +str(data[item]))"
   ]
  },
  {
   "cell_type": "markdown",
   "metadata": {},
   "source": [
    "Now we have the new body, we just need to invoke the POST method again pushing the new body as part of the request. "
   ]
  },
  {
   "cell_type": "code",
   "execution_count": 51,
   "metadata": {},
   "outputs": [
    {
     "name": "stdout",
     "output_type": "stream",
     "text": [
      "<Response [201]>\n",
      "- New serviceenginegroup named NEW-SEGROUP-003 CREATED\n"
     ]
    }
   ],
   "source": [
    "#Send BODY information via POST\n",
    "url_path = \"serviceenginegroup\"\n",
    "body = data\n",
    "resp = api.post (url_path, data=json.dumps(body))\n",
    "\n",
    "if resp.status_code in range(200, 299):\n",
    "    print(resp)\n",
    "    print('- New '+url_path+' named '+body['name'], resp.reason)#, resp.text)\n",
    "else:\n",
    "    print('Error in creating '+url_path+' :%s' % resp.text)"
   ]
  },
  {
   "cell_type": "markdown",
   "metadata": {},
   "source": [
    "## 3.- Modify (PUT) Method"
   ]
  },
  {
   "cell_type": "markdown",
   "metadata": {},
   "source": [
    "PUT is the method used to make modifications of an existing object. As in the POST method, a body containing the information we want to update is required. Another important point is the uuid since the path of the url generally is comprised of the url + the uuid of the target object.  "
   ]
  },
  {
   "cell_type": "markdown",
   "metadata": {},
   "source": [
    "In this example we will change the name of an existing virtual service. We need to get the uuid before to proceed with name change. Also, override required fields (name in this case) with new values. "
   ]
  },
  {
   "cell_type": "code",
   "execution_count": 66,
   "metadata": {},
   "outputs": [],
   "source": [
    "# Get the Virtual Service configuration of a given name to extract uuid\n",
    "vs_name = \"vs-example-org1\"\n",
    "vs = api.get_object_by_name(\"virtualservice\", vs_name)\n",
    "\n",
    "# Extract uuid from response\n",
    "vs_uuid = vs[\"uuid\"]\n",
    "\n",
    "# Override name field with new name\n",
    "vs[\"name\"] = \"vs-example-org1-new\""
   ]
  },
  {
   "cell_type": "code",
   "execution_count": 68,
   "metadata": {},
   "outputs": [
    {
     "name": "stdout",
     "output_type": "stream",
     "text": [
      "<Response [200]>\n",
      "- Object virtualservice/virtualservice-6bd64913-d5f4-41d7-ade9-eb2e7c003b23 named vs-example-org1 modified OK\n",
      "\n"
     ]
    }
   ],
   "source": [
    "# Define PUT parameters\n",
    "url_path=\"virtualservice/\"+vs_uuid\n",
    "body = vs \n",
    "\n",
    "#Send BODY information via PUT\n",
    "resp = api.put (url_path, data=json.dumps(body))\n",
    "\n",
    "if resp.status_code in range(200, 299):\n",
    "    print(resp)\n",
    "    print('- Object '+url_path+' named '+body['name']+ \" modified\", resp.reason)#, resp.text)\n",
    "    print()\n",
    "else:\n",
    "    print('Error in modifying '+url_path+' :%s' % resp.text)"
   ]
  },
  {
   "cell_type": "markdown",
   "metadata": {},
   "source": [
    "## 4.- Delete (DELETE) Method"
   ]
  },
  {
   "cell_type": "markdown",
   "metadata": {},
   "source": [
    "Last method is the delete method that, as you can guess is used for deleting an existing object. "
   ]
  },
  {
   "cell_type": "code",
   "execution_count": 76,
   "metadata": {},
   "outputs": [],
   "source": [
    "# Get the Virtual Service configuration of a given name to extract uuid\n",
    "seg_name = \"NEW-SEGROUP-003\"\n",
    "seg = api.get_object_by_name(\"serviceenginegroup\", seg_name)\n",
    "\n",
    "# Extract uuid from response\n",
    "seg_uuid = seg[\"uuid\"]"
   ]
  },
  {
   "cell_type": "code",
   "execution_count": 77,
   "metadata": {},
   "outputs": [
    {
     "data": {
      "text/plain": [
       "'serviceenginegroup-62be084f-212f-4f67-a169-43d2869ed62f'"
      ]
     },
     "execution_count": 77,
     "metadata": {},
     "output_type": "execute_result"
    }
   ],
   "source": [
    "seg_uuid"
   ]
  },
  {
   "cell_type": "code",
   "execution_count": 78,
   "metadata": {},
   "outputs": [
    {
     "name": "stdout",
     "output_type": "stream",
     "text": [
      "<Response [204]>\n",
      "- Object serviceenginegroup/serviceenginegroup-62be084f-212f-4f67-a169-43d2869ed62f named NEW-SEGROUP-003 deleted NO CONTENT\n",
      "\n"
     ]
    }
   ],
   "source": [
    "# Define DELETE parameters\n",
    "url_path=\"serviceenginegroup/\"+seg_uuid\n",
    "body = seg\n",
    "\n",
    "#Send BODY information via DELETE\n",
    "resp = api.delete(url_path)\n",
    "\n",
    "if resp.status_code in range(200, 299):\n",
    "    print(resp)\n",
    "    print('- Object '+url_path+' named '+body['name']+ \" deleted\", resp.reason)#, resp.text)\n",
    "    print()\n",
    "else:\n",
    "    print('Error in deleting '+url_path+' :%s' % resp.text)"
   ]
  }
 ],
 "metadata": {
  "kernelspec": {
   "display_name": "Python 3",
   "language": "python",
   "name": "python3"
  },
  "language_info": {
   "codemirror_mode": {
    "name": "ipython",
    "version": 3
   },
   "file_extension": ".py",
   "mimetype": "text/x-python",
   "name": "python",
   "nbconvert_exporter": "python",
   "pygments_lexer": "ipython3",
   "version": "3.10.12"
  }
 },
 "nbformat": 4,
 "nbformat_minor": 2
}
