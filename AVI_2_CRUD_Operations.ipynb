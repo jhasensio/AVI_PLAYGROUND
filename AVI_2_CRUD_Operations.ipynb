{
 "cells": [
  {
   "cell_type": "markdown",
   "metadata": {},
   "source": [
    "# AVI Python SDK. CREATE, MODIFYING AND DELETING Objects\n",
    "\n",
    "Having understood some basic concepts of how to use the sdk with the read operations, let's explore some operations that allow us to create, update and delete to have the complete picture.\n",
    "\n",
    "https://avinetworks.com/docs/latest/api-guide/overview.html \n",
    "https://github.com/vmware/alb-sdk/tree/eng/python/avi/sdk \n",
    "\n",
    "\n",
    "- [1.- Initial Login](#1--initial-login)\n",
    "- [2.- Create (POST) Operations](#2--create-post-method)\n",
    "- [3.- Modify (PUT) Operations](#3--modify-put-method)\n",
    "- [4.- Melete (DELETE) Operations](#3--modify-put-method)"
   ]
  },
  {
   "cell_type": "markdown",
   "metadata": {},
   "source": [
    "## Initial Login"
   ]
  },
  {
   "cell_type": "markdown",
   "metadata": {},
   "source": [
    "As a first step, we need to create the ApiSession object to interact with the controller via API. "
   ]
  },
  {
   "cell_type": "code",
   "execution_count": 2,
   "metadata": {},
   "outputs": [
    {
     "name": "stdout",
     "output_type": "stream",
     "text": [
      "Successful connection to avicontroller. Session ID:bbsmrhb2ollqkittzsc1syh6452j7krd\n"
     ]
    }
   ],
   "source": [
    "from avi.sdk.avi_api import ApiSession\n",
    "import datetime, time\n",
    "from requests.packages import urllib3\n",
    "urllib3.disable_warnings()\n",
    "import json\n",
    "\n",
    "# Import environment variables with controller information and credentials\n",
    "from envs.controller_info import session_params as session_env\n",
    "\n",
    "# Establish a first session with AVI Controller\n",
    "api = ApiSession(\n",
    "    controller_ip=session_env['controller_ip'],\n",
    "    username=session_env['controller_username'],\n",
    "    password=session_env['controller_password'],\n",
    "    tenant=session_env['tenant'],\n",
    "    api_version=session_env['api_version']\n",
    "    )\n",
    "# Update headers and api version imported from demo env file with controller version (ensure actual API Version is uses in subsequent requests\n",
    "session_env['headers']['X-Avi-Version'] = api.remote_api_version['Version']\n",
    "session_env['api_version'] = api.remote_api_version['Version']\n",
    "\n",
    "# Create a new session with received AVI API Version\n",
    "api = ApiSession(\n",
    "    controller_ip=session_env['controller_ip'],\n",
    "    username=session_env['controller_username'],\n",
    "    password=session_env['controller_password'],\n",
    "    tenant=session_env['tenant'],\n",
    "    api_version=session_env['api_version']\n",
    "    )\n",
    "# Display Session ID to Verify AVI Controller Session Establishment\n",
    "print('Successful connection to ' + session_env['name'] + '. Session ID:' + api.session_id)"
   ]
  },
  {
   "cell_type": "markdown",
   "metadata": {},
   "source": [
    "## 2.- CREATE (POST) Method"
   ]
  },
  {
   "cell_type": "markdown",
   "metadata": {},
   "source": [
    "### Example 2.1: Manually created BODY"
   ]
  },
  {
   "cell_type": "markdown",
   "metadata": {},
   "source": [
    "The POST method is used to create new objects. The way to invoke is quite similar to the GET method but this time we need to create a BODY containing information we want to update. Since error handling is important because we can make mistakes with fields names, it is crucial to add some logic to control AVI controller responses. In below example we will create a simple BODY manually including required fields to create a new vsvip object."
   ]
  },
  {
   "cell_type": "code",
   "execution_count": 45,
   "metadata": {},
   "outputs": [
    {
     "name": "stdout",
     "output_type": "stream",
     "text": [
      "<Response [201]>\n",
      "- New vsvip named vsvip-target-003 CREATED\n"
     ]
    }
   ],
   "source": [
    "# Define POST parameters\n",
    "url_path=\"vsvip\"\n",
    "vsvip_name = \"vsvip-target-003\"\n",
    "\n",
    "\n",
    "body = {\n",
    "  \"vip\": [\n",
    "    {\n",
    "      \"enabled\": \"true\",\n",
    "      \"auto_allocate_ip\": \"true\",\n",
    "      \"auto_allocate_ip_type\": \"V4_ONLY\",\n",
    "      \"ipam_network_subnet\": {\n",
    "          \"network_ref\": \"https://192.168.1.15/api/network/network-5b30f803-879e-4312-b49b-309f41e98f7d\",\n",
    "          \"subnet\": {\n",
    "            \"ip_addr\": {\n",
    "               \"addr\": \"192.168.1.0\",\n",
    "               \"type\": \"V4\"\n",
    "            },\n",
    "            \"mask\": 24\n",
    "        }\n",
    "      },\n",
    "      \"vip_id\": 1\n",
    "    }\n",
    "  ],\n",
    "  \"name\": vsvip_name,\n",
    "}\n",
    "\n",
    "#Send POST information via POST\n",
    "resp = api.post (url_path, data=json.dumps(body))\n",
    "\n",
    "if resp.status_code in range(200, 299):\n",
    "    print(resp)\n",
    "    print('- New '+url_path+' named '+body['name'], resp.reason)#, resp.text)\n",
    "else:\n",
    "    print('Error in creating '+url_path+' :%s' % resp.text)"
   ]
  },
  {
   "cell_type": "markdown",
   "metadata": {},
   "source": [
    "We can extract some information from the response received from the AVI Controller. In this example, we can show the allocated IP address from the internal IPAM. "
   ]
  },
  {
   "cell_type": "code",
   "execution_count": 29,
   "metadata": {},
   "outputs": [
    {
     "name": "stdout",
     "output_type": "stream",
     "text": [
      "The allocated IP Address for the VSVIP object is: 192.168.1.53\n"
     ]
    }
   ],
   "source": [
    "print(\"The allocated IP Address for the VSVIP object is: \" + json.loads(resp.text)[\"vip\"][0][\"ip_address\"][\"addr\"])"
   ]
  },
  {
   "cell_type": "markdown",
   "metadata": {},
   "source": [
    "### Example 2.2: Extracting references using api call instead of full values"
   ]
  },
  {
   "cell_type": "markdown",
   "metadata": {},
   "source": [
    "A smarter way to populate some of the fields is by calling recurrently the API to get the value. As an example below, instead of providing the full network_ref value, we are just querying to the API where the name correspond to the intended network name _home-network_ with is much more simple way"
   ]
  },
  {
   "cell_type": "code",
   "execution_count": 32,
   "metadata": {},
   "outputs": [
    {
     "name": "stdout",
     "output_type": "stream",
     "text": [
      "<Response [201]>\n",
      "- New vsvip named vsvip-new-002 CREATED\n",
      "\n",
      "The allocated IP Address for the VSVIP object is: 192.168.1.54\n"
     ]
    }
   ],
   "source": [
    "# Define POST parameters\n",
    "url_path=\"vsvip\"\n",
    "vsvip_name = \"vsvip-new-002\"\n",
    "network_name = \"home-network\"\n",
    "\n",
    "\n",
    "body = {\n",
    "  \"vip\": [\n",
    "    {\n",
    "      \"enabled\": \"true\",\n",
    "      \"auto_allocate_ip\": \"true\",\n",
    "      \"auto_allocate_ip_type\": \"V4_ONLY\",\n",
    "      \"ipam_network_subnet\": {\n",
    "          \"network_ref\": '/api/network?name='+network_name,\n",
    "          \"subnet\": {\n",
    "            \"ip_addr\": {\n",
    "               \"addr\": \"192.168.1.0\",\n",
    "               \"type\": \"V4\"\n",
    "            },\n",
    "            \"mask\": 24\n",
    "        }\n",
    "      },\n",
    "      \"vip_id\": 1\n",
    "    }\n",
    "  ],\n",
    "  \"name\": vsvip_name,\n",
    "}\n",
    "\n",
    "#Send BODY information via POST\n",
    "resp = api.post (url_path, data=json.dumps(body))\n",
    "\n",
    "if resp.status_code in range(200, 299):\n",
    "    print(resp)\n",
    "    print('- New '+url_path+' named '+body['name'], resp.reason)#, resp.text)\n",
    "else:\n",
    "    print('Error in creating '+url_path+' :%s' % resp.text)\n",
    "\n",
    "#Shows allocated IP address.\n",
    "print()\n",
    "print(\"The allocated IP Address for the VSVIP object is: \" + json.loads(resp.text)[\"vip\"][0][\"ip_address\"][\"addr\"])"
   ]
  },
  {
   "cell_type": "markdown",
   "metadata": {},
   "source": [
    "### Example 2.3.- Creating new object using existing one as a template"
   ]
  },
  {
   "cell_type": "markdown",
   "metadata": {},
   "source": [
    "As you can tell, sometimes it could be really hard to craft the body from scratch since you need to be sure of all the mandatory fields and sintax. A better approach might be to extract (read) the information of an existing object and use this as a template. This allows you to clone JSON body and change the required information to create a new object without worrying that much about sintax and name of fields. \n",
    "\n",
    "Following example will use an existing serviceenginegroup object as template and after changing unique keys such as the name it will create a new cloned object. "
   ]
  },
  {
   "cell_type": "code",
   "execution_count": 74,
   "metadata": {},
   "outputs": [],
   "source": [
    "# Cloning an object from an exising one after changing required parameters\n",
    "api_resource = \"serviceenginegroup\"\n",
    "src_seg_name = \"SEG-TARGET-MAD-001\"\n",
    "# Get the existing Object to be used as template\n",
    "seg_data = api.get_object_by_name (api_resource, src_seg_name)"
   ]
  },
  {
   "cell_type": "markdown",
   "metadata": {},
   "source": [
    "Now we have the response we can create a new object with just the obtained response and updating the required fields with new values as shown below:"
   ]
  },
  {
   "cell_type": "code",
   "execution_count": 75,
   "metadata": {},
   "outputs": [
    {
     "name": "stdout",
     "output_type": "stream",
     "text": [
      "Updated fields are: \n",
      "- name: NEW-SEGROUP-003\n",
      "- max_vs_per_se: 22\n"
     ]
    }
   ],
   "source": [
    "# Override fields as per requirements\n",
    "new_values = {\n",
    "   \"name\": \"NEW-SEGROUP-003\",\n",
    "   \"max_vs_per_se\": 22\n",
    "}\n",
    "\n",
    "# Update dictionary overriding new fields values from above dictionary\n",
    "seg_data.update(new_values)\n",
    "\n",
    "# Print modified items\n",
    "print(\"Updated fields are: \")\n",
    "for item in new_values: \n",
    "    print(\"- \"+item+\": \" +str(seg_data[item]))"
   ]
  },
  {
   "cell_type": "markdown",
   "metadata": {},
   "source": [
    "Now we have the new body, we just need to invoke the POST method again pushing the new body as part of the request. "
   ]
  },
  {
   "cell_type": "code",
   "execution_count": 76,
   "metadata": {},
   "outputs": [
    {
     "name": "stdout",
     "output_type": "stream",
     "text": [
      "<Response [201]>\n",
      "- New serviceenginegroup named NEW-SEGROUP-003 CREATED\n"
     ]
    }
   ],
   "source": [
    "#Send BODY information via POST\n",
    "url_path = \"serviceenginegroup\"\n",
    "body = seg_data\n",
    "resp = api.post (url_path, data=json.dumps(body))\n",
    "\n",
    "if resp.status_code in range(200, 299):\n",
    "    print(resp)\n",
    "    print('- New '+url_path+' named '+body['name'], resp.reason)#, resp.text)\n",
    "else:\n",
    "    print('Error in creating '+url_path+' :%s' % resp.text)"
   ]
  },
  {
   "cell_type": "markdown",
   "metadata": {},
   "source": [
    "## 3.- Modify (PUT) Method"
   ]
  },
  {
   "cell_type": "markdown",
   "metadata": {},
   "source": [
    "PUT is the method used to make modifications of an existing object. As in the POST method, a body containing the information we want to update is required. Another important point is the uuid since the path of the url generally is comprised of the url + the uuid of the target object.  "
   ]
  },
  {
   "cell_type": "markdown",
   "metadata": {},
   "source": [
    "In this example we will change the name of an existing virtual service. We need to get the uuid before to proceed with name change. Also, override required fields (name in this case) with new values. "
   ]
  },
  {
   "cell_type": "code",
   "execution_count": 38,
   "metadata": {},
   "outputs": [
    {
     "name": "stderr",
     "output_type": "stream",
     "text": [
      "Warning: Object Not found for virtualservice named vs-example-org1-new233\n"
     ]
    }
   ],
   "source": [
    "# Get the Virtual Service configuration of a given name to extract uuid\n",
    "vs_name = \"vs-example-org1-new233\"\n",
    "vs_new_name = \"vs-example-org1\"\n",
    "vs = api.get_object_by_name(\"virtualservice\", vs_name)\n",
    "\n",
    "# Check if a non-empty response was received \n",
    "if vs:\n",
    "   # Extract uuid from response\n",
    "   vs_uuid = vs[\"uuid\"]\n",
    "   # Override name field with new name\n",
    "   vs[\"name\"] = vs_new_name\n",
    "   print(\"Data found for \"+vs_name)\n"
   ]
  },
  {
   "cell_type": "code",
   "execution_count": 29,
   "metadata": {},
   "outputs": [
    {
     "name": "stdout",
     "output_type": "stream",
     "text": [
      "<Response [200]>\n",
      "- Object virtualservice/virtualservice-6bd64913-d5f4-41d7-ade9-eb2e7c003b23 named vs-example-org1 modified OK\n",
      "\n"
     ]
    }
   ],
   "source": [
    "# Define PUT parameters\n",
    "url_path=\"virtualservice/\"+vs_uuid\n",
    "body = vs \n",
    "\n",
    "#Send BODY information via PUT\n",
    "resp = api.put (url_path, data=json.dumps(body))\n",
    "\n",
    "if resp.status_code in range(200, 299):\n",
    "    print(resp)\n",
    "    print('- Object '+url_path+' named '+body['name']+ \" modified\", resp.reason)#, resp.text)\n",
    "    print()\n",
    "else:\n",
    "    print('Error in modifying '+url_path+' :%s' % resp.text)"
   ]
  },
  {
   "cell_type": "markdown",
   "metadata": {},
   "source": [
    "## 4.- Delete (DELETE) Method"
   ]
  },
  {
   "cell_type": "markdown",
   "metadata": {},
   "source": [
    "Last method is the delete method that, as you can guess is used for deleting an existing object. "
   ]
  },
  {
   "cell_type": "code",
   "execution_count": 36,
   "metadata": {},
   "outputs": [
    {
     "name": "stderr",
     "output_type": "stream",
     "text": [
      "Warning: Object Not found for serviceenginegroup named NEW-SEGROUP-003\n"
     ]
    }
   ],
   "source": [
    "# Get the Service En configuration of a given name to extract uuid\n",
    "api_resource = \"serviceenginegroup\"\n",
    "obj_name = \"NEW-SEGROUP-003\"\n",
    "object = api.get_object_by_name(\"serviceenginegroup\", seg_name)\n",
    "\n",
    "# Check if a non-empty response was received \n",
    "if seg:\n",
    "   # Extract uuid from response\n",
    "   seg_uuid = vs[\"uuid\"]\n",
    "   # Override name field with new name\n",
    "   print(\"Data found for \"+seg_name)"
   ]
  },
  {
   "cell_type": "code",
   "execution_count": 32,
   "metadata": {},
   "outputs": [
    {
     "data": {
      "text/plain": [
       "{'_last_modified': '1724075405167618',\n",
       " 'accelerated_networking': True,\n",
       " 'active_standby': True,\n",
       " 'aggressive_failure_detection': False,\n",
       " 'algo': 'PLACEMENT_ALGO_DISTRIBUTED',\n",
       " 'app_cache_percent': 0,\n",
       " 'app_cache_threshold': 5,\n",
       " 'app_learning_memory_percent': 0,\n",
       " 'archive_shm_limit': 8,\n",
       " 'async_ssl': False,\n",
       " 'async_ssl_threads': 1,\n",
       " 'auto_rebalance': False,\n",
       " 'auto_rebalance_interval': 300,\n",
       " 'auto_redistribute_active_standby_load': False,\n",
       " 'baremetal_dispatcher_handles_flows': False,\n",
       " 'bgp_peer_monitor_failover_enabled': False,\n",
       " 'bgp_state_update_interval': 60,\n",
       " 'buffer_se': 0,\n",
       " 'cloud_ref': 'https://192.168.1.15/api/cloud/cloud-baf1f7f6-18ff-46cb-a134-6154d9af52a1',\n",
       " 'compress_ip_rules_for_each_ns_subnet': True,\n",
       " 'config_debugs_on_all_cores': False,\n",
       " 'connection_memory_percentage': 50,\n",
       " 'core_shm_app_cache': False,\n",
       " 'core_shm_app_learning': False,\n",
       " 'cpu_reserve': False,\n",
       " 'cpu_socket_affinity': False,\n",
       " 'datascript_timeout': 1000000,\n",
       " 'disable_avi_securitygroups': False,\n",
       " 'disable_csum_offloads': False,\n",
       " 'disable_flow_probes': False,\n",
       " 'disable_se_memory_check': False,\n",
       " 'disable_tso': False,\n",
       " 'disk_per_se': 15,\n",
       " 'distribute_load_active_standby': False,\n",
       " 'distribute_queues': False,\n",
       " 'distribute_vnics': False,\n",
       " 'downstream_send_timeout': 3600000,\n",
       " 'dp_aggressive_deq_interval_msec': 1,\n",
       " 'dp_aggressive_enq_interval_msec': 1,\n",
       " 'dp_aggressive_hb_frequency': 100,\n",
       " 'dp_aggressive_hb_timeout_count': 10,\n",
       " 'dp_deq_interval_msec': 20,\n",
       " 'dp_enq_interval_msec': 20,\n",
       " 'dp_hb_frequency': 100,\n",
       " 'dp_hb_timeout_count': 10,\n",
       " 'dpdk_gro_timeout_interval': 50,\n",
       " 'enable_gratarp_permanent': False,\n",
       " 'enable_hsm_log': False,\n",
       " 'enable_hsm_priming': False,\n",
       " 'enable_multi_lb': False,\n",
       " 'extra_config_multiplier': 0,\n",
       " 'extra_shared_config_memory': 0,\n",
       " 'flow_table_new_syn_max_entries': 0,\n",
       " 'free_list_size': 1024,\n",
       " 'gratarp_permanent_periodicity': 10,\n",
       " 'grpc_channel_connect_timeout': 15,\n",
       " 'ha_mode': 'HA_MODE_LEGACY_ACTIVE_STANDBY',\n",
       " 'handle_per_pkt_attack': True,\n",
       " 'heap_minimum_config_memory': 8,\n",
       " 'hm_on_standby': False,\n",
       " 'host_gateway_monitor': False,\n",
       " 'http_rum_console_log': False,\n",
       " 'http_rum_min_content_length': 64,\n",
       " 'hybrid_rss_mode': False,\n",
       " 'ignore_docker_mac_change': True,\n",
       " 'ignore_rtt_threshold': 5000,\n",
       " 'ingress_access_data': 'SG_INGRESS_ACCESS_ALL',\n",
       " 'ingress_access_mgmt': 'SG_INGRESS_ACCESS_ALL',\n",
       " 'l7_conns_per_core': 16384,\n",
       " 'l7_resvd_listen_conns_per_core': 256,\n",
       " 'lbaction_num_requests_to_dispatch': 4,\n",
       " 'lbaction_rq_per_request_max_retries': 22,\n",
       " 'least_load_core_selection': True,\n",
       " 'license_tier': 'BASIC',\n",
       " 'license_type': 'LIC_CORES',\n",
       " 'log_agent_compress_logs': True,\n",
       " 'log_agent_debug_enabled': False,\n",
       " 'log_agent_file_sz_appl': 4,\n",
       " 'log_agent_file_sz_conn': 4,\n",
       " 'log_agent_file_sz_debug': 4,\n",
       " 'log_agent_file_sz_event': 4,\n",
       " 'log_agent_log_storage_min_sz': 1024,\n",
       " 'log_agent_max_concurrent_rsync': 1024,\n",
       " 'log_agent_max_storage_excess_percent': 110,\n",
       " 'log_agent_max_storage_ignore_percent': 20,\n",
       " 'log_agent_min_storage_per_vs': 10,\n",
       " 'log_agent_sleep_interval': 10,\n",
       " 'log_agent_trace_enabled': True,\n",
       " 'log_agent_unknown_vs_timer': 1800,\n",
       " 'log_disksz': 10000,\n",
       " 'log_malloc_failure': True,\n",
       " 'log_message_max_file_list_size': 64,\n",
       " 'max_cpu_usage': 80,\n",
       " 'max_memory_per_mempool': 64,\n",
       " 'max_public_ips_per_lb': 30,\n",
       " 'max_queues_per_vnic': 1,\n",
       " 'max_rules_per_lb': 150,\n",
       " 'max_scaleout_per_vs': 2,\n",
       " 'max_se': 2,\n",
       " 'max_skb_frags': 17,\n",
       " 'max_vs_per_se': 22,\n",
       " 'mem_reserve': True,\n",
       " 'memory_for_config_update': 15,\n",
       " 'memory_per_se': 2048,\n",
       " 'min_cpu_usage': 30,\n",
       " 'min_scaleout_per_vs': 2,\n",
       " 'min_se': 1,\n",
       " 'minimum_connection_memory': 20,\n",
       " 'n_log_streaming_threads': 1,\n",
       " 'name': 'NEW-SEGROUP-003',\n",
       " 'netlink_poller_threads': 2,\n",
       " 'netlink_sock_buf_size': 4,\n",
       " 'ngx_free_connection_stack': False,\n",
       " 'non_significant_log_throttle': 100,\n",
       " 'ns_helper_deq_interval_msec': 20,\n",
       " 'ntp_sync_fail_event': False,\n",
       " 'ntp_sync_status_interval': 0,\n",
       " 'num_dispatcher_cores': 0,\n",
       " 'num_dispatcher_queues': 1,\n",
       " 'num_flow_cores_sum_changes_to_ignore': 8,\n",
       " 'objsync_port': 9001,\n",
       " 'os_reserved_memory': 0,\n",
       " 'pcap_tx_mode': 'PCAP_TX_AUTO',\n",
       " 'pcap_tx_ring_rd_balancing_factor': 10,\n",
       " 'per_app': False,\n",
       " 'per_vs_admission_control': False,\n",
       " 'placement_mode': 'PLACEMENT_MODE_AUTO',\n",
       " 'realtime_se_metrics': {'duration': 30, 'enabled': False},\n",
       " 'reboot_on_panic': True,\n",
       " 'replay_vrf_routes_interval': 1000,\n",
       " 'resync_time_interval': 65536,\n",
       " 'sdb_flush_interval': 100,\n",
       " 'sdb_pipeline_size': 100,\n",
       " 'sdb_scan_count': 1000,\n",
       " 'se_bandwidth_type': 'SE_BANDWIDTH_UNLIMITED',\n",
       " 'se_debug_trace_sz': 8,\n",
       " 'se_delayed_flow_delete': True,\n",
       " 'se_deprovision_delay': 120,\n",
       " 'se_dos_profile': {'thresh_period': 5},\n",
       " 'se_dp_hm_drops': 0,\n",
       " 'se_dp_if_state_poll_interval': 10,\n",
       " 'se_dp_isolation': False,\n",
       " 'se_dp_isolation_num_non_dp_cpus': 0,\n",
       " 'se_dp_log_nf_enqueue_percent': 70,\n",
       " 'se_dp_log_udf_enqueue_percent': 90,\n",
       " 'se_dp_max_hb_version': 3,\n",
       " 'se_dp_vnic_queue_stall_event_sleep': 0,\n",
       " 'se_dp_vnic_queue_stall_threshold': 2000,\n",
       " 'se_dp_vnic_queue_stall_timeout': 10000,\n",
       " 'se_dp_vnic_restart_on_queue_stall_count': 3,\n",
       " 'se_dp_vnic_stall_se_restart_window': 3600,\n",
       " 'se_dpdk_pmd': 0,\n",
       " 'se_dump_core_on_assert': False,\n",
       " 'se_emulated_cores': 0,\n",
       " 'se_flow_probe_retries': 2,\n",
       " 'se_flow_probe_retry_timer': 40,\n",
       " 'se_hyperthreaded_mode': 'SE_CPU_HT_AUTO',\n",
       " 'se_ip_encap_ipc': 0,\n",
       " 'se_kni_burst_factor': 0,\n",
       " 'se_l3_encap_ipc': 0,\n",
       " 'se_log_buffer_app_blocking_dequeue': False,\n",
       " 'se_log_buffer_conn_blocking_dequeue': False,\n",
       " 'se_log_buffer_events_blocking_dequeue': True,\n",
       " 'se_mp_ring_retry_count': 500,\n",
       " 'se_name_prefix': 'Avi',\n",
       " 'se_packet_buffer_max': 0,\n",
       " 'se_pcap_lookahead': False,\n",
       " 'se_pcap_pkt_count': 0,\n",
       " 'se_pcap_pkt_sz': 69632,\n",
       " 'se_pcap_qdisc_bypass': True,\n",
       " 'se_pcap_reinit_frequency': 0,\n",
       " 'se_pcap_reinit_threshold': 0,\n",
       " 'se_probe_port': 7,\n",
       " 'se_rl_prop': {'msf_num_stages': 1, 'msf_stage_size': 16384},\n",
       " 'se_rum_sampling_nav_interval': 1,\n",
       " 'se_rum_sampling_nav_percent': 1,\n",
       " 'se_rum_sampling_res_interval': 2,\n",
       " 'se_rum_sampling_res_percent': 100,\n",
       " 'se_sb_dedicated_core': False,\n",
       " 'se_sb_threads': 1,\n",
       " 'se_thread_multiplier': 1,\n",
       " 'se_time_tracker_props': {'egress_audit_mode': 'SE_TT_AUDIT_OFF',\n",
       "  'egress_threshold': 20,\n",
       "  'event_gen_window': 300,\n",
       "  'ingress_audit_mode': 'SE_TT_AUDIT_OFF',\n",
       "  'ingress_threshold': 20},\n",
       " 'se_tunnel_mode': 0,\n",
       " 'se_tunnel_udp_port': 1550,\n",
       " 'se_tx_batch_size': 64,\n",
       " 'se_txq_threshold': 2048,\n",
       " 'se_udp_encap_ipc': 0,\n",
       " 'se_use_dpdk': 0,\n",
       " 'se_vnic_tx_sw_queue_flush_frequency': 0,\n",
       " 'se_vnic_tx_sw_queue_size': 256,\n",
       " 'se_vs_hb_max_pkts_in_batch': 64,\n",
       " 'se_vs_hb_max_vs_in_pkt': 256,\n",
       " 'self_se_election': False,\n",
       " 'send_se_ready_timeout': 300,\n",
       " 'shm_minimum_config_memory': 4,\n",
       " 'significant_log_throttle': 100,\n",
       " 'ssl_preprocess_sni_hostname': True,\n",
       " 'ssl_sess_cache_per_vs': 4096,\n",
       " 'tenant_ref': 'https://192.168.1.15/api/tenant/admin',\n",
       " 'transient_shared_memory_max': 30,\n",
       " 'udf_log_throttle': 100,\n",
       " 'upstream_connect_timeout': 3600000,\n",
       " 'upstream_connpool_enable': True,\n",
       " 'upstream_read_timeout': 3600000,\n",
       " 'upstream_send_timeout': 3600000,\n",
       " 'url': 'https://192.168.1.15/api/serviceenginegroup/serviceenginegroup-c9ab6d8f-2ec3-4847-a527-6b9ef34567eb',\n",
       " 'use_dp_util_for_scaleout': False,\n",
       " 'use_hyperthreaded_cores': True,\n",
       " 'use_legacy_netlink': False,\n",
       " 'use_objsync': False,\n",
       " 'user_defined_metric_age': 60,\n",
       " 'uuid': 'serviceenginegroup-c9ab6d8f-2ec3-4847-a527-6b9ef34567eb',\n",
       " 'vcenter_datastore_mode': 'VCENTER_DATASTORE_ANY',\n",
       " 'vcenter_datastores_include': False,\n",
       " 'vcenter_folder': 'AviSeFolder',\n",
       " 'vcpus_per_se': 1,\n",
       " 'vnic_dhcp_ip_check_interval': 6,\n",
       " 'vnic_dhcp_ip_max_retries': 10,\n",
       " 'vnic_ip_delete_interval': 5,\n",
       " 'vnic_probe_interval': 5,\n",
       " 'vnic_rpc_retry_interval': 5,\n",
       " 'vnicdb_cmd_history_size': 256,\n",
       " 'vs_host_redundancy': True,\n",
       " 'vs_scalein_timeout': 30,\n",
       " 'vs_scalein_timeout_for_upgrade': 30,\n",
       " 'vs_scaleout_timeout': 600,\n",
       " 'vs_se_scaleout_additional_wait_time': 0,\n",
       " 'vs_se_scaleout_ready_timeout': 60,\n",
       " 'vs_switchover_timeout': 300,\n",
       " 'vss_placement': {'core_nonaffinity': 2, 'num_subcores': 4},\n",
       " 'vss_placement_enabled': False,\n",
       " 'waf_mempool': True,\n",
       " 'waf_mempool_size': 64}"
      ]
     },
     "execution_count": 32,
     "metadata": {},
     "output_type": "execute_result"
    }
   ],
   "source": [
    "seg"
   ]
  },
  {
   "cell_type": "code",
   "execution_count": 31,
   "metadata": {},
   "outputs": [
    {
     "name": "stdout",
     "output_type": "stream",
     "text": [
      "<Response [204]>\n",
      "- Object serviceenginegroup/serviceenginegroup-c9ab6d8f-2ec3-4847-a527-6b9ef34567eb named NEW-SEGROUP-003 deleted NO CONTENT\n",
      "\n"
     ]
    }
   ],
   "source": [
    "# Define DELETE parameters\n",
    "url_path=\"serviceenginegroup/\"+seg_uuid\n",
    "body = seg\n",
    "\n",
    "#Send BODY information via DELETE\n",
    "resp = api.delete(url_path)\n",
    "\n",
    "if resp.status_code in range(200, 299):\n",
    "    print(resp)\n",
    "    print('- Object '+url_path+' named '+body['name']+ \" deleted\", resp.reason)#, resp.text)\n",
    "    print()\n",
    "else:\n",
    "    print('Error in deleting '+url_path+' :%s' % resp.text)"
   ]
  }
 ],
 "metadata": {
  "kernelspec": {
   "display_name": "Python 3",
   "language": "python",
   "name": "python3"
  },
  "language_info": {
   "codemirror_mode": {
    "name": "ipython",
    "version": 3
   },
   "file_extension": ".py",
   "mimetype": "text/x-python",
   "name": "python",
   "nbconvert_exporter": "python",
   "pygments_lexer": "ipython3",
   "version": "3.10.12"
  }
 },
 "nbformat": 4,
 "nbformat_minor": 2
}
