{
 "cells": [
  {
   "cell_type": "markdown",
   "metadata": {},
   "source": [
    "# AVI Python SDK. CREATE, MODIFYING AND DELETING Objects\n",
    "\n",
    "Having understood some basic concepts of how to use the sdk with the read operations, let's explore some operations that allow us to create, update and delete to have the complete picture.\n",
    "\n",
    " - https://avinetworks.com/docs/latest/api-guide/overview.html \n",
    " - https://github.com/vmware/alb-sdk/tree/eng/python/avi/sdk \n",
    "\n",
    "Table of contents\n",
    "\n",
    "- [1.- Login and Session Creation](#1--login-and-session-creation)\n",
    "- [2.- Create (POST) Operations](#2--create-post-method)\n",
    "- [3.- Modify (PUT) Operations](#3--modify-put-method)\n",
    "- [4.- Delete (DELETE) Operations](#4--delete-delete-method)"
   ]
  },
  {
   "cell_type": "markdown",
   "metadata": {},
   "source": [
    "# 1.- Login and Session Creation"
   ]
  },
  {
   "cell_type": "markdown",
   "metadata": {},
   "source": [
    "As a first step, we need to create the ApiSession object to interact with the controller via API. "
   ]
  },
  {
   "cell_type": "code",
   "execution_count": 6,
   "metadata": {},
   "outputs": [
    {
     "name": "stdout",
     "output_type": "stream",
     "text": [
      "Successful connection to avicontroller. Session ID:wbxkx26qg6ad3hpg788e1o3fnprllsv7\n"
     ]
    }
   ],
   "source": [
    "from avi.sdk.avi_api import ApiSession\n",
    "import datetime, time\n",
    "from requests.packages import urllib3\n",
    "urllib3.disable_warnings()\n",
    "import json\n",
    "\n",
    "# Import environment variables with controller information and credentials\n",
    "from envs.controller_info import session_params as session_env\n",
    "\n",
    "# Establish a first session with AVI Controller\n",
    "api = ApiSession(\n",
    "    controller_ip=session_env['controller_ip'],\n",
    "    username=session_env['controller_username'],\n",
    "    password=session_env['controller_password'],\n",
    "    tenant=session_env['tenant'],\n",
    "    api_version=session_env['api_version']\n",
    "    )\n",
    "# Update headers and api version imported from demo env file with controller version (ensure actual API Version is uses in subsequent requests\n",
    "session_env['headers']['X-Avi-Version'] = api.remote_api_version['Version']\n",
    "session_env['api_version'] = api.remote_api_version['Version']\n",
    "\n",
    "# Create a new session with received AVI API Version\n",
    "api = ApiSession(\n",
    "    controller_ip=session_env['controller_ip'],\n",
    "    username=session_env['controller_username'],\n",
    "    password=session_env['controller_password'],\n",
    "    tenant=session_env['tenant'],\n",
    "    api_version=session_env['api_version']\n",
    "    )\n",
    "# Display Session ID to Verify AVI Controller Session Establishment\n",
    "print('Successful connection to ' + session_env['name'] + '. Session ID:' + api.session_id)"
   ]
  },
  {
   "cell_type": "markdown",
   "metadata": {},
   "source": [
    "# 2.- CREATE (POST) Method\n",
    "\n",
    "The POST method is used to create new objects. The way to invoke is quite similar to the GET method but this time we need to create a BODY document in JSON format (\"doble quotes\") containing the information we want to use as input for the object to be created. \n",
    "\n",
    "```json\n",
    "body = {\n",
    "      \"name\": \"new_name\",\n",
    "      \"cloud_ref\": \"http://192.168.1.15/cloud/cloud-19900-199910-1919\"\n",
    "}\n",
    "```\n",
    "\n",
    "<br><br>\n",
    "Since error handling is important because we can make mistakes with fields names, it is crucial to add some logic to control AVI controller responses. In below example we will create a simple BODY manually including required fields to create a new vsvip object."
   ]
  },
  {
   "cell_type": "markdown",
   "metadata": {},
   "source": [
    "### Example 2.1:  Creating the BODY manually\n",
    "\n",
    "Following example will create a manual body element to be pushed to the AVI Controller as part of the input of the POST request"
   ]
  },
  {
   "cell_type": "code",
   "execution_count": 3,
   "metadata": {},
   "outputs": [],
   "source": [
    "vsvip_name = \"vsvip-new\"\n",
    "\n",
    "body = {\n",
    "  'vip': [\n",
    "    {\n",
    "      'enabled': 'true',\n",
    "      'auto_allocate_ip': 'true',\n",
    "      'auto_allocate_ip_type': 'V4_ONLY',\n",
    "      'ipam_network_subnet': {\n",
    "          'network_ref': 'https://192.168.1.15/api/network/network-5b30f803-879e-4312-b49b-309f41e98f7d',\n",
    "          'subnet': {\n",
    "            'ip_addr': {\n",
    "               'addr': '192.168.1.0',\n",
    "               'type': 'V4'\n",
    "            },\n",
    "            'mask': 24\n",
    "        }\n",
    "      },\n",
    "      'vip_id': 1\n",
    "    }\n",
    "  ],\n",
    "  'name': vsvip_name,\n",
    "}"
   ]
  },
  {
   "cell_type": "markdown",
   "metadata": {},
   "source": [
    "The POST method uses as ipunt arguments the path (API resource we want to interact with) and the BODY to be sent. To convert the body (python dictionary) into a JSON document that can be handled as part of the POST request, we need to convert it by using the **json.dumps** method. (json libraries must be imported in advanced)"
   ]
  },
  {
   "cell_type": "code",
   "execution_count": 8,
   "metadata": {},
   "outputs": [
    {
     "name": "stdout",
     "output_type": "stream",
     "text": [
      "<Response [201]>\n",
      "- New vsvip named vsvip-new CREATED\n"
     ]
    }
   ],
   "source": [
    "# Define POST parameters\n",
    "url_path=\"vsvip\"\n",
    "\n",
    "# Send POST information via POST\n",
    "resp = api.post (url_path, data=json.dumps(body))\n",
    "\n",
    "if resp.status_code in range(200, 299):\n",
    "    print(resp)\n",
    "    print('- New '+url_path+' named '+body['name'], resp.reason)#, resp.text)\n",
    "else:\n",
    "    print('Error in creating '+url_path+' :%s' % resp.text)"
   ]
  },
  {
   "cell_type": "markdown",
   "metadata": {},
   "source": [
    "We can extract some information from the response received from the AVI Controller. In this example, we can show the allocated IP address from the internal IPAM. "
   ]
  },
  {
   "cell_type": "code",
   "execution_count": 9,
   "metadata": {},
   "outputs": [
    {
     "name": "stdout",
     "output_type": "stream",
     "text": [
      "The allocated IP Address for the VSVIP object is: 192.168.1.51\n"
     ]
    }
   ],
   "source": [
    "print(\"The allocated IP Address for the VSVIP object is: \" + json.loads(resp.text)[\"vip\"][0][\"ip_address\"][\"addr\"])"
   ]
  },
  {
   "cell_type": "markdown",
   "metadata": {},
   "source": [
    "### Example 2.2: Extracting references using api call instead of full values"
   ]
  },
  {
   "cell_type": "markdown",
   "metadata": {},
   "source": [
    "A smarter way to populate some of the fields is by calling recurrently the API to get the value. As an example below, instead of providing the full network_ref value, we are just querying to the API where the name correspond to the intended network name _home-network_ with is much more simple way"
   ]
  },
  {
   "cell_type": "code",
   "execution_count": 10,
   "metadata": {},
   "outputs": [],
   "source": [
    "vsvip_name = \"vsvip-new-001\"\n",
    "network_name = \"home-network\"\n",
    "\n",
    "body = {\n",
    "  'vip': [\n",
    "    {\n",
    "      'enabled': 'true',\n",
    "      'auto_allocate_ip': 'true',\n",
    "      'auto_allocate_ip_type': 'V4_ONLY',\n",
    "      'ipam_network_subnet': {\n",
    "          'network_ref': '/api/network?name='+network_name,\n",
    "          'subnet': {\n",
    "            'ip_addr': {\n",
    "               'addr': '192.168.1.0',\n",
    "               'type': 'V4'\n",
    "            },\n",
    "            'mask': 24\n",
    "        }\n",
    "      },\n",
    "      'vip_id': 1\n",
    "    }\n",
    "  ],\n",
    "  'name': vsvip_name,\n",
    "}"
   ]
  },
  {
   "cell_type": "markdown",
   "metadata": {},
   "source": [
    "Now create the POST request using above data. The controller will resolve the value for the network_ref field using an internal query.  "
   ]
  },
  {
   "cell_type": "code",
   "execution_count": 11,
   "metadata": {},
   "outputs": [
    {
     "name": "stdout",
     "output_type": "stream",
     "text": [
      "<Response [201]>\n",
      "- New vsvip named vsvip-new-001 CREATED\n",
      "\n",
      "The allocated IP Address for the VSVIP object is: 192.168.1.52\n"
     ]
    }
   ],
   "source": [
    "# Define POST parameters\n",
    "url_path=\"vsvip\"\n",
    "\n",
    "#Send BODY information via POST\n",
    "resp = api.post (url_path, data=json.dumps(body))\n",
    "\n",
    "if resp.status_code in range(200, 299):\n",
    "    print(resp)\n",
    "    print('- New '+url_path+' named '+body['name'], resp.reason)#, resp.text)\n",
    "else:\n",
    "    print('Error in creating '+url_path+' :%s' % resp.text)\n",
    "\n",
    "#Shows allocated IP address.\n",
    "print()\n",
    "print(\"The allocated IP Address for the VSVIP object is: \" + json.loads(resp.text)[\"vip\"][0][\"ip_address\"][\"addr\"])"
   ]
  },
  {
   "cell_type": "markdown",
   "metadata": {},
   "source": [
    "### Example 2.3.- Creating new object using a current object as a template"
   ]
  },
  {
   "cell_type": "markdown",
   "metadata": {},
   "source": [
    "As you can tell, sometimes it could be really hard to craft the body from scratch since you need to be sure of all the mandatory fields and sintax. A better approach might be to extract (read) the information of an existing object and use this as a template. This allows you to clone JSON body and change the required information to create a new object without worrying that much about sintax and name of fields. \n",
    "\n",
    "Following example will use an existing serviceenginegroup object as template and after changing unique keys such as the name it will create a new cloned object. "
   ]
  },
  {
   "cell_type": "code",
   "execution_count": 24,
   "metadata": {},
   "outputs": [],
   "source": [
    "# Cloning an object from an exising one after changing required parameters\n",
    "api_resource = \"serviceenginegroup\"\n",
    "object_name = \"SEG-TARGET-MAD-001\"\n",
    "\n",
    "# Get the existing Object to be used as template\n",
    "template_data = api.get_object_by_name (api_resource, object_name) # Response to be used as template"
   ]
  },
  {
   "cell_type": "markdown",
   "metadata": {},
   "source": [
    "Now we have the response we can create a new object with previous response. updating the required fields with new values as shown below:"
   ]
  },
  {
   "cell_type": "code",
   "execution_count": 34,
   "metadata": {},
   "outputs": [
    {
     "name": "stdout",
     "output_type": "stream",
     "text": [
      "Updated fields are: \n",
      "- name: NEW-SEGROUP-005\n",
      "- max_vs_per_se: 22\n"
     ]
    }
   ],
   "source": [
    "# Override fields as per requirements\n",
    "new_values = {\n",
    "   \"name\": \"NEW-SEGROUP-005\",\n",
    "   \"max_vs_per_se\": 22\n",
    "}\n",
    "\n",
    "# Create a new dictionary updating key-avlues as per new fields dictionary\n",
    "template_data.update(new_values)\n",
    "\n",
    "# Save updated dictionary into body variable\n",
    "body = template_data\n",
    "\n",
    "# Print modified items\n",
    "print(\"Updated fields are: \")\n",
    "for item in new_values: \n",
    "    print(\"- \"+item+\": \" +str(body[item]))"
   ]
  },
  {
   "cell_type": "markdown",
   "metadata": {},
   "source": [
    "Now we have the new body, we just need to invoke the POST method again pushing the new body as part of the request. "
   ]
  },
  {
   "cell_type": "code",
   "execution_count": 35,
   "metadata": {},
   "outputs": [
    {
     "name": "stdout",
     "output_type": "stream",
     "text": [
      "<Response [201]>\n",
      "- New serviceenginegroup named NEW-SEGROUP-005 CREATED\n"
     ]
    }
   ],
   "source": [
    "#Send BODY information via POST\n",
    "url_path = \"serviceenginegroup\"\n",
    "\n",
    "resp = api.post (url_path, data=json.dumps(body))\n",
    "\n",
    "if resp.status_code in range(200, 299):\n",
    "    print(resp)\n",
    "    print('- New '+url_path+' named '+body['name'], resp.reason)#, resp.text)\n",
    "else:\n",
    "    print('Error in creating '+url_path+' :%s' % resp.text)"
   ]
  },
  {
   "cell_type": "markdown",
   "metadata": {},
   "source": [
    "## 3.- Modify (PUT) Method"
   ]
  },
  {
   "cell_type": "markdown",
   "metadata": {},
   "source": [
    "PUT is the method used to make modifications of an existing object. As in the POST method, a BODY containing the information we want to update is required.\n",
    "<br><br>\n",
    "Another important point is the uuid since the path consists on the url + the uuid of the target object.  "
   ]
  },
  {
   "cell_type": "markdown",
   "metadata": {},
   "source": [
    "In this example we will change the name of an existing virtual service. We need to get the uuid before to proceed with name change. Also, override required fields (name in this case) with new values. "
   ]
  },
  {
   "cell_type": "code",
   "execution_count": 45,
   "metadata": {},
   "outputs": [
    {
     "name": "stdout",
     "output_type": "stream",
     "text": [
      "Data found for vs-example-org1 with uuid virtualservice-6bd64913-d5f4-41d7-ade9-eb2e7c003b23\n"
     ]
    }
   ],
   "source": [
    "# Get the Virtual Service configuration of a given name to extract uuid\n",
    "object_name = \"vs-example-org1\"\n",
    "object_new_name = \"vs-example-org1-new\"\n",
    "object = api.get_object_by_name(\"virtualservice\", object_name)\n",
    "\n",
    "# Check if a non-empty response was received \n",
    "if object:\n",
    "   # Extract uuid from response\n",
    "   object_uuid = object[\"uuid\"]\n",
    "   # Override name field with new name\n",
    "   object[\"name\"] = object_new_name\n",
    "   print(\"Data found for \"+object_name+\" with uuid \"+object_uuid)"
   ]
  },
  {
   "cell_type": "code",
   "execution_count": 41,
   "metadata": {},
   "outputs": [
    {
     "name": "stdout",
     "output_type": "stream",
     "text": [
      "<Response [200]>\n",
      "- Object virtualservice/virtualservice-6bd64913-d5f4-41d7-ade9-eb2e7c003b23 named vs-example-org1 modified OK\n",
      "\n"
     ]
    }
   ],
   "source": [
    "# Define PUT parameters\n",
    "url_path=\"virtualservice/\"+vs_uuid\n",
    "body = vs \n",
    "\n",
    "#Send BODY information via PUT\n",
    "resp = api.put (url_path, data=json.dumps(body))\n",
    "\n",
    "if resp.status_code in range(200, 299):\n",
    "    print(resp)\n",
    "    print('- Object '+url_path+' named '+body['name']+ \" modified\", resp.reason)#, resp.text)\n",
    "    print()\n",
    "else:\n",
    "    print('Error in modifying '+url_path+' :%s' % resp.text)"
   ]
  },
  {
   "cell_type": "markdown",
   "metadata": {},
   "source": [
    "## 4.- Delete (DELETE) Method"
   ]
  },
  {
   "cell_type": "markdown",
   "metadata": {},
   "source": [
    "Last method is the delete method that, as you can guess is used for deleting an existing object. "
   ]
  },
  {
   "cell_type": "code",
   "execution_count": 52,
   "metadata": {},
   "outputs": [
    {
     "name": "stdout",
     "output_type": "stream",
     "text": [
      "Data found for NEW-SEGROUP-005 with uuid serviceenginegroup-7d6a3690-8aff-47d2-8d23-08577ed6bca2\n"
     ]
    }
   ],
   "source": [
    "# Get the Service En configuration of a given name to extract uuid\n",
    "api_resource = \"serviceenginegroup\"\n",
    "object_name = \"NEW-SEGROUP-005\"\n",
    "object = api.get_object_by_name(\"serviceenginegroup\", object_name)\n",
    "\n",
    "# Check if a non-empty response was received \n",
    "if object:\n",
    "   # Extract uuid from response\n",
    "   object_uuid = object[\"uuid\"]\n",
    "   # Override name field with new name\n",
    "   print(\"Data found for \"+object_name+\" with uuid \"+object_uuid)"
   ]
  },
  {
   "cell_type": "code",
   "execution_count": 53,
   "metadata": {},
   "outputs": [
    {
     "name": "stdout",
     "output_type": "stream",
     "text": [
      "<Response [204]>\n",
      "- Object serviceenginegroup/serviceenginegroup-7d6a3690-8aff-47d2-8d23-08577ed6bca2 named NEW-SEGROUP-005 deleted NO CONTENT\n",
      "\n"
     ]
    }
   ],
   "source": [
    "# Define DELETE parameters\n",
    "url_path=\"serviceenginegroup/\"+object_uuid\n",
    "body = object\n",
    "\n",
    "#Send BODY information via DELETE\n",
    "resp = api.delete(url_path)\n",
    "\n",
    "if resp.status_code in range(200, 299):\n",
    "    print(resp)\n",
    "    print('- Object '+url_path+' named '+body['name']+ \" deleted\", resp.reason)#, resp.text)\n",
    "    print()\n",
    "else:\n",
    "    print('Error in deleting '+url_path+' :%s' % resp.text)"
   ]
  }
 ],
 "metadata": {
  "kernelspec": {
   "display_name": "Python 3",
   "language": "python",
   "name": "python3"
  },
  "language_info": {
   "codemirror_mode": {
    "name": "ipython",
    "version": 3
   },
   "file_extension": ".py",
   "mimetype": "text/x-python",
   "name": "python",
   "nbconvert_exporter": "python",
   "pygments_lexer": "ipython3",
   "version": "3.10.12"
  }
 },
 "nbformat": 4,
 "nbformat_minor": 2
}
