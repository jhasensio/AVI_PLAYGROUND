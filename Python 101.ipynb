{
 "cells": [
  {
   "cell_type": "markdown",
   "metadata": {},
   "source": [
    "# Python 101\n",
    "Common data structures used \n",
    "## [1.- List](#1--list)\n",
    "###  &nbsp; &nbsp; &nbsp;[1.1 Common Operations](#11-common-operations)\n",
    "#### &nbsp; &nbsp; &nbsp;&nbsp; &nbsp; &nbsp; [1.1.1 Accesing elements in a list](#111-accessing-elements-in-a-list)\n",
    "#### &nbsp; &nbsp; &nbsp;&nbsp; &nbsp; &nbsp; [1.1.2 Modifying elements in a list](#112-modifying-elements-in-a-list)\n",
    "#### &nbsp; &nbsp; &nbsp;&nbsp; &nbsp; &nbsp;[1.1.3 Adding new elements in a list](#113-adding-new-elements-in-a-list)\n",
    "#### &nbsp; &nbsp; &nbsp;&nbsp; &nbsp; &nbsp;[1.1.4 Remove elements in a list](#114-remove-elements-in-a-list)\n",
    "#### &nbsp; &nbsp; &nbsp;&nbsp; &nbsp; &nbsp;[1.1.5 Slicing Elements](#115-slicing-elements)\n",
    "###  &nbsp; &nbsp; &nbsp;[1.2 List Iteration](#12-iteration)\n",
    "## [1.- Dictionary](#2--dictionary)\n",
    "###  &nbsp; &nbsp; &nbsp;[2.1 Common Operations](#21-common-operations)\n",
    "#### &nbsp; &nbsp; &nbsp;&nbsp; &nbsp; &nbsp; [2.1.1 Accesing in a dictionary](#211-accesing-in-a-dictionary)\n",
    "#### &nbsp; &nbsp; &nbsp;&nbsp; &nbsp; &nbsp; [2.1.2 Accesing or updating elements in a dictionary](#212-adding-or-updating-elements-in-a-dictionary)\n",
    "#### &nbsp; &nbsp; &nbsp;&nbsp; &nbsp; &nbsp; [2.1.3 Removing items in a dictionary](#213-removing-items-in-a-dictionary)\n",
    "#### &nbsp; &nbsp; &nbsp;&nbsp; &nbsp; &nbsp; [2.1.4 Checking for key existence](#214-checking-for-key-existence)\n",
    "#### &nbsp; &nbsp; &nbsp;&nbsp; &nbsp; &nbsp; [2.2 Iteration](#22-iteration)"
   ]
  },
  {
   "cell_type": "code",
   "execution_count": null,
   "metadata": {},
   "outputs": [],
   "source": [
    "import json"
   ]
  },
  {
   "cell_type": "markdown",
   "metadata": {},
   "source": [
    "# 1.- List\n",
    "\n",
    "A Python list is an ordered, mutable, and indexed collection of items, allowing you to store multiple values in a single variable. \n",
    "- A list is defined using square brackets [].\n",
    "- Elements are separated by commas.\n",
    "\n"
   ]
  },
  {
   "cell_type": "markdown",
   "metadata": {},
   "source": [
    "This example code will create list with diferrent element types (strings, booleans, int, float)\n"
   ]
  },
  {
   "cell_type": "code",
   "execution_count": null,
   "metadata": {},
   "outputs": [],
   "source": [
    "my_list = [10, \"hello\", \"hello\", 3.14, True]"
   ]
  },
  {
   "cell_type": "markdown",
   "metadata": {},
   "source": [
    "## 1.1 Common operations"
   ]
  },
  {
   "cell_type": "markdown",
   "metadata": {},
   "source": [
    "### 1.1.1 **Accessing** elements in a list\n",
    "List are indexed starting by 0. You can access any element in the list using the index. To access the elements in a list you need to use the index. You can also use negative indexing to access the last elements of the list (-1 is the last element, -2 is the penultimate one and so on)\n"
   ]
  },
  {
   "cell_type": "code",
   "execution_count": null,
   "metadata": {},
   "outputs": [],
   "source": [
    "print(\"First element is :\" + str(my_list[0])) # If element is not a string, format conversion via str() is needed in order to print it\n",
    "print(\"Second element is :\" + my_list[1])\n",
    "print(\"Fourth element is :\" + str(my_list[3]))"
   ]
  },
  {
   "cell_type": "code",
   "execution_count": null,
   "metadata": {},
   "outputs": [],
   "source": [
    "print(\"Last element is :\" + str(my_list[-1]))\n",
    "print(\"Penultimate element is :\" + str(my_list[-2]))"
   ]
  },
  {
   "cell_type": "markdown",
   "metadata": {},
   "source": [
    "### 1.1.2 **Modifying** elements in a list\n",
    "To change an element you can simply override the value of the specific element replacing it by a new value as shown below:"
   ]
  },
  {
   "cell_type": "code",
   "execution_count": null,
   "metadata": {},
   "outputs": [],
   "source": [
    "my_list[1]= \"goodbye\"\n",
    "print(\"Second element is now:\" + str(my_list[1]))"
   ]
  },
  {
   "cell_type": "code",
   "execution_count": null,
   "metadata": {},
   "outputs": [],
   "source": [
    "my_list"
   ]
  },
  {
   "cell_type": "markdown",
   "metadata": {},
   "source": [
    "### 1.1.3 **Adding** new elements in a list. \n",
    "To add new elements in a list you can use one of the following methods:\n",
    " -  **append**.- add a new element to the end of the list\n",
    " -  **insert**.- add a new element at specified position (index)\n",
    " -  **extend**.- add multiple elements at the end of the list"
   ]
  },
  {
   "cell_type": "code",
   "execution_count": null,
   "metadata": {},
   "outputs": [],
   "source": [
    "# Append example\n",
    "my_list.append(\"gold\")\n",
    "print(my_list)"
   ]
  },
  {
   "cell_type": "code",
   "execution_count": null,
   "metadata": {},
   "outputs": [],
   "source": [
    "# Insert example\n",
    "my_list.insert(3, \"silver\")\n",
    "print(my_list)"
   ]
  },
  {
   "cell_type": "code",
   "execution_count": null,
   "metadata": {},
   "outputs": [],
   "source": [
    "# Extend example\n",
    "my_list.extend([\"silver\", 8, 9, 10, \"cooper\"])\n",
    "print(my_list)"
   ]
  },
  {
   "cell_type": "markdown",
   "metadata": {},
   "source": [
    "### 1.1.4 **Remove** elements in a list. \n",
    "To remove elements in a list you can use one of the following methods:\n",
    " -  **remove**.- remove a first ocurrence of the element value \n",
    " -  **pop**.- remove the element\n",
    " -  **del**.- remove the element at a given index"
   ]
  },
  {
   "cell_type": "code",
   "execution_count": null,
   "metadata": {},
   "outputs": [],
   "source": [
    "# Remove first ocurrence of silver in the list\n",
    "my_list.remove(\"silver\")\n",
    "print(my_list)"
   ]
  },
  {
   "cell_type": "code",
   "execution_count": null,
   "metadata": {},
   "outputs": [],
   "source": [
    "# remove and return index 3 \n",
    "print(my_list.pop(3))\n",
    "print(my_list)"
   ]
  },
  {
   "cell_type": "code",
   "execution_count": null,
   "metadata": {},
   "outputs": [],
   "source": [
    "# remove penultimate element of a list\n",
    "del my_list[-2]\n",
    "print(my_list)"
   ]
  },
  {
   "cell_type": "markdown",
   "metadata": {},
   "source": [
    "## 1.1.5 **Slicing** elements\n",
    "This operation allows you to get a sublist of items within a list"
   ]
  },
  {
   "cell_type": "code",
   "execution_count": null,
   "metadata": {},
   "outputs": [],
   "source": [
    "# Retrieve positions 4 to 5. (last index is not included in the output)\n",
    "print(my_list[3:6])"
   ]
  },
  {
   "cell_type": "code",
   "execution_count": null,
   "metadata": {},
   "outputs": [],
   "source": [
    "# Retrieve last 4 elements in a list\n",
    "print(my_list[-5:-1])"
   ]
  },
  {
   "cell_type": "markdown",
   "metadata": {},
   "source": [
    "## 1.1.6 Checking memberships\n",
    " The in keyword can be used to check the existence of a given element within a list\n"
   ]
  },
  {
   "cell_type": "code",
   "execution_count": null,
   "metadata": {},
   "outputs": [],
   "source": [
    "if \"gold\" in my_list:\n",
    "    print(\"element found\")"
   ]
  },
  {
   "cell_type": "markdown",
   "metadata": {},
   "source": [
    "## 1.2 Iteration\n",
    "Iteration can be made using **in** keyword to loop through all elements within a list. You can also get the index of a certain element of a list using my_list.index(element) method as shown below:"
   ]
  },
  {
   "cell_type": "code",
   "execution_count": null,
   "metadata": {},
   "outputs": [],
   "source": [
    "for item in my_list:\n",
    "    print(\"element with index # \"+ str(my_list.index(item))+ \" is equal to \" +str(item))\n"
   ]
  },
  {
   "cell_type": "markdown",
   "metadata": {},
   "source": [
    "# 2.- Dictionary \n",
    "A Python dictionary is an unordered, mutable, and indexed collection of key-value pairs. It is used to store data values where each key is associated with a specific value\n",
    "\n",
    "- A dictionary is defined using curly braces {}.\n",
    "- Key-value pairs are separated by a colon :.\n",
    "- Pairs are separated by commas."
   ]
  },
  {
   "cell_type": "code",
   "execution_count": null,
   "metadata": {},
   "outputs": [],
   "source": [
    "my_dict = {\n",
    "    'name': 'John',\n",
    "    'surname': 'Doe',\n",
    "    'address': {\n",
    "        'city': 'Madrid',\n",
    "        'town': 'Retiro',\n",
    "        'street': 'Ibiza'},\n",
    "    }"
   ]
  },
  {
   "cell_type": "markdown",
   "metadata": {},
   "source": [
    "## 2.1 Common Operations"
   ]
  },
  {
   "cell_type": "markdown",
   "metadata": {},
   "source": [
    "### 2.1.1 **Accessing** elements in a dictionary\n",
    "To access the elements of a dictionary you can use the **key**\n"
   ]
  },
  {
   "cell_type": "code",
   "execution_count": null,
   "metadata": {},
   "outputs": [],
   "source": [
    "print(my_dict['name'])"
   ]
  },
  {
   "cell_type": "code",
   "execution_count": null,
   "metadata": {},
   "outputs": [],
   "source": [
    "# If the key-value pair contains some nesting, you can access contaneting key names as shown\n",
    "print(my_dict[\"address\"][\"street\"])"
   ]
  },
  {
   "cell_type": "markdown",
   "metadata": {},
   "source": [
    "### 2.1.2 **Adding or updating** elements in a dictionary\n",
    "You can easily add a new key or update an existing one as shown below"
   ]
  },
  {
   "cell_type": "code",
   "execution_count": null,
   "metadata": {},
   "outputs": [],
   "source": [
    "## Add existing key-value into existing dictionary\n",
    "my_dict[\"id_number\"] = 12345891\n",
    "\n",
    "## Update value of an existing key\n",
    "my_dict[\"name\"] = \"Peter\"\n",
    "\n",
    "## Add new nested elements into existing dictionary\n",
    "my_dict[\"place of born\"] = {\"country\": \"Spain\", \"city\": \"Valencia\"}\n",
    "\n",
    "# Json libaries import to beautify printing\n",
    "import json\n",
    "print(json.dumps(my_dict, indent=3))"
   ]
  },
  {
   "cell_type": "markdown",
   "metadata": {},
   "source": [
    "### 2.1.3 **Removing** items in a dictionary\n",
    "You can easily remove a new key using some of the following methods:\n",
    " - **del**.- removes a key value pair\n",
    " - **pop**.- removes and return the value of the key"
   ]
  },
  {
   "cell_type": "code",
   "execution_count": null,
   "metadata": {},
   "outputs": [],
   "source": [
    "# Remove an element\n",
    "del my_dict[\"place of born\"]\n",
    "print(json.dumps(my_dict, indent=3))"
   ]
  },
  {
   "cell_type": "code",
   "execution_count": null,
   "metadata": {},
   "outputs": [],
   "source": [
    "# Remove an element and return the value (if key does not exists it will throw an error see ckeckin values section next)\n",
    "removed_value = my_dict.pop(\"id_number\")\n",
    "print(\"Removing id number with value: \" + str(removed_value))\n",
    "print()\n",
    "print(json.dumps(my_dict, indent=3))"
   ]
  },
  {
   "cell_type": "markdown",
   "metadata": {},
   "source": [
    "### 2.1.4 Checking for key existence\n",
    "Using the **in** keyword you can check the existence of a given key "
   ]
  },
  {
   "cell_type": "code",
   "execution_count": null,
   "metadata": {},
   "outputs": [],
   "source": [
    "# Removing an element and return the value only if key exist\n",
    "key_to_remove = \"id_number\"\n",
    "if key_to_remove in my_dict:\n",
    "    removed_value = my_dict.pop(key_to_remove)\n",
    "    print(\"Removing id number with value: \" + str(removed_value))\n",
    "    print()\n",
    "    print(\"New dictionary is:\")\n",
    "    print(json.dumps(my_dict, indent=3))\n",
    "else:\n",
    "    print (key_to_remove+\" key not found\")"
   ]
  },
  {
   "cell_type": "markdown",
   "metadata": {},
   "source": [
    "## 2.2 Iteration\n",
    "You can easily iterate through the elements (key-pairs) of a list using a for loop. "
   ]
  },
  {
   "cell_type": "code",
   "execution_count": null,
   "metadata": {},
   "outputs": [],
   "source": [
    "for item in my_dict:\n",
    "    print(\" - key \" + item +\" has a value of \"+str(my_dict[item]))"
   ]
  },
  {
   "cell_type": "code",
   "execution_count": null,
   "metadata": {},
   "outputs": [],
   "source": [
    "for item in my_dict:\n",
    "    # If item type is a dictionary means it has subitems so another loop is needed \n",
    "    if (type(my_dict[item]) == dict):\n",
    "      print(\"Item \"+ item +\" has subitems: \")\n",
    "      for subitem in my_dict[item]:\n",
    "        print(\" - key \" + subitem +\" of item \"+str(item)+ \" has a value of \"+str(my_dict[item][subitem]))\n",
    "    else:\n",
    "      print(\"Item \"+ item +\" has a value of: \"+str(my_dict[item]))"
   ]
  },
  {
   "cell_type": "markdown",
   "metadata": {},
   "source": [
    "# 3. Combining List and Dictionaries\n",
    "You can combine list and dictionaries in a same data structure, for example, you can have a list of dictionaries that, in turn, contain other dictionaries or even other lists"
   ]
  },
  {
   "cell_type": "markdown",
   "metadata": {},
   "source": [
    "**Example 1** : List (single element) of dictionaries with some nested key value pairs"
   ]
  },
  {
   "cell_type": "code",
   "execution_count": null,
   "metadata": {},
   "outputs": [],
   "source": [
    "# List of dict\n",
    "data = [\n",
    "        {\n",
    "        'name': 'John',\n",
    "        'surname': 'Doe',\n",
    "        'address': {\n",
    "           'city': 'Madrid',\n",
    "           'town': 'Retiro',\n",
    "           'street': 'Ibiza'\n",
    "         },\n",
    "        'descendants':[\n",
    "            {\n",
    "               'name': 'Lucia',\n",
    "               'surname': 'Doe'\n",
    "            },\n",
    "            {   'name': 'Jose',\n",
    "                'surname': 'Doe'\n",
    "            }\n",
    "            ]\n",
    "        },\n",
    "        {\n",
    "        'name': 'Mark',\n",
    "        'surname': 'Twice',\n",
    "        'address': {\n",
    "           'city': 'London',\n",
    "           'town': 'Chelsea',\n",
    "           'street': 'Notting Hill'\n",
    "           },\n",
    "        'descendants':[]\n",
    "        },\n",
    "]"
   ]
  },
  {
   "cell_type": "code",
   "execution_count": null,
   "metadata": {},
   "outputs": [],
   "source": [
    "data[0][\"descendants\"][1][\"name\"]"
   ]
  },
  {
   "cell_type": "code",
   "execution_count": null,
   "metadata": {},
   "outputs": [],
   "source": [
    "# List of dict\n",
    "data = {\n",
    "   \"order_number\": 12345,\n",
    "   \"customer_id\": \"A7746\",\n",
    "   \"priority_order\": True,\n",
    "   \"shipping_address\": {\n",
    "      \"address_1\": \"3421 Hillview Avenue\",\n",
    "      \"address_2\": \"Palo Alto\",\n",
    "      \"state\": \"California\",\n",
    "      \"zip\": \"94304\",\n",
    "      \"country\": \"United States\"\n",
    "   },\n",
    "   \"order_items\": [\n",
    "   {\n",
    "      \"sku\": \"ABC-1234\",\n",
    "      \"quantity\": 5\n",
    "   },\n",
    "   {\n",
    "      \"sku\": \"DEF-5678\",\n",
    "      \"quantity\": 10\n",
    "   }\n",
    " ]\n",
    "}"
   ]
  },
  {
   "cell_type": "markdown",
   "metadata": {},
   "source": [
    "# 4.- Real Sample"
   ]
  },
  {
   "cell_type": "code",
   "execution_count": null,
   "metadata": {},
   "outputs": [],
   "source": [
    "response = {\n",
    " 'count': 1,\n",
    " 'results': [\n",
    "  {'enabled': True,\n",
    "   'name': 'vs-example-org1',\n",
    "   'type': 'VS_TYPE_NORMAL',\n",
    "   'url': 'https://192.168.1.15/api/virtualservice/virtualservice-f851f486-66d3-48ed-bfaa-d749c477f91c',\n",
    "   'uuid': 'virtualservice-f851f486-66d3-48ed-bfaa-d749c477f91c',\n",
    "   'vsvip_ref': 'https://192.168.1.15/api/vsvip/vsvip-188553aa-bbe1-4b6e-b2ed-7ed1d5f78293'}\n",
    "  ]\n",
    "}"
   ]
  },
  {
   "cell_type": "code",
   "execution_count": null,
   "metadata": {},
   "outputs": [],
   "source": [
    "response[\"results\"][0][\"name\"]"
   ]
  },
  {
   "cell_type": "code",
   "execution_count": null,
   "metadata": {},
   "outputs": [],
   "source": [
    "response[\"results\"][0][\"name\"] = \"vs-example-org1-new\""
   ]
  },
  {
   "cell_type": "code",
   "execution_count": null,
   "metadata": {},
   "outputs": [],
   "source": [
    "print(json.dumps(response, indent=3))"
   ]
  },
  {
   "cell_type": "code",
   "execution_count": null,
   "metadata": {},
   "outputs": [],
   "source": [
    "response = {'count': 3,\n",
    " 'results': [{'_last_modified': '1723586462363933',\n",
    "   'active_standby_se_tag': 'ACTIVE_STANDBY_SE_1',\n",
    "   'advertise_down_vs': False,\n",
    "   'allow_invalid_client_cert': False,\n",
    "   'analytics_policy': {'all_headers': False,\n",
    "    'client_insights': 'NO_INSIGHTS',\n",
    "    'full_client_logs': {'duration': 30, 'enabled': False, 'throttle': 10},\n",
    "    'metrics_realtime_update': {'duration': 30, 'enabled': False},\n",
    "    'significant_log_throttle': 10,\n",
    "    'udf_log_throttle': 10},\n",
    "   'analytics_profile_ref': 'https://192.168.1.15/api/analyticsprofile/analyticsprofile-768ef0ed-a2ac-427c-92c7-8715ce805374',\n",
    "   'application_profile_ref': 'https://192.168.1.15/api/applicationprofile/applicationprofile-d6f57996-7ee0-4993-8eee-d95f82c84c45',\n",
    "   'bulk_sync_kvcache': False,\n",
    "   'close_client_conn_on_config_update': False,\n",
    "   'cloud_ref': 'https://192.168.1.15/api/cloud/cloud-baf1f7f6-18ff-46cb-a134-6154d9af52a1',\n",
    "   'cloud_type': 'CLOUD_NONE',\n",
    "   'delay_fairness': False,\n",
    "   'east_west_placement': False,\n",
    "   'enable_autogw': False,\n",
    "   'enabled': True,\n",
    "   'flow_dist': 'LOAD_AWARE',\n",
    "   'flow_label_type': 'NO_LABEL',\n",
    "   'http_policies': [{'http_policy_set_ref': 'https://192.168.1.15/api/httppolicyset/httppolicyset-93309f9a-a77a-4ae3-8295-231fcb34a398',\n",
    "     'index': 11}],\n",
    "   'ign_pool_net_reach': False,\n",
    "   'limit_doser': False,\n",
    "   'marked_for_delete': False,\n",
    "   'max_cps_per_client': 0,\n",
    "   'name': 'vs-example-org1',\n",
    "   'network_profile_ref': 'https://192.168.1.15/api/networkprofile/networkprofile-4ee2f4b9-728c-4437-a81a-0f7ad3550097',\n",
    "   'network_security_policy_ref': 'https://192.168.1.15/api/networksecuritypolicy/networksecuritypolicy-5bf8a4c3-1929-4163-92aa-0a2759ac6a49',\n",
    "   'pool_ref': 'https://192.168.1.15/api/pool/pool-66773fdb-8d10-4823-9257-51fffed6b1d4',\n",
    "   'redis_db': 13,\n",
    "   'redis_port': 5022,\n",
    "   'remove_listening_port_on_vs_down': False,\n",
    "   'scaleout_ecmp': False,\n",
    "   'se_group_ref': 'https://192.168.1.15/api/serviceenginegroup/serviceenginegroup-e5b13687-efbb-4417-9302-b1d37c367c8b',\n",
    "   'self_se_election': True,\n",
    "   'services': [{'enable_http2': False,\n",
    "     'enable_ssl': False,\n",
    "     'horizon_internal_ports': False,\n",
    "     'is_active_ftp_data_port': False,\n",
    "     'port': 80,\n",
    "     'port_range_end': 80}],\n",
    "   'ssl_sess_cache_avg_size': 1024,\n",
    "   'tenant_ref': 'https://192.168.1.15/api/tenant/admin',\n",
    "   'tls_ticket_key': [{'aes_key': 'HzFRH+gesg91Ja0Sh2BQNg==',\n",
    "     'hmac_key': '0YqMwZ1+PK3CAba8fFj6Qw==',\n",
    "     'name': 'd0ffddb5-69fb-4d77-920c-50c97707a27f'},\n",
    "    {'aes_key': 'grOGy919ey9afcqdlgmjvQ==',\n",
    "     'hmac_key': '2H+C/ajUdEg9xek+PkCHcg==',\n",
    "     'name': '7f8cb33b-0abf-45f3-b0c9-9b7b759f44c8'},\n",
    "    {'aes_key': '4cTOf7suMs2BsoPYdR2WuQ==',\n",
    "     'hmac_key': 'nZxBF2S7gtnqOJ1ptKbm9g==',\n",
    "     'name': '05b8612a-0061-407f-81f4-a3ccd07c8221'}],\n",
    "   'traffic_enabled': True,\n",
    "   'type': 'VS_TYPE_NORMAL',\n",
    "   'url': 'https://192.168.1.15/api/virtualservice/virtualservice-6bd64913-d5f4-41d7-ade9-eb2e7c003b23',\n",
    "   'use_bridge_ip_as_vip': False,\n",
    "   'use_vip_as_snat': False,\n",
    "   'uuid': 'virtualservice-6bd64913-d5f4-41d7-ade9-eb2e7c003b23',\n",
    "   'version': 27,\n",
    "   'vh_type': 'VS_TYPE_VH_SNI',\n",
    "   'vip_runtime': [{'first_se_assigned_time': {'secs': 1723586463,\n",
    "      'usecs': 707553},\n",
    "     'num_additional_se': 0,\n",
    "     'requested_resource': {'num_se': 1, 'num_standby_se': 1},\n",
    "     'se_list': [{'active_on_cloud': True,\n",
    "       'active_on_se': True,\n",
    "       'admin_down_requested': False,\n",
    "       'attach_ip_in_progress': False,\n",
    "       'cloud_programming_done': True,\n",
    "       'cloud_programming_status': 'Virtual Service IP is reachable in the Cloud',\n",
    "       'delete_in_progress': False,\n",
    "       'detach_ip_in_progress': False,\n",
    "       'incarnation': '2024-08-13 22:01:03.713870',\n",
    "       'is_portchannel': False,\n",
    "       'is_primary': True,\n",
    "       'is_standby': False,\n",
    "       'memory': 1971,\n",
    "       'mgmt_ip': {'addr': '192.168.1.21', 'type': 'V4'},\n",
    "       'mgmt_ip6': {'addr': 'fd38:9bda:673d:0:20c:29ff:feba:47eb',\n",
    "        'type': 'V6'},\n",
    "       'scaleout_in_progress': False,\n",
    "       'se_programming_done': True,\n",
    "       'se_ready_in_progress': False,\n",
    "       'se_ref': 'https://192.168.1.15/api/serviceengine/se-564d5830-e7a9-edc0-194c-c76236ba47eb',\n",
    "       'sec_idx': 0,\n",
    "       'vcpus': 1,\n",
    "       'vip6_subnet_mask': 128,\n",
    "       'vip_intf_list': [{'is_portchannel': False,\n",
    "         'vip_intf_ip': {'addr': '192.168.1.41', 'type': 'V4'},\n",
    "         'vip_intf_mac': '00:0c:29:ba:47:1d',\n",
    "         'vlan_id': 0}],\n",
    "       'vip_intf_mac': '00:0c:29:ba:47:1d',\n",
    "       'vip_subnet_mask': 32,\n",
    "       'vlan_id': 0,\n",
    "       'vnic': [{'mac': '00:0c:29:ba:47:1d', 'type': 'VNIC_TYPE_FE'},\n",
    "        {'mac': '00:0c:29:ba:47:1d', 'type': 'VNIC_TYPE_BE'}]},\n",
    "      {'active_on_cloud': False,\n",
    "       'active_on_se': True,\n",
    "       'admin_down_requested': False,\n",
    "       'attach_ip_in_progress': False,\n",
    "       'cloud_programming_done': True,\n",
    "       'cloud_programming_status': 'Virtual Service IP is not reachable in the Cloud',\n",
    "       'delete_in_progress': False,\n",
    "       'detach_ip_in_progress': False,\n",
    "       'incarnation': '2024-08-13 22:01:03.966517',\n",
    "       'is_portchannel': False,\n",
    "       'is_primary': False,\n",
    "       'is_standby': True,\n",
    "       'memory': 2944,\n",
    "       'mgmt_ip': {'addr': '192.168.1.20', 'type': 'V4'},\n",
    "       'mgmt_ip6': {'addr': 'fd38:9bda:673d:0:20c:29ff:fec4:a7af',\n",
    "        'type': 'V6'},\n",
    "       'scaleout_in_progress': False,\n",
    "       'se_programming_done': True,\n",
    "       'se_ready_in_progress': False,\n",
    "       'se_ref': 'https://192.168.1.15/api/serviceengine/se-564dcb90-ff93-dc99-bf4a-62907bc4a7af',\n",
    "       'sec_idx': 1,\n",
    "       'vcpus': 1,\n",
    "       'vip6_subnet_mask': 128,\n",
    "       'vip_intf_list': [{'is_portchannel': False,\n",
    "         'vip_intf_ip': {'addr': '192.168.1.40', 'type': 'V4'},\n",
    "         'vip_intf_mac': '00:0c:29:c4:a7:e1',\n",
    "         'vlan_id': 0}],\n",
    "       'vip_intf_mac': '00:0c:29:c4:a7:e1',\n",
    "       'vip_subnet_mask': 32,\n",
    "       'vlan_id': 0,\n",
    "       'vnic': [{'mac': '00:0c:29:c4:a7:e1', 'type': 'VNIC_TYPE_FE'},\n",
    "        {'mac': '00:0c:29:c4:a7:e1', 'type': 'VNIC_TYPE_BE'}]}],\n",
    "     'vip_id': '1'}],\n",
    "   'vrf_context_ref': 'https://192.168.1.15/api/vrfcontext/vrfcontext-e69db980-a4b4-4097-8717-7702fdba30b6',\n",
    "   'vsvip_ref': 'https://192.168.1.15/api/vsvip/vsvip-b2dc6a93-4bc1-4462-a778-b22dbf0a6e9b',\n",
    "   'weight': 1},\n",
    "  {'_last_modified': '1723646343861349',\n",
    "   'active_standby_se_tag': 'ACTIVE_STANDBY_SE_1',\n",
    "   'advertise_down_vs': False,\n",
    "   'allow_invalid_client_cert': False,\n",
    "   'analytics_policy': {'all_headers': False,\n",
    "    'client_insights': 'NO_INSIGHTS',\n",
    "    'full_client_logs': {'duration': 30, 'enabled': False, 'throttle': 10},\n",
    "    'metrics_realtime_update': {'duration': 30, 'enabled': False},\n",
    "    'significant_log_throttle': 10,\n",
    "    'udf_log_throttle': 10},\n",
    "   'analytics_profile_ref': 'https://192.168.1.15/api/analyticsprofile/analyticsprofile-768ef0ed-a2ac-427c-92c7-8715ce805374',\n",
    "   'application_profile_ref': 'https://192.168.1.15/api/applicationprofile/applicationprofile-d6f57996-7ee0-4993-8eee-d95f82c84c45',\n",
    "   'bulk_sync_kvcache': False,\n",
    "   'close_client_conn_on_config_update': False,\n",
    "   'cloud_ref': 'https://192.168.1.15/api/cloud/cloud-baf1f7f6-18ff-46cb-a134-6154d9af52a1',\n",
    "   'cloud_type': 'CLOUD_NONE',\n",
    "   'delay_fairness': False,\n",
    "   'east_west_placement': False,\n",
    "   'enable_autogw': False,\n",
    "   'enabled': True,\n",
    "   'flow_dist': 'LOAD_AWARE',\n",
    "   'flow_label_type': 'NO_LABEL',\n",
    "   'http_policies': [{'http_policy_set_ref': 'https://192.168.1.15/api/httppolicyset/httppolicyset-a9010d3e-3495-4dbc-b8ca-591101da9f08',\n",
    "     'index': 11}],\n",
    "   'ign_pool_net_reach': False,\n",
    "   'limit_doser': False,\n",
    "   'marked_for_delete': False,\n",
    "   'max_cps_per_client': 0,\n",
    "   'name': 'vs-example-mad-002-01',\n",
    "   'network_profile_ref': 'https://192.168.1.15/api/networkprofile/networkprofile-4ee2f4b9-728c-4437-a81a-0f7ad3550097',\n",
    "   'network_security_policy_ref': 'https://192.168.1.15/api/networksecuritypolicy/networksecuritypolicy-d294d057-c9d1-4152-a384-f8e56b471a2f',\n",
    "   'pool_ref': 'https://192.168.1.15/api/pool/pool-e2c04f10-7a8c-4091-8538-acdd3f9d4310',\n",
    "   'redis_db': 2,\n",
    "   'redis_port': 5025,\n",
    "   'remove_listening_port_on_vs_down': False,\n",
    "   'scaleout_ecmp': False,\n",
    "   'se_group_ref': 'https://192.168.1.15/api/serviceenginegroup/serviceenginegroup-932a4c8c-ee69-4970-94dc-e3d9fc42032f',\n",
    "   'self_se_election': True,\n",
    "   'services': [{'enable_http2': False,\n",
    "     'enable_ssl': False,\n",
    "     'horizon_internal_ports': False,\n",
    "     'is_active_ftp_data_port': False,\n",
    "     'port': 80,\n",
    "     'port_range_end': 80}],\n",
    "   'ssl_sess_cache_avg_size': 1024,\n",
    "   'tenant_ref': 'https://192.168.1.15/api/tenant/admin',\n",
    "   'tls_ticket_key': [{'aes_key': '+Euy2uaG0dsSwVsO7e/qGw==',\n",
    "     'hmac_key': 'JVLEctOCLwZJx3yQ0vlJew==',\n",
    "     'name': '19a43720-e36f-47ab-b61e-b6b084122755'},\n",
    "    {'aes_key': 'w5XxM/uJmGiHGGe1pxpjRQ==',\n",
    "     'hmac_key': 'rFBG0zPi83c2vcDijDS7qQ==',\n",
    "     'name': 'f78a9703-102a-46e3-820e-b5b18a1a84fb'},\n",
    "    {'aes_key': '6Vnwx8QuQQW2zo5DzwmqkA==',\n",
    "     'hmac_key': 'uMYdHsSeWf0zTKXmXjN4jg==',\n",
    "     'name': '37bbace5-0544-4d4f-bdab-0f487b72cc3b'}],\n",
    "   'traffic_enabled': True,\n",
    "   'type': 'VS_TYPE_NORMAL',\n",
    "   'url': 'https://192.168.1.15/api/virtualservice/virtualservice-b6fe59c3-cf9a-44a9-aac0-a646cfbdc54a',\n",
    "   'use_bridge_ip_as_vip': False,\n",
    "   'use_vip_as_snat': False,\n",
    "   'uuid': 'virtualservice-b6fe59c3-cf9a-44a9-aac0-a646cfbdc54a',\n",
    "   'version': 21,\n",
    "   'vh_type': 'VS_TYPE_VH_SNI',\n",
    "   'vip_runtime': [{'first_se_assigned_time': {'secs': 1723646344,\n",
    "      'usecs': 498881},\n",
    "     'num_additional_se': 0,\n",
    "     'requested_resource': {'num_se': 1, 'num_standby_se': 1},\n",
    "     'vip_id': '1'}],\n",
    "   'vrf_context_ref': 'https://192.168.1.15/api/vrfcontext/vrfcontext-e69db980-a4b4-4097-8717-7702fdba30b6',\n",
    "   'vsvip_ref': 'https://192.168.1.15/api/vsvip/vsvip-a27b05ca-377e-4ef3-b982-5fec57dbac35',\n",
    "   'weight': 1},\n",
    "  {'_last_modified': '1723646399348410',\n",
    "   'active_standby_se_tag': 'ACTIVE_STANDBY_SE_1',\n",
    "   'advertise_down_vs': False,\n",
    "   'allow_invalid_client_cert': False,\n",
    "   'analytics_policy': {'all_headers': False,\n",
    "    'client_insights': 'NO_INSIGHTS',\n",
    "    'full_client_logs': {'duration': 30, 'enabled': False, 'throttle': 10},\n",
    "    'metrics_realtime_update': {'duration': 30, 'enabled': False},\n",
    "    'significant_log_throttle': 10,\n",
    "    'udf_log_throttle': 10},\n",
    "   'analytics_profile_ref': 'https://192.168.1.15/api/analyticsprofile/analyticsprofile-768ef0ed-a2ac-427c-92c7-8715ce805374',\n",
    "   'application_profile_ref': 'https://192.168.1.15/api/applicationprofile/applicationprofile-d6f57996-7ee0-4993-8eee-d95f82c84c45',\n",
    "   'bulk_sync_kvcache': False,\n",
    "   'close_client_conn_on_config_update': False,\n",
    "   'cloud_ref': 'https://192.168.1.15/api/cloud/cloud-baf1f7f6-18ff-46cb-a134-6154d9af52a1',\n",
    "   'cloud_type': 'CLOUD_NONE',\n",
    "   'delay_fairness': False,\n",
    "   'east_west_placement': False,\n",
    "   'enable_autogw': False,\n",
    "   'enabled': True,\n",
    "   'flow_dist': 'LOAD_AWARE',\n",
    "   'flow_label_type': 'NO_LABEL',\n",
    "   'http_policies': [{'http_policy_set_ref': 'https://192.168.1.15/api/httppolicyset/httppolicyset-2d7109ae-7942-4247-84bf-d75a2708ce25',\n",
    "     'index': 11}],\n",
    "   'ign_pool_net_reach': False,\n",
    "   'limit_doser': False,\n",
    "   'marked_for_delete': False,\n",
    "   'max_cps_per_client': 0,\n",
    "   'name': 'vs-example-mad-002-02',\n",
    "   'network_profile_ref': 'https://192.168.1.15/api/networkprofile/networkprofile-4ee2f4b9-728c-4437-a81a-0f7ad3550097',\n",
    "   'network_security_policy_ref': 'https://192.168.1.15/api/networksecuritypolicy/networksecuritypolicy-2ac7a5eb-387f-4268-84dc-423dbb0e82d3',\n",
    "   'pool_ref': 'https://192.168.1.15/api/pool/pool-a6e0d7ba-4509-4f15-95d8-80c0c19e6d75',\n",
    "   'redis_db': 3,\n",
    "   'redis_port': 5023,\n",
    "   'remove_listening_port_on_vs_down': False,\n",
    "   'scaleout_ecmp': False,\n",
    "   'se_group_ref': 'https://192.168.1.15/api/serviceenginegroup/serviceenginegroup-932a4c8c-ee69-4970-94dc-e3d9fc42032f',\n",
    "   'self_se_election': True,\n",
    "   'services': [{'enable_http2': False,\n",
    "     'enable_ssl': False,\n",
    "     'horizon_internal_ports': False,\n",
    "     'is_active_ftp_data_port': False,\n",
    "     'port': 80,\n",
    "     'port_range_end': 80}],\n",
    "   'ssl_sess_cache_avg_size': 1024,\n",
    "   'tenant_ref': 'https://192.168.1.15/api/tenant/admin',\n",
    "   'tls_ticket_key': [{'aes_key': '1gprqXgI5+/xjCha2ZR4Jw==',\n",
    "     'hmac_key': 'fM6h2muWqmT15J06LlY6eQ==',\n",
    "     'name': '4b5f0e88-d268-4159-9a83-8e6747e8823c'},\n",
    "    {'aes_key': 'QBKEHQ+wQB9Zh1SB+4EjNw==',\n",
    "     'hmac_key': 'HZ8FTT5rHrNbkNA7DGKoqg==',\n",
    "     'name': '79a722c4-cd00-4164-8f31-7fd887a9ccd3'},\n",
    "    {'aes_key': 'Y0SWf6850Qas0itNupAVCA==',\n",
    "     'hmac_key': 'T1KexCiV8tXwuXeZr3F4Ww==',\n",
    "     'name': 'a5189e95-2066-4da4-981e-abf88d7f95ef'}],\n",
    "   'traffic_enabled': True,\n",
    "   'type': 'VS_TYPE_NORMAL',\n",
    "   'url': 'https://192.168.1.15/api/virtualservice/virtualservice-1036ab9f-e282-47c7-9122-75a002f2cfac',\n",
    "   'use_bridge_ip_as_vip': False,\n",
    "   'use_vip_as_snat': False,\n",
    "   'uuid': 'virtualservice-1036ab9f-e282-47c7-9122-75a002f2cfac',\n",
    "   'version': 20,\n",
    "   'vh_type': 'VS_TYPE_VH_SNI',\n",
    "   'vip_runtime': [{'first_se_assigned_time': {'secs': 1723646399,\n",
    "      'usecs': 872766},\n",
    "     'num_additional_se': 0,\n",
    "     'requested_resource': {'num_se': 1, 'num_standby_se': 1},\n",
    "     'vip_id': '1'}],\n",
    "   'vrf_context_ref': 'https://192.168.1.15/api/vrfcontext/vrfcontext-e69db980-a4b4-4097-8717-7702fdba30b6',\n",
    "   'vsvip_ref': 'https://192.168.1.15/api/vsvip/vsvip-35b49c10-0f69-4306-8058-7918bb2a83aa',\n",
    "   'weight': 1}]}"
   ]
  },
  {
   "cell_type": "code",
   "execution_count": null,
   "metadata": {},
   "outputs": [],
   "source": [
    "len(respuesta[\"results\"])"
   ]
  },
  {
   "cell_type": "code",
   "execution_count": null,
   "metadata": {},
   "outputs": [],
   "source": [
    "for i in range(len(respuesta[\"results\"])):\n",
    "    print(respuesta[\"results\"][i][\"name\"])"
   ]
  }
 ],
 "metadata": {
  "kernelspec": {
   "display_name": "Python 3",
   "language": "python",
   "name": "python3"
  },
  "language_info": {
   "codemirror_mode": {
    "name": "ipython",
    "version": 3
   },
   "file_extension": ".py",
   "mimetype": "text/x-python",
   "name": "python",
   "nbconvert_exporter": "python",
   "pygments_lexer": "ipython3",
   "version": "3.10.12"
  }
 },
 "nbformat": 4,
 "nbformat_minor": 2
}
