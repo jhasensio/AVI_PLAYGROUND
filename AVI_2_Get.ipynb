{
 "cells": [
  {
   "cell_type": "markdown",
   "metadata": {},
   "source": [
    "# AVI 2\n",
    "\n",
    "This is for first steps... of AVI by using Jupyter\n",
    "\n",
    "https://avinetworks.com/docs/latest/api-guide/overview.html \n",
    "\n",
    "\n",
    "https://github.com/avinetworks/sdk/blob/master/python/avi/sdk/README.md\n",
    "\n",
    "[1.- Initial Login](#1--initial-login)\n",
    "[2.- Read Operations](#import-libraries)"
   ]
  },
  {
   "cell_type": "markdown",
   "metadata": {},
   "source": [
    "## Initial Login"
   ]
  },
  {
   "cell_type": "code",
   "execution_count": null,
   "metadata": {},
   "outputs": [],
   "source": [
    "from avi.sdk.avi_api import ApiSession\n",
    "import datetime, time\n",
    "from requests.packages import urllib3\n",
    "urllib3.disable_warnings()\n",
    "import json\n",
    "\n",
    "# Import environment variables with controller information and credentials\n",
    "from envs.controller_info import session_params as session_env\n",
    "\n",
    "# Establish a first session with AVI Controller\n",
    "api = ApiSession(\n",
    "    controller_ip=session_env['controller_ip'],\n",
    "    username=session_env['controller_username'],\n",
    "    password=session_env['controller_password'],\n",
    "    tenant=session_env['tenant'],\n",
    "    api_version=session_env['api_version']\n",
    "    )\n",
    "# Update headers and api version imported from demo env file with controller version (ensure actual API Version is uses in subsequent requests\n",
    "session_env['headers']['X-Avi-Version'] = api.remote_api_version['Version']\n",
    "session_env['api_version'] = api.remote_api_version['Version']\n",
    "\n",
    "# Create a new session with received AVI API Version\n",
    "api = ApiSession(\n",
    "    controller_ip=session_env['controller_ip'],\n",
    "    username=session_env['controller_username'],\n",
    "    password=session_env['controller_password'],\n",
    "    tenant=session_env['tenant'],\n",
    "    api_version=session_env['api_version']\n",
    "    )\n",
    "# Display Session ID to Verify AVI Controller Session Establishment\n",
    "print('Successful connection to ' + session_env['name'] + '. Session ID:' + api.session_id)"
   ]
  },
  {
   "cell_type": "markdown",
   "metadata": {},
   "source": [
    "## 2.- Read Operations"
   ]
  },
  {
   "cell_type": "markdown",
   "metadata": {},
   "source": [
    "Get is a common method to read information.\n",
    "You can get information of your current setup easily invoking the corresponding API\n",
    "\n",
    "AVI has dozens of APIs... \n",
    "   - Use https://controller/swagger to understand different API\n",
    "   - You can easily infere the API when navigating through the GUI just looking at the address bar used in the GUI \n",
    "\n",
    "   Example if the GUI shows https://192.168.1.15/#!/admin/applications/virtualservice that means you are in the **admin** tenant and you are using the **virtualservice** API\n",
    "\n",
    "   In the previous step we created an AVI API session object that we called *api*. \n",
    "   Let's invoke the get method over our api object to inspect the output"
   ]
  },
  {
   "cell_type": "markdown",
   "metadata": {},
   "source": [
    "### 2.1 Basic Operations via JSON"
   ]
  },
  {
   "cell_type": "markdown",
   "metadata": {},
   "source": [
    "Import some required Libraries first"
   ]
  },
  {
   "cell_type": "code",
   "execution_count": null,
   "metadata": {},
   "outputs": [],
   "source": [
    "# Use Pandas to work with dataframes. If not installed use pip install pandas first\n",
    "import pandas as pd"
   ]
  },
  {
   "cell_type": "markdown",
   "metadata": {},
   "source": [
    "Now create a new object named vs with will contain the output of the get method using the virtualservice API path. \n",
    "We will use here the skip_default query parameter set to true to save only relevant information."
   ]
  },
  {
   "cell_type": "code",
   "execution_count": null,
   "metadata": {},
   "outputs": [],
   "source": [
    "query = {\n",
    "   \"skip_default\": \"true\"\n",
    "}\n",
    "vs = api.get('virtualservice', params=query)\n",
    "data = json.loads(vs.text)\n",
    "\n",
    "print (\"Sending request to following URL: \" +vs.url)\n",
    "data"
   ]
  },
  {
   "cell_type": "markdown",
   "metadata": {},
   "source": [
    "The request produces a json formatted output. You can change it by using "
   ]
  },
  {
   "cell_type": "markdown",
   "metadata": {},
   "source": [
    "Saving the response in a document using json format (double quotes)"
   ]
  },
  {
   "cell_type": "code",
   "execution_count": null,
   "metadata": {},
   "outputs": [],
   "source": [
    "# Save into a file\n",
    "with open('output.json', 'w') as file:\n",
    "    file.write(repr(data))"
   ]
  },
  {
   "cell_type": "code",
   "execution_count": null,
   "metadata": {},
   "outputs": [],
   "source": [
    "#Open JSON file (double Quotes) and load contents into Python Dictionary (single quotes)\n",
    "file_path = 'sample_outputs/serviceenginegroup_output.json'\n",
    "with open(file_path, 'r') as file:\n",
    "    serviceenginegroup_data = json.load(file)\n",
    "\n",
    "serviceenginegroup_data"
   ]
  },
  {
   "cell_type": "code",
   "execution_count": null,
   "metadata": {},
   "outputs": [],
   "source": [
    "se_data = serviceenginegroup_data[\"results\"][0]"
   ]
  },
  {
   "cell_type": "code",
   "execution_count": null,
   "metadata": {},
   "outputs": [],
   "source": [
    "se_data"
   ]
  },
  {
   "cell_type": "markdown",
   "metadata": {},
   "source": [
    "Filtering to include only interesting/mandatory fields"
   ]
  },
  {
   "cell_type": "code",
   "execution_count": null,
   "metadata": {},
   "outputs": [],
   "source": [
    "fields_of_interest = [\n",
    "    'algo', \n",
    "    'vs_se_scaleout_ready_timeout', \n",
    "    'active_standby']\n",
    "filtered_data = {key: se_data[key] for key in fields_of_interest if key in se_data }\n",
    "filtered_data\n"
   ]
  },
  {
   "cell_type": "code",
   "execution_count": null,
   "metadata": {},
   "outputs": [],
   "source": [
    "# import results into a dataframe\n",
    "df=pd.json_normalize(data['results'])\n",
    "# Display the result of the df dataframe object\n",
    "df"
   ]
  },
  {
   "cell_type": "code",
   "execution_count": null,
   "metadata": {},
   "outputs": [],
   "source": [
    "# Save result into a csv file  \n",
    "df.to_csv('output_vs_inventory.csv', encoding='utf-8')"
   ]
  },
  {
   "cell_type": "markdown",
   "metadata": {},
   "source": [
    "## AVI Post "
   ]
  },
  {
   "cell_type": "code",
   "execution_count": null,
   "metadata": {},
   "outputs": [],
   "source": [
    "# Cloning an object from an exising one after changing required parameters\n",
    "\n",
    "# Define GET parameters\n",
    "url_path=\"serviceenginegroup\"\n",
    "src_name = \"SOURCE-SEG001\"\n",
    "query = {\n",
    "   \"skip_default\": \"false\",\n",
    "   \"name\": src_name \n",
    "}\n",
    "\n",
    "resp = api.get(url_path, params=query)\n",
    "print (\"Sending request to following URL: \" +resp.url)\n",
    "\n",
    "if resp.status_code in range(200, 299):\n",
    "    print(resp)\n",
    "    print(resp.reason)\n",
    "else:\n",
    "    print('Error in GET request '+url_path+' :%s' % resp.text)\n",
    "\n",
    "data = json.loads(resp.text)\n",
    "\n",
    "# Extracting results contents\n",
    "data = data[\"results\"][0]\n",
    "data"
   ]
  },
  {
   "cell_type": "markdown",
   "metadata": {},
   "source": [
    "https://avinetworks.com/docs/latest/api-guide/ \n"
   ]
  },
  {
   "cell_type": "code",
   "execution_count": null,
   "metadata": {},
   "outputs": [],
   "source": [
    "# Filtering to extract relevant fields\n",
    "fields_of_interest = [\n",
    "    'name', \n",
    "    'cloud_ref', \n",
    "    'max_vs_per_se']\n",
    "data = {key: data[key] for key in fields_of_interest if key in data }\n",
    "data"
   ]
  },
  {
   "cell_type": "code",
   "execution_count": null,
   "metadata": {},
   "outputs": [],
   "source": [
    "# Define new parameters\n",
    "new_fields = {\n",
    "   \"name\": \"SEG-GROUP-003\",\n",
    "   \"max_vs_per_se\": 8\n",
    "}\n",
    "data.update(new_fields)"
   ]
  },
  {
   "cell_type": "code",
   "execution_count": null,
   "metadata": {},
   "outputs": [],
   "source": [
    "data"
   ]
  },
  {
   "cell_type": "code",
   "execution_count": null,
   "metadata": {},
   "outputs": [],
   "source": [
    "#Send POST information via POST\n",
    "\n",
    "url_path = \"serviceenginegroup\"\n",
    "\n",
    "resp = api.post (url_path, data=json.dumps(data))\n",
    "\n",
    "if resp.status_code in range(200, 299):\n",
    "    print(resp)\n",
    "    print('- New '+url_path+' named '+data['name'], resp.reason)#, resp.text)\n",
    "else:\n",
    "    print('Error in creating '+url_path+' :%s' % resp.text)"
   ]
  }
 ],
 "metadata": {
  "kernelspec": {
   "display_name": "Python 3",
   "language": "python",
   "name": "python3"
  },
  "language_info": {
   "codemirror_mode": {
    "name": "ipython",
    "version": 3
   },
   "file_extension": ".py",
   "mimetype": "text/x-python",
   "name": "python",
   "nbconvert_exporter": "python",
   "pygments_lexer": "ipython3",
   "version": "3.10.12"
  }
 },
 "nbformat": 4,
 "nbformat_minor": 2
}
