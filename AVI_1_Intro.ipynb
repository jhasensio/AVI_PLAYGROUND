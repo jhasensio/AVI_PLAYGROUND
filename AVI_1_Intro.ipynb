{
 "cells": [
  {
   "cell_type": "markdown",
   "metadata": {},
   "source": [
    "# AVI API Playground\n",
    "\n",
    "This is for first steps... of AVI by using Jupyter\n",
    "\n",
    "https://avinetworks.com/docs/latest/api-guide/overview.html \n",
    "\n",
    "\n",
    "https://github.com/avinetworks/sdk/blob/master/python/avi/sdk/README.md\n",
    "\n",
    "[1.- Initial Login](#1--initial-login)\n",
    "[2.- Read Operations](#import-libraries)"
   ]
  },
  {
   "cell_type": "markdown",
   "metadata": {},
   "source": [
    "## 1.- Initial Login"
   ]
  },
  {
   "cell_type": "markdown",
   "metadata": {},
   "source": [
    "In this step bla, bla, bla\n"
   ]
  },
  {
   "cell_type": "markdown",
   "metadata": {},
   "source": [
    "### Import Libraries"
   ]
  },
  {
   "cell_type": "code",
   "execution_count": null,
   "metadata": {},
   "outputs": [],
   "source": [
    "from avi.sdk.avi_api import ApiSession\n",
    "import datetime, time\n",
    "from requests.packages import urllib3\n",
    "urllib3.disable_warnings()"
   ]
  },
  {
   "cell_type": "markdown",
   "metadata": {},
   "source": [
    "### Import Environment Session Variables"
   ]
  },
  {
   "cell_type": "code",
   "execution_count": null,
   "metadata": {},
   "outputs": [],
   "source": [
    "from envs.controller_info import session_params as session_env"
   ]
  },
  {
   "cell_type": "code",
   "execution_count": null,
   "metadata": {},
   "outputs": [],
   "source": [
    "# Establish a first session\n",
    "api = ApiSession(\n",
    "    controller_ip=session_env['controller_ip'],\n",
    "    username=session_env['controller_username'],\n",
    "    password=session_env['controller_password'],\n",
    "    tenant=session_env['tenant'],\n",
    "    api_version=session_env['api_version']\n",
    "    )\n",
    "# Update headers and api version imported from demo env file with controller version (ensure actual API Version is uses in subsequent requests\n",
    "session_env['headers']['X-Avi-Version'] = api.remote_api_version['Version']\n",
    "session_env['api_version'] = api.remote_api_version['Version']\n",
    "\n",
    "# Create a new session with received AVI API Version\n",
    "api = ApiSession(\n",
    "    controller_ip=session_env['controller_ip'],\n",
    "    username=session_env['controller_username'],\n",
    "    password=session_env['controller_password'],\n",
    "    tenant=session_env['tenant'],\n",
    "    api_version=session_env['api_version']\n",
    "    )"
   ]
  },
  {
   "cell_type": "markdown",
   "metadata": {},
   "source": [
    "### Display Session ID to Verify AVI Controller Session Establishment"
   ]
  },
  {
   "cell_type": "code",
   "execution_count": null,
   "metadata": {},
   "outputs": [],
   "source": [
    "print('Successful connection to ' + session_env['name'] + '. Session ID:' + api.session_id)"
   ]
  },
  {
   "cell_type": "markdown",
   "metadata": {},
   "source": [
    "## 2.- Read Operations"
   ]
  },
  {
   "cell_type": "markdown",
   "metadata": {},
   "source": [
    "Get is a common method to read information.\n",
    "You can get information of your current setup easily invoking the corresponding API\n",
    "\n",
    "AVI has dozens of APIs... \n",
    "   - Use https://controller/swagger to understand different API\n",
    "   - You can easily infere the API when navigating through the GUI just looking at the address bar used in the GUI \n",
    "\n",
    "   Example if the GUI shows https://192.168.1.15/#!/admin/applications/virtualservice that means you are in the **admin** tenant and you are using the **virtualservice** API\n",
    "\n",
    "   In the previous step we created an AVI API session object that we called *api*. \n",
    "   Let's invoke the get method over our api object to inspect the output"
   ]
  },
  {
   "cell_type": "markdown",
   "metadata": {},
   "source": [
    "### 2.1 API Object **Get** Method"
   ]
  },
  {
   "cell_type": "markdown",
   "metadata": {},
   "source": [
    "Import some required Libraries first"
   ]
  },
  {
   "cell_type": "code",
   "execution_count": null,
   "metadata": {},
   "outputs": [],
   "source": [
    "import json"
   ]
  },
  {
   "cell_type": "markdown",
   "metadata": {},
   "source": [
    "Now create a new object named vs with will contain the output of the get method using the virtualservice API path"
   ]
  },
  {
   "cell_type": "code",
   "execution_count": null,
   "metadata": {},
   "outputs": [],
   "source": [
    "vs = api.get('virtualservice')\n",
    "print (\"Sending request to following URL: \" +vs.url)"
   ]
  },
  {
   "cell_type": "markdown",
   "metadata": {},
   "source": [
    "The request produces a json formatted output. You can beautify the output it by using json loads method"
   ]
  },
  {
   "cell_type": "code",
   "execution_count": null,
   "metadata": {},
   "outputs": [],
   "source": [
    "json.loads(vs.text)"
   ]
  },
  {
   "cell_type": "markdown",
   "metadata": {},
   "source": [
    "As you can tell, above output can be hard to handle and read. There are some parameters you can use to narrow down the response.\n",
    "\n",
    "- **path**: takes relative path to the AVI api \n",
    "- **tenant**: overrides the tenant used during session creation\n",
    "- **tenant_uuid**: overrides the tenant or tenant_uuid during session creation  \n",
    "- **timeout**: timeout for API calls; Default value is 60 seconds \n",
    "- **api_version**: overrides x-avi-header in request header during session creation get method takes relative path to service and kwargs as per Session class get method returns session's response object\n",
    "- **params**: dictionary of key value pairs to be sent as query parameters\n"
   ]
  },
  {
   "cell_type": "markdown",
   "metadata": {},
   "source": [
    "| Filter                                               | Description                                                                   | Example                                                                                                                                                                                                    | Returns                                                                                                                                                         |\n",
    "| ---------------------------------------------------- | ----------------------------------------------------------------------------- | ---------------------------------------------------------------------------------------------------------------------------------------------------------------------------------------------------------- | --------------------------------------------------------------------------------------------------------------------------------------------------------------- |\n",
    "| \\<field\\>=                                             | Filter objects with specific fields matching given value                      | /api/pool/?fail_action.type=FAIL_ACTION_CLOSE_CONN                                                                                                                                                         | Returns list of pools whose failure action is configured as FAIL_ACTION_CLOSE_CONN                                                                              |\n",
    "|                                                      |\\<field\\> can be a nested field using . as a separator | /api/pool/?analytics_policy.enable_realtime_metrics=false                     | Returns list of pools with real-time metrics enabled                                                                                                                                                       |\n",
    "| \\<field\\>.contains=                                    | Filter objects where field \\<field\\> contains the given string                  | /api/pool/?name.contains=-app1-                                                                                                                                                                            | Returns list of pools whose name contains the string \"-app1-\"                                                                                                   |\n",
    "| \\<field\\>.icontains=                                   | (\"contains\" is case-sensitive, \"icontains\" is case-insensitive)               |\n",
    "| [name.in](http://name.in)                            | Filter objects where name or uuid exactly matches any of the values in a list | /api/pool/?name.in=pool-1,pool-2,pool-3                                                                                                                                                                    | Returns list with pool-1, pool-2 and pool-3                                                                                                                     |\n",
    "| [uuid.in](http://uuid.in)                            |\n",
    "| search                                               | Filter objects which contain the search string in any field’s value           | /api/pool/?search=LEAST_CONN                                                                                                                                                                               | Returns list of pools containing \"LEAST_CONN\" in any field value. To search for an exact match on an entire field’s value, enclose the search string in quotes. |\n",
    "| isearch                                              | /api/pool/?search=\"LB_ALGORITHM_LEAST_CONNECTIONS\"                            | (\"search\" is case-sensitive, \"isearch\" is case-insensitive)                                                                                                                                                |\n",
    "| search=()                                            | Filter objects by searching for a field name and value                        | /api/pool/?search=(addr,10.1.1.1)                                                                                                                                                                          | Returns list of pools containing the string \"10.1.1.1\" in the field \"addr\" (even if the field is a nested field as in this case).                               |\n",
    "| isearch=()                                           | /api/pool/?search=(addr, \"10.1.1.1\")                                          | To search for an exact match on an entire field’s value, enclose the search string in quotes. Leaving the value part empty matches any value (i.e. searches for the presence of the specified field name). |\n",
    "|                                                      | /api/virtualservice/?search=(dns_policies,)                                   | (\"search\" is case-sensitive, \"isearch\" is case-insensitive)                                                                                                                                                |\n",
    "| refers_to                                            | Filter objects which have a reference to the specified object                 | /api/pool/?refers_to=healthmonitor:healthmonitor-be7880b9-2c72-4abd-9fd3-8243517e8163                                                                                                                      | Returns list of pools that refer to the health monitor with this UUID                                                                                           |\n",
    "| referred_by                                          | Filter objects which are referred to by the specified object                  | /api/pool/?referred_by=virtualservice:virtualservice-7a292eb3-ad23-4900-a269-c529db4133f8                                                                                                                  | Returns list of pools that are referred to by the virtual service with this UUID                                                                                |\n",
    "| exclude                                              | Inverts the filtering logic of the specified query                            | /api/pool/?name.icontains=-web-&refers_to=healthmonitor:healthmonitor-be7880b9-2c72-4abd-9fd3-8243517e8163&exclude=name.icontains                                                                          | Returns list of pools that refer to the health monitor with this UUID where the Pool name does not contain the string \"-web-\"                                   |\n",
    "| skip_default                                         | Excludes fields from the returned object that are set to the default value    | /api/pool/?name=app1-pool&skip_default=true                                                                                                                                                                | Returns the specified object excluding any field whose value has not been changed from its default                                                              |\n",
    "| include_name                                         | Appends the object name to each object reference - \\<object\\>_ref: \\<url\\>#\\<name\\> | /api/pool/?name=app1-pool&include_name=true                                                                                                                                                                | Returns the object with all \\*_ref fields having the referenced object name appended                                                                            |"
   ]
  },
  {
   "cell_type": "markdown",
   "metadata": {},
   "source": [
    "**Example 1**.- Get virtualservices with a name value equals to **vs-example-org1**\n",
    "\n",
    "_Sample output:_\n",
    "\n",
    "```json\n",
    "{'count': 1,\n",
    " 'results': [{'_last_modified': '1720707512296814',\n",
    "   'active_standby_se_tag': 'ACTIVE_STANDBY_SE_1',\n",
    "   'advertise_down_vs': False,\n",
    "   'allow_invalid_client_cert': False,\n",
    "   ... # (skipped)\n",
    "   'close_client_conn_on_config_update': False,\n",
    "   'cloud_ref': 'https://192.168.1.15/api/cloud/cloud-baf1f7f6-18ff-46cb-a134-6154d9af52a1',\n",
    "   'cloud_type': 'CLOUD_NONE',\n",
    "   'content_rewrite': {'rewritable_content_ref': 'https://192.168.1.15/api/stringgroup/stringgroup-caeef771-f17f-4099-936b-33023eb37300'},\n",
    "   'delay_fairness': False,\n",
    "   'east_west_placement': False,\n",
    "   'weight': 1}]}\n",
    "```"
   ]
  },
  {
   "cell_type": "code",
   "execution_count": null,
   "metadata": {},
   "outputs": [],
   "source": [
    "query= { \n",
    "    \"name\": \"vs-example-org1\"\n",
    "    }\n",
    "vs = api.get('virtualservice', params=query)\n",
    "json.loads(vs.text)\n",
    "print (\"Sending request to following URL: \" +vs.url)"
   ]
  },
  {
   "cell_type": "markdown",
   "metadata": {},
   "source": [
    "**Example 2**.- Get virtualservices with a name value equal to vs-example-org1 but only retrieve some fields in the response (enabled, vsvip_ref and type).\n",
    "\n",
    "_Sample output_:\n",
    "\n",
    "```json\n",
    "{'count': 1,\n",
    " 'results': [\n",
    "    {'enabled': True,\n",
    "   'name': 'vs-example-org1',\n",
    "   'type': 'VS_TYPE_NORMAL',\n",
    "   'url': 'https://192.168.1.15/api/virtualservice/virtualservice-f851f486-66d3-48ed-bfaa-d749c477f91c',\n",
    "   'uuid': 'virtualservice-f851f486-66d3-48ed-bfaa-d749c477f91c',\n",
    "   'vsvip_ref': 'https://192.168.1.15/api/vsvip/vsvip-188553aa-bbe1-4b6e-b2ed-7ed1d5f78293'}\n",
    "  ]\n",
    "}\n",
    "```"
   ]
  },
  {
   "cell_type": "code",
   "execution_count": null,
   "metadata": {},
   "outputs": [],
   "source": [
    "query= { \n",
    "    \"name\": \"vs-example-org1\", \n",
    "    \"fields\": \"enabled,vsvip_ref,type\"\n",
    "    }\n",
    "vs = api.get('virtualservice', params=query)\n",
    "print (\"Sending request to following URL: \" +vs.url)\n",
    "json.loads(vs.text)"
   ]
  },
  {
   "cell_type": "markdown",
   "metadata": {},
   "source": [
    "**Example 3**.- Get virtualservices that contains the string **-Example-** in the field **name** (key insensitive) and only retrieve some fields in the response (name).\n",
    "\n",
    "_Sample output_:\n",
    "\n",
    "```json\n",
    "{'count': 2,\n",
    " 'results': [{'name': 'vs-example-org1',\n",
    "   'url': 'https://192.168.1.15/api/virtualservice/virtualservice-f851f486-66d3-48ed-bfaa-d749c477f91c',\n",
    "   'uuid': 'virtualservice-f851f486-66d3-48ed-bfaa-d749c477f91c'},\n",
    "  {'name': 'vs-example-org1-new-name',\n",
    "   'url': 'https://192.168.1.15/api/virtualservice/virtualservice-ad04064c-f206-40c2-95b8-a69bd6d57646',\n",
    "   'uuid': 'virtualservice-ad04064c-f206-40c2-95b8-a69bd6d57646'}]}\n",
    "```"
   ]
  },
  {
   "cell_type": "code",
   "execution_count": null,
   "metadata": {},
   "outputs": [],
   "source": [
    "query= { \n",
    "    \"name.icontains\": \"-Example-\", \n",
    "    \"fields\": \"name\"\n",
    "    }\n",
    "vs = api.get('virtualservice', params=query)\n",
    "print (\"Sending request to following URL: \" +vs.url)\n",
    "json.loads(vs.text)"
   ]
  },
  {
   "cell_type": "markdown",
   "metadata": {},
   "source": [
    "**Example 4**.- Using two queries obtain the virtualservices sharing the same service engine group with a given virtualservice named **vs-example-org1**.\n",
    "    \n",
    "  - 1st query get se_group_ref for a given virtualservice name  \n",
    "\n",
    "_Sample output_first_query:_\n",
    "\n",
    "```json\n",
    "{'count': 1,\n",
    " 'results': [{'name': 'vs-example-org1',\n",
    "   'se_group_ref': 'https://192.168.1.15/api/serviceenginegroup/serviceenginegroup-17a49de4-afad-4929-a8e1-297be6ab9d70#SOURCE-GROUP1',\n",
    "   'url': 'https://192.168.1.15/api/virtualservice/virtualservice-f851f486-66d3-48ed-bfaa-d749c477f91c#vs-example-org1',\n",
    "   'uuid': 'virtualservice-f851f486-66d3-48ed-bfaa-d749c477f91c'}]}\n",
    "```\n",
    "  - 2nd query after extracting the UUID (embedded in the se_group_ref retrieved field above) use the refers_to query parameter to get all virtualservice sharing same service engine group\n",
    "\n",
    "_Sample output_second_query:_\n",
    "\n",
    "```json\n",
    "{'count': 2,\n",
    " 'results': [{'name': 'vs-example-org1',\n",
    "   'url': 'https://192.168.1.15/api/virtualservice/virtualservice-f851f486-66d3-48ed-bfaa-d749c477f91c',\n",
    "   'uuid': 'virtualservice-f851f486-66d3-48ed-bfaa-d749c477f91c'},\n",
    "  {'name': 'vs-example2-org1',\n",
    "   'url': 'https://192.168.1.15/api/virtualservice/virtualservice-7779e1cb-c7b8-4050-a266-1ab699dd4076',\n",
    "   'uuid': 'virtualservice-7779e1cb-c7b8-4050-a266-1ab699dd4076'}]}\n",
    "```\n"
   ]
  },
  {
   "cell_type": "code",
   "execution_count": null,
   "metadata": {},
   "outputs": [],
   "source": [
    "# 1st query retrieve se_group_ref appending the name to ease identification\n",
    "query= {\n",
    "    \"name\": \"vs-example-org1\", \n",
    "    \"fields\": \"name,se_group_ref\", # Without blank spaces\n",
    "    \"include_name\": \"true\"\n",
    "    }\n",
    "vs = api.get('virtualservice', params=query)\n",
    "print (\"Sending request to following URL: \" +vs.url)\n",
    "json.loads(vs.text)"
   ]
  },
  {
   "cell_type": "markdown",
   "metadata": {},
   "source": [
    "Extract the se_group_ref (removing the trailing name delimited by #)"
   ]
  },
  {
   "cell_type": "code",
   "execution_count": null,
   "metadata": {},
   "outputs": [],
   "source": [
    "# Copy response text to the output variable\n",
    "output=json.loads(vs.text)\n",
    "# Access the first (0 index) of results and extract the se_group_ref field splitting the trailing name delimited by #. Store in se_group_ref_name variable\n",
    "se_group_ref_name = output[\"results\"][0][\"se_group_ref\"].split(\"#\")[0]\n",
    "# Extract the SE_GROUP_UUID from the se_group_ref (last part of URL)\n",
    "se_group_uuid = se_group_ref_name.split(\"/\")[5]\n",
    "print(\"The extracted Service Engine Group UUID is \"+se_group_uuid)"
   ]
  },
  {
   "cell_type": "code",
   "execution_count": null,
   "metadata": {},
   "outputs": [],
   "source": [
    "# 2st query retrieve all virtual services that refer to the service Engine Group UUID by that se_group_ref\n",
    "query= {\n",
    "    \"fields\": \"name\", # Without blank spaces\n",
    "    \"refers_to\": f\"serviceenginegroup:{se_group_uuid}\"\n",
    "    }\n",
    "vs = api.get('virtualservice', params=query)\n",
    "print (\"Sending request to following URL: \" +vs.url)\n",
    "json.loads(vs.text)"
   ]
  }
 ],
 "metadata": {
  "kernelspec": {
   "display_name": "Python 3",
   "language": "python",
   "name": "python3"
  },
  "language_info": {
   "codemirror_mode": {
    "name": "ipython",
    "version": 3
   },
   "file_extension": ".py",
   "mimetype": "text/x-python",
   "name": "python",
   "nbconvert_exporter": "python",
   "pygments_lexer": "ipython3",
   "version": "3.10.12"
  }
 },
 "nbformat": 4,
 "nbformat_minor": 2
}
