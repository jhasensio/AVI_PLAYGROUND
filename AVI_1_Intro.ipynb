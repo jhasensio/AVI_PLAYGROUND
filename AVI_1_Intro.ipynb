{
 "cells": [
  {
   "cell_type": "markdown",
   "metadata": {},
   "source": [
    "# AVI Python SDK. First Steps\n",
    "\n",
    "AVI API SDK is a Python Package that provides APIs to communicate with Avi Controller’s REST APIs. It extends Python’s Request Library’s Session Class and provides utilities to simplify integration with Avi Controller.\n",
    "\n",
    "https://avinetworks.com/docs/latest/api-guide/overview.html \n",
    "\n",
    "\n",
    "https://github.com/vmware/alb-sdk\n",
    "\n",
    "- [1.- Initial Login](#1--initial-login)\n",
    "- [2.- Read Operations](#2--read-operations)\n",
    "- [3.- Working with JSON](#3--working-with-data-structures)"
   ]
  },
  {
   "cell_type": "markdown",
   "metadata": {},
   "source": [
    "## 1.- Initial Login"
   ]
  },
  {
   "cell_type": "markdown",
   "metadata": {},
   "source": [
    "The Session Class handles session authentication and keeps a cache of sessions to avoid multiple connection setups and teardowns across different API Session invocation. It automatically updates session cookies, CSRF Tokens from controller and provides helper APIs and templates for Avi Objects. Other important features are X-AVI-TENANT (tenant) header handling and sample source code for common load balancing examples\n"
   ]
  },
  {
   "cell_type": "markdown",
   "metadata": {},
   "source": [
    "### Import Libraries"
   ]
  },
  {
   "cell_type": "code",
   "execution_count": 78,
   "metadata": {},
   "outputs": [],
   "source": [
    "from avi.sdk.avi_api import ApiSession\n",
    "import datetime, time\n",
    "from requests.packages import urllib3\n",
    "urllib3.disable_warnings()\n",
    "import json"
   ]
  },
  {
   "cell_type": "markdown",
   "metadata": {},
   "source": [
    "### Import Environment Session Variables"
   ]
  },
  {
   "cell_type": "markdown",
   "metadata": {},
   "source": [
    "In this example, the session parameters such a username, password, Controller IP Address and so on have been provided from an independet file that is placed in envs/controller_info.py file. From this file we are importing the session_params data as session_env and we can access easily to the values of all the existing variables as shown bellow. "
   ]
  },
  {
   "cell_type": "code",
   "execution_count": 3,
   "metadata": {},
   "outputs": [],
   "source": [
    "from envs.controller_info import session_params as session_env"
   ]
  },
  {
   "cell_type": "code",
   "execution_count": 4,
   "metadata": {},
   "outputs": [],
   "source": [
    "# Establish a first session\n",
    "api = ApiSession(\n",
    "    controller_ip=session_env['controller_ip'],\n",
    "    username=session_env['controller_username'],\n",
    "    password=session_env['controller_password'],\n",
    "    tenant=session_env['tenant'],\n",
    "    api_version=session_env['api_version']\n",
    "    )\n",
    "# Update headers and api version imported from demo env file with controller version (ensure actual API Version is uses in subsequent requests\n",
    "session_env['headers']['X-Avi-Version'] = api.remote_api_version['Version']\n",
    "session_env['api_version'] = api.remote_api_version['Version']\n",
    "\n",
    "# Create a new session with received AVI API Version\n",
    "api = ApiSession(\n",
    "    controller_ip=session_env['controller_ip'],\n",
    "    username=session_env['controller_username'],\n",
    "    password=session_env['controller_password'],\n",
    "    tenant=session_env['tenant'],\n",
    "    api_version=session_env['api_version']\n",
    "    )"
   ]
  },
  {
   "cell_type": "markdown",
   "metadata": {},
   "source": [
    "### Display Session ID to Verify AVI Controller Session Establishment"
   ]
  },
  {
   "cell_type": "code",
   "execution_count": 5,
   "metadata": {},
   "outputs": [
    {
     "name": "stdout",
     "output_type": "stream",
     "text": [
      "Successful connection to avicontroller. Session ID:uqbgrhk65rm4k604vyo31l7huaugxbdp\n"
     ]
    }
   ],
   "source": [
    "print('Successful connection to ' + session_env['name'] + '. Session ID:' + api.session_id)"
   ]
  },
  {
   "cell_type": "markdown",
   "metadata": {},
   "source": [
    "From this moment on, we can call the **api** object and invoke different methods that provide CRUD operations as in the following examples. "
   ]
  },
  {
   "cell_type": "markdown",
   "metadata": {},
   "source": [
    "## 2.- Read Operations"
   ]
  },
  {
   "cell_type": "markdown",
   "metadata": {},
   "source": [
    "Get is a common method to read information.\n",
    "You can get information of your current setup easily invoking the corresponding API\n",
    "\n",
    "AVI has dozens of APIs... \n",
    "   - Use https://controller/swagger to understand different API\n",
    "   - You can easily infere the API when navigating through the GUI just looking at the address bar used in the GUI \n",
    "\n",
    "   Example if the GUI shows https://192.168.1.15/#!/admin/applications/virtualservice that means you are in the **admin** tenant and you are using the **virtualservice** API\n",
    "\n",
    "   In the previous step we created an AVI API session object that we called *api*. \n",
    "   Let's invoke the **GET** method over our api object to inspect the output"
   ]
  },
  {
   "cell_type": "markdown",
   "metadata": {},
   "source": [
    "### 2.1 API Object **Get** Method"
   ]
  },
  {
   "cell_type": "markdown",
   "metadata": {},
   "source": [
    "Now create a new object named containing the response received from the controller. The response object contains some properties such as text or url that we can read after sending the GET request. In this case the api we are using is **virtualservice**"
   ]
  },
  {
   "cell_type": "code",
   "execution_count": 6,
   "metadata": {},
   "outputs": [
    {
     "name": "stdout",
     "output_type": "stream",
     "text": [
      "Sending request to following URL: https://192.168.1.15/api/virtualservice\n"
     ]
    }
   ],
   "source": [
    "resp = api.get('virtualservice')\n",
    "print (\"Sending request to following URL: \" + resp.url)"
   ]
  },
  {
   "cell_type": "markdown",
   "metadata": {},
   "source": [
    "The request produces a json formatted output. You can beautify the output it by using json loads method to gain some readability"
   ]
  },
  {
   "cell_type": "code",
   "execution_count": 9,
   "metadata": {},
   "outputs": [
    {
     "data": {
      "text/plain": [
       "{'count': 3,\n",
       " 'results': [{'_last_modified': '1723586462363933',\n",
       "   'active_standby_se_tag': 'ACTIVE_STANDBY_SE_1',\n",
       "   'advertise_down_vs': False,\n",
       "   'allow_invalid_client_cert': False,\n",
       "   'analytics_policy': {'all_headers': False,\n",
       "    'client_insights': 'NO_INSIGHTS',\n",
       "    'full_client_logs': {'duration': 30, 'enabled': False, 'throttle': 10},\n",
       "    'metrics_realtime_update': {'duration': 30, 'enabled': False},\n",
       "    'significant_log_throttle': 10,\n",
       "    'udf_log_throttle': 10},\n",
       "   'analytics_profile_ref': 'https://192.168.1.15/api/analyticsprofile/analyticsprofile-768ef0ed-a2ac-427c-92c7-8715ce805374',\n",
       "   'application_profile_ref': 'https://192.168.1.15/api/applicationprofile/applicationprofile-d6f57996-7ee0-4993-8eee-d95f82c84c45',\n",
       "   'bulk_sync_kvcache': False,\n",
       "   'close_client_conn_on_config_update': False,\n",
       "   'cloud_ref': 'https://192.168.1.15/api/cloud/cloud-baf1f7f6-18ff-46cb-a134-6154d9af52a1',\n",
       "   'cloud_type': 'CLOUD_NONE',\n",
       "   'delay_fairness': False,\n",
       "   'east_west_placement': False,\n",
       "   'enable_autogw': False,\n",
       "   'enabled': True,\n",
       "   'flow_dist': 'LOAD_AWARE',\n",
       "   'flow_label_type': 'NO_LABEL',\n",
       "   'http_policies': [{'http_policy_set_ref': 'https://192.168.1.15/api/httppolicyset/httppolicyset-93309f9a-a77a-4ae3-8295-231fcb34a398',\n",
       "     'index': 11}],\n",
       "   'ign_pool_net_reach': False,\n",
       "   'limit_doser': False,\n",
       "   'marked_for_delete': False,\n",
       "   'max_cps_per_client': 0,\n",
       "   'name': 'vs-example-org1',\n",
       "   'network_profile_ref': 'https://192.168.1.15/api/networkprofile/networkprofile-4ee2f4b9-728c-4437-a81a-0f7ad3550097',\n",
       "   'network_security_policy_ref': 'https://192.168.1.15/api/networksecuritypolicy/networksecuritypolicy-5bf8a4c3-1929-4163-92aa-0a2759ac6a49',\n",
       "   'pool_ref': 'https://192.168.1.15/api/pool/pool-66773fdb-8d10-4823-9257-51fffed6b1d4',\n",
       "   'redis_db': 13,\n",
       "   'redis_port': 5022,\n",
       "   'remove_listening_port_on_vs_down': False,\n",
       "   'scaleout_ecmp': False,\n",
       "   'se_group_ref': 'https://192.168.1.15/api/serviceenginegroup/serviceenginegroup-e5b13687-efbb-4417-9302-b1d37c367c8b',\n",
       "   'self_se_election': True,\n",
       "   'services': [{'enable_http2': False,\n",
       "     'enable_ssl': False,\n",
       "     'horizon_internal_ports': False,\n",
       "     'is_active_ftp_data_port': False,\n",
       "     'port': 80,\n",
       "     'port_range_end': 80}],\n",
       "   'ssl_sess_cache_avg_size': 1024,\n",
       "   'tenant_ref': 'https://192.168.1.15/api/tenant/admin',\n",
       "   'tls_ticket_key': [{'aes_key': 'HzFRH+gesg91Ja0Sh2BQNg==',\n",
       "     'hmac_key': '0YqMwZ1+PK3CAba8fFj6Qw==',\n",
       "     'name': 'd0ffddb5-69fb-4d77-920c-50c97707a27f'},\n",
       "    {'aes_key': 'grOGy919ey9afcqdlgmjvQ==',\n",
       "     'hmac_key': '2H+C/ajUdEg9xek+PkCHcg==',\n",
       "     'name': '7f8cb33b-0abf-45f3-b0c9-9b7b759f44c8'},\n",
       "    {'aes_key': '4cTOf7suMs2BsoPYdR2WuQ==',\n",
       "     'hmac_key': 'nZxBF2S7gtnqOJ1ptKbm9g==',\n",
       "     'name': '05b8612a-0061-407f-81f4-a3ccd07c8221'}],\n",
       "   'traffic_enabled': True,\n",
       "   'type': 'VS_TYPE_NORMAL',\n",
       "   'url': 'https://192.168.1.15/api/virtualservice/virtualservice-6bd64913-d5f4-41d7-ade9-eb2e7c003b23',\n",
       "   'use_bridge_ip_as_vip': False,\n",
       "   'use_vip_as_snat': False,\n",
       "   'uuid': 'virtualservice-6bd64913-d5f4-41d7-ade9-eb2e7c003b23',\n",
       "   'version': 27,\n",
       "   'vh_type': 'VS_TYPE_VH_SNI',\n",
       "   'vip_runtime': [{'first_se_assigned_time': {'secs': 1723586463,\n",
       "      'usecs': 707553},\n",
       "     'num_additional_se': 0,\n",
       "     'requested_resource': {'num_se': 1, 'num_standby_se': 1},\n",
       "     'se_list': [{'active_on_cloud': True,\n",
       "       'active_on_se': True,\n",
       "       'admin_down_requested': False,\n",
       "       'attach_ip_in_progress': False,\n",
       "       'cloud_programming_done': True,\n",
       "       'cloud_programming_status': 'Virtual Service IP is reachable in the Cloud',\n",
       "       'delete_in_progress': False,\n",
       "       'detach_ip_in_progress': False,\n",
       "       'incarnation': '2024-08-13 22:01:03.713870',\n",
       "       'is_portchannel': False,\n",
       "       'is_primary': True,\n",
       "       'is_standby': False,\n",
       "       'memory': 1971,\n",
       "       'mgmt_ip': {'addr': '192.168.1.21', 'type': 'V4'},\n",
       "       'mgmt_ip6': {'addr': 'fd38:9bda:673d:0:20c:29ff:feba:47eb',\n",
       "        'type': 'V6'},\n",
       "       'scaleout_in_progress': False,\n",
       "       'se_programming_done': True,\n",
       "       'se_ready_in_progress': False,\n",
       "       'se_ref': 'https://192.168.1.15/api/serviceengine/se-564d5830-e7a9-edc0-194c-c76236ba47eb',\n",
       "       'sec_idx': 0,\n",
       "       'vcpus': 1,\n",
       "       'vip6_subnet_mask': 128,\n",
       "       'vip_intf_list': [{'is_portchannel': False,\n",
       "         'vip_intf_ip': {'addr': '192.168.1.41', 'type': 'V4'},\n",
       "         'vip_intf_mac': '00:0c:29:ba:47:1d',\n",
       "         'vlan_id': 0}],\n",
       "       'vip_intf_mac': '00:0c:29:ba:47:1d',\n",
       "       'vip_subnet_mask': 32,\n",
       "       'vlan_id': 0,\n",
       "       'vnic': [{'mac': '00:0c:29:ba:47:1d', 'type': 'VNIC_TYPE_FE'},\n",
       "        {'mac': '00:0c:29:ba:47:1d', 'type': 'VNIC_TYPE_BE'}]},\n",
       "      {'active_on_cloud': False,\n",
       "       'active_on_se': True,\n",
       "       'admin_down_requested': False,\n",
       "       'attach_ip_in_progress': False,\n",
       "       'cloud_programming_done': True,\n",
       "       'cloud_programming_status': 'Virtual Service IP is not reachable in the Cloud',\n",
       "       'delete_in_progress': False,\n",
       "       'detach_ip_in_progress': False,\n",
       "       'incarnation': '2024-08-13 22:01:03.966517',\n",
       "       'is_portchannel': False,\n",
       "       'is_primary': False,\n",
       "       'is_standby': True,\n",
       "       'memory': 2944,\n",
       "       'mgmt_ip': {'addr': '192.168.1.20', 'type': 'V4'},\n",
       "       'mgmt_ip6': {'addr': 'fd38:9bda:673d:0:20c:29ff:fec4:a7af',\n",
       "        'type': 'V6'},\n",
       "       'scaleout_in_progress': False,\n",
       "       'se_programming_done': True,\n",
       "       'se_ready_in_progress': False,\n",
       "       'se_ref': 'https://192.168.1.15/api/serviceengine/se-564dcb90-ff93-dc99-bf4a-62907bc4a7af',\n",
       "       'sec_idx': 1,\n",
       "       'vcpus': 1,\n",
       "       'vip6_subnet_mask': 128,\n",
       "       'vip_intf_list': [{'is_portchannel': False,\n",
       "         'vip_intf_ip': {'addr': '192.168.1.40', 'type': 'V4'},\n",
       "         'vip_intf_mac': '00:0c:29:c4:a7:e1',\n",
       "         'vlan_id': 0}],\n",
       "       'vip_intf_mac': '00:0c:29:c4:a7:e1',\n",
       "       'vip_subnet_mask': 32,\n",
       "       'vlan_id': 0,\n",
       "       'vnic': [{'mac': '00:0c:29:c4:a7:e1', 'type': 'VNIC_TYPE_FE'},\n",
       "        {'mac': '00:0c:29:c4:a7:e1', 'type': 'VNIC_TYPE_BE'}]}],\n",
       "     'vip_id': '1'}],\n",
       "   'vrf_context_ref': 'https://192.168.1.15/api/vrfcontext/vrfcontext-e69db980-a4b4-4097-8717-7702fdba30b6',\n",
       "   'vsvip_ref': 'https://192.168.1.15/api/vsvip/vsvip-b2dc6a93-4bc1-4462-a778-b22dbf0a6e9b',\n",
       "   'weight': 1},\n",
       "  {'_last_modified': '1723646343861349',\n",
       "   'active_standby_se_tag': 'ACTIVE_STANDBY_SE_1',\n",
       "   'advertise_down_vs': False,\n",
       "   'allow_invalid_client_cert': False,\n",
       "   'analytics_policy': {'all_headers': False,\n",
       "    'client_insights': 'NO_INSIGHTS',\n",
       "    'full_client_logs': {'duration': 30, 'enabled': False, 'throttle': 10},\n",
       "    'metrics_realtime_update': {'duration': 30, 'enabled': False},\n",
       "    'significant_log_throttle': 10,\n",
       "    'udf_log_throttle': 10},\n",
       "   'analytics_profile_ref': 'https://192.168.1.15/api/analyticsprofile/analyticsprofile-768ef0ed-a2ac-427c-92c7-8715ce805374',\n",
       "   'application_profile_ref': 'https://192.168.1.15/api/applicationprofile/applicationprofile-d6f57996-7ee0-4993-8eee-d95f82c84c45',\n",
       "   'bulk_sync_kvcache': False,\n",
       "   'close_client_conn_on_config_update': False,\n",
       "   'cloud_ref': 'https://192.168.1.15/api/cloud/cloud-baf1f7f6-18ff-46cb-a134-6154d9af52a1',\n",
       "   'cloud_type': 'CLOUD_NONE',\n",
       "   'delay_fairness': False,\n",
       "   'east_west_placement': False,\n",
       "   'enable_autogw': False,\n",
       "   'enabled': True,\n",
       "   'flow_dist': 'LOAD_AWARE',\n",
       "   'flow_label_type': 'NO_LABEL',\n",
       "   'http_policies': [{'http_policy_set_ref': 'https://192.168.1.15/api/httppolicyset/httppolicyset-a9010d3e-3495-4dbc-b8ca-591101da9f08',\n",
       "     'index': 11}],\n",
       "   'ign_pool_net_reach': False,\n",
       "   'limit_doser': False,\n",
       "   'marked_for_delete': False,\n",
       "   'max_cps_per_client': 0,\n",
       "   'name': 'vs-example-mad-002-01',\n",
       "   'network_profile_ref': 'https://192.168.1.15/api/networkprofile/networkprofile-4ee2f4b9-728c-4437-a81a-0f7ad3550097',\n",
       "   'network_security_policy_ref': 'https://192.168.1.15/api/networksecuritypolicy/networksecuritypolicy-d294d057-c9d1-4152-a384-f8e56b471a2f',\n",
       "   'pool_ref': 'https://192.168.1.15/api/pool/pool-e2c04f10-7a8c-4091-8538-acdd3f9d4310',\n",
       "   'redis_db': 2,\n",
       "   'redis_port': 5025,\n",
       "   'remove_listening_port_on_vs_down': False,\n",
       "   'scaleout_ecmp': False,\n",
       "   'se_group_ref': 'https://192.168.1.15/api/serviceenginegroup/serviceenginegroup-932a4c8c-ee69-4970-94dc-e3d9fc42032f',\n",
       "   'self_se_election': True,\n",
       "   'services': [{'enable_http2': False,\n",
       "     'enable_ssl': False,\n",
       "     'horizon_internal_ports': False,\n",
       "     'is_active_ftp_data_port': False,\n",
       "     'port': 80,\n",
       "     'port_range_end': 80}],\n",
       "   'ssl_sess_cache_avg_size': 1024,\n",
       "   'tenant_ref': 'https://192.168.1.15/api/tenant/admin',\n",
       "   'tls_ticket_key': [{'aes_key': '+Euy2uaG0dsSwVsO7e/qGw==',\n",
       "     'hmac_key': 'JVLEctOCLwZJx3yQ0vlJew==',\n",
       "     'name': '19a43720-e36f-47ab-b61e-b6b084122755'},\n",
       "    {'aes_key': 'w5XxM/uJmGiHGGe1pxpjRQ==',\n",
       "     'hmac_key': 'rFBG0zPi83c2vcDijDS7qQ==',\n",
       "     'name': 'f78a9703-102a-46e3-820e-b5b18a1a84fb'},\n",
       "    {'aes_key': '6Vnwx8QuQQW2zo5DzwmqkA==',\n",
       "     'hmac_key': 'uMYdHsSeWf0zTKXmXjN4jg==',\n",
       "     'name': '37bbace5-0544-4d4f-bdab-0f487b72cc3b'}],\n",
       "   'traffic_enabled': True,\n",
       "   'type': 'VS_TYPE_NORMAL',\n",
       "   'url': 'https://192.168.1.15/api/virtualservice/virtualservice-b6fe59c3-cf9a-44a9-aac0-a646cfbdc54a',\n",
       "   'use_bridge_ip_as_vip': False,\n",
       "   'use_vip_as_snat': False,\n",
       "   'uuid': 'virtualservice-b6fe59c3-cf9a-44a9-aac0-a646cfbdc54a',\n",
       "   'version': 21,\n",
       "   'vh_type': 'VS_TYPE_VH_SNI',\n",
       "   'vip_runtime': [{'first_se_assigned_time': {'secs': 1723646344,\n",
       "      'usecs': 498881},\n",
       "     'num_additional_se': 0,\n",
       "     'requested_resource': {'num_se': 1, 'num_standby_se': 1},\n",
       "     'vip_id': '1'}],\n",
       "   'vrf_context_ref': 'https://192.168.1.15/api/vrfcontext/vrfcontext-e69db980-a4b4-4097-8717-7702fdba30b6',\n",
       "   'vsvip_ref': 'https://192.168.1.15/api/vsvip/vsvip-a27b05ca-377e-4ef3-b982-5fec57dbac35',\n",
       "   'weight': 1},\n",
       "  {'_last_modified': '1723646399348410',\n",
       "   'active_standby_se_tag': 'ACTIVE_STANDBY_SE_1',\n",
       "   'advertise_down_vs': False,\n",
       "   'allow_invalid_client_cert': False,\n",
       "   'analytics_policy': {'all_headers': False,\n",
       "    'client_insights': 'NO_INSIGHTS',\n",
       "    'full_client_logs': {'duration': 30, 'enabled': False, 'throttle': 10},\n",
       "    'metrics_realtime_update': {'duration': 30, 'enabled': False},\n",
       "    'significant_log_throttle': 10,\n",
       "    'udf_log_throttle': 10},\n",
       "   'analytics_profile_ref': 'https://192.168.1.15/api/analyticsprofile/analyticsprofile-768ef0ed-a2ac-427c-92c7-8715ce805374',\n",
       "   'application_profile_ref': 'https://192.168.1.15/api/applicationprofile/applicationprofile-d6f57996-7ee0-4993-8eee-d95f82c84c45',\n",
       "   'bulk_sync_kvcache': False,\n",
       "   'close_client_conn_on_config_update': False,\n",
       "   'cloud_ref': 'https://192.168.1.15/api/cloud/cloud-baf1f7f6-18ff-46cb-a134-6154d9af52a1',\n",
       "   'cloud_type': 'CLOUD_NONE',\n",
       "   'delay_fairness': False,\n",
       "   'east_west_placement': False,\n",
       "   'enable_autogw': False,\n",
       "   'enabled': True,\n",
       "   'flow_dist': 'LOAD_AWARE',\n",
       "   'flow_label_type': 'NO_LABEL',\n",
       "   'http_policies': [{'http_policy_set_ref': 'https://192.168.1.15/api/httppolicyset/httppolicyset-2d7109ae-7942-4247-84bf-d75a2708ce25',\n",
       "     'index': 11}],\n",
       "   'ign_pool_net_reach': False,\n",
       "   'limit_doser': False,\n",
       "   'marked_for_delete': False,\n",
       "   'max_cps_per_client': 0,\n",
       "   'name': 'vs-example-mad-002-02',\n",
       "   'network_profile_ref': 'https://192.168.1.15/api/networkprofile/networkprofile-4ee2f4b9-728c-4437-a81a-0f7ad3550097',\n",
       "   'network_security_policy_ref': 'https://192.168.1.15/api/networksecuritypolicy/networksecuritypolicy-2ac7a5eb-387f-4268-84dc-423dbb0e82d3',\n",
       "   'pool_ref': 'https://192.168.1.15/api/pool/pool-a6e0d7ba-4509-4f15-95d8-80c0c19e6d75',\n",
       "   'redis_db': 3,\n",
       "   'redis_port': 5023,\n",
       "   'remove_listening_port_on_vs_down': False,\n",
       "   'scaleout_ecmp': False,\n",
       "   'se_group_ref': 'https://192.168.1.15/api/serviceenginegroup/serviceenginegroup-932a4c8c-ee69-4970-94dc-e3d9fc42032f',\n",
       "   'self_se_election': True,\n",
       "   'services': [{'enable_http2': False,\n",
       "     'enable_ssl': False,\n",
       "     'horizon_internal_ports': False,\n",
       "     'is_active_ftp_data_port': False,\n",
       "     'port': 80,\n",
       "     'port_range_end': 80}],\n",
       "   'ssl_sess_cache_avg_size': 1024,\n",
       "   'tenant_ref': 'https://192.168.1.15/api/tenant/admin',\n",
       "   'tls_ticket_key': [{'aes_key': '1gprqXgI5+/xjCha2ZR4Jw==',\n",
       "     'hmac_key': 'fM6h2muWqmT15J06LlY6eQ==',\n",
       "     'name': '4b5f0e88-d268-4159-9a83-8e6747e8823c'},\n",
       "    {'aes_key': 'QBKEHQ+wQB9Zh1SB+4EjNw==',\n",
       "     'hmac_key': 'HZ8FTT5rHrNbkNA7DGKoqg==',\n",
       "     'name': '79a722c4-cd00-4164-8f31-7fd887a9ccd3'},\n",
       "    {'aes_key': 'Y0SWf6850Qas0itNupAVCA==',\n",
       "     'hmac_key': 'T1KexCiV8tXwuXeZr3F4Ww==',\n",
       "     'name': 'a5189e95-2066-4da4-981e-abf88d7f95ef'}],\n",
       "   'traffic_enabled': True,\n",
       "   'type': 'VS_TYPE_NORMAL',\n",
       "   'url': 'https://192.168.1.15/api/virtualservice/virtualservice-1036ab9f-e282-47c7-9122-75a002f2cfac',\n",
       "   'use_bridge_ip_as_vip': False,\n",
       "   'use_vip_as_snat': False,\n",
       "   'uuid': 'virtualservice-1036ab9f-e282-47c7-9122-75a002f2cfac',\n",
       "   'version': 20,\n",
       "   'vh_type': 'VS_TYPE_VH_SNI',\n",
       "   'vip_runtime': [{'first_se_assigned_time': {'secs': 1723646399,\n",
       "      'usecs': 872766},\n",
       "     'num_additional_se': 0,\n",
       "     'requested_resource': {'num_se': 1, 'num_standby_se': 1},\n",
       "     'vip_id': '1'}],\n",
       "   'vrf_context_ref': 'https://192.168.1.15/api/vrfcontext/vrfcontext-e69db980-a4b4-4097-8717-7702fdba30b6',\n",
       "   'vsvip_ref': 'https://192.168.1.15/api/vsvip/vsvip-35b49c10-0f69-4306-8058-7918bb2a83aa',\n",
       "   'weight': 1}]}"
      ]
     },
     "execution_count": 9,
     "metadata": {},
     "output_type": "execute_result"
    }
   ],
   "source": [
    "json.loads(resp.text)"
   ]
  },
  {
   "cell_type": "markdown",
   "metadata": {},
   "source": [
    "As you can tell, above output can be hard to handle and read. There are some parameters you can use to narrow down the response.\n",
    "\n",
    "- **path**: takes relative path to the AVI api \n",
    "- **tenant**: overrides the tenant used during session creation\n",
    "- **tenant_uuid**: overrides the tenant or tenant_uuid during session creation  \n",
    "- **timeout**: timeout for API calls; Default value is 60 seconds \n",
    "- **api_version**: overrides x-avi-header in request header during session creation get method takes relative path to service and kwargs as per Session class get method returns session's response object\n",
    "- **params**: dictionary of key value pairs to be sent as query parameters\n"
   ]
  },
  {
   "cell_type": "markdown",
   "metadata": {},
   "source": [
    "| Filter                                               | Description                                                                   | Example                                                                                                                                                                                                    | Returns                                                                                                                                                         |\n",
    "| ---------------------------------------------------- | ----------------------------------------------------------------------------- | ---------------------------------------------------------------------------------------------------------------------------------------------------------------------------------------------------------- | --------------------------------------------------------------------------------------------------------------------------------------------------------------- |\n",
    "| \\<field\\>=                                             | Filter objects with specific fields matching given value                      | /api/pool/?fail_action.type=FAIL_ACTION_CLOSE_CONN                                                                                                                                                         | Returns list of pools whose failure action is configured as FAIL_ACTION_CLOSE_CONN                                                                              |\n",
    "|                                                      |\\<field\\> can be a nested field using . as a separator | /api/pool/?analytics_policy.enable_realtime_metrics=false                     | Returns list of pools with real-time metrics enabled                                                                                                                                                       |\n",
    "| \\<field\\>.contains=                                    | Filter objects where field \\<field\\> contains the given string                  | /api/pool/?name.contains=-app1-                                                                                                                                                                            | Returns list of pools whose name contains the string \"-app1-\"                                                                                                   |\n",
    "| \\<field\\>.icontains=                                   | (\"contains\" is case-sensitive, \"icontains\" is case-insensitive)               |\n",
    "| [name.in](http://name.in)                            | Filter objects where name or uuid exactly matches any of the values in a list | /api/pool/?name.in=pool-1,pool-2,pool-3                                                                                                                                                                    | Returns list with pool-1, pool-2 and pool-3                                                                                                                     |\n",
    "| [uuid.in](http://uuid.in)                            |\n",
    "| search                                               | Filter objects which contain the search string in any field’s value           | /api/pool/?search=LEAST_CONN                                                                                                                                                                               | Returns list of pools containing \"LEAST_CONN\" in any field value. To search for an exact match on an entire field’s value, enclose the search string in quotes. |\n",
    "| isearch                                              | /api/pool/?search=\"LB_ALGORITHM_LEAST_CONNECTIONS\"                            | (\"search\" is case-sensitive, \"isearch\" is case-insensitive)                                                                                                                                                |\n",
    "| search=()                                            | Filter objects by searching for a field name and value                        | /api/pool/?search=(addr,10.1.1.1)                                                                                                                                                                          | Returns list of pools containing the string \"10.1.1.1\" in the field \"addr\" (even if the field is a nested field as in this case).                               |\n",
    "| isearch=()                                           | /api/pool/?search=(addr, \"10.1.1.1\")                                          | To search for an exact match on an entire field’s value, enclose the search string in quotes. Leaving the value part empty matches any value (i.e. searches for the presence of the specified field name). |\n",
    "|                                                      | /api/virtualservice/?search=(dns_policies,)                                   | (\"search\" is case-sensitive, \"isearch\" is case-insensitive)                                                                                                                                                |\n",
    "| refers_to                                            | Filter objects which have a reference to the specified object                 | /api/pool/?refers_to=healthmonitor:healthmonitor-be7880b9-2c72-4abd-9fd3-8243517e8163                                                                                                                      | Returns list of pools that refer to the health monitor with this UUID                                                                                           |\n",
    "| referred_by                                          | Filter objects which are referred to by the specified object                  | /api/pool/?referred_by=virtualservice:virtualservice-7a292eb3-ad23-4900-a269-c529db4133f8                                                                                                                  | Returns list of pools that are referred to by the virtual service with this UUID                                                                                |\n",
    "| exclude                                              | Inverts the filtering logic of the specified query                            | /api/pool/?name.icontains=-web-&refers_to=healthmonitor:healthmonitor-be7880b9-2c72-4abd-9fd3-8243517e8163&exclude=name.icontains                                                                          | Returns list of pools that refer to the health monitor with this UUID where the Pool name does not contain the string \"-web-\"                                   |\n",
    "| skip_default                                         | Excludes fields from the returned object that are set to the default value    | /api/pool/?name=app1-pool&skip_default=true                                                                                                                                                                | Returns the specified object excluding any field whose value has not been changed from its default                                                              |\n",
    "| include_name                                         | Appends the object name to each object reference - \\<object\\>_ref: \\<url\\>#\\<name\\> | /api/pool/?name=app1-pool&include_name=true                                                                                                                                                                | Returns the object with all \\*_ref fields having the referenced object name appended                                                                            |"
   ]
  },
  {
   "cell_type": "markdown",
   "metadata": {},
   "source": [
    "**Example 1**.- Get virtualservices with a name value equals to **vs-example-org1**\n",
    "\n",
    "_Sample output:_\n",
    "\n",
    "```json\n",
    "{'count': 1,\n",
    " 'results': [{'_last_modified': '1720707512296814',\n",
    "   'active_standby_se_tag': 'ACTIVE_STANDBY_SE_1',\n",
    "   'advertise_down_vs': False,\n",
    "   'allow_invalid_client_cert': False,\n",
    "   ... # (skipped)\n",
    "   'close_client_conn_on_config_update': False,\n",
    "   'cloud_ref': 'https://192.168.1.15/api/cloud/cloud-baf1f7f6-18ff-46cb-a134-6154d9af52a1',\n",
    "   'cloud_type': 'CLOUD_NONE',\n",
    "   'content_rewrite': {'rewritable_content_ref': 'https://192.168.1.15/api/stringgroup/stringgroup-caeef771-f17f-4099-936b-33023eb37300'},\n",
    "   'delay_fairness': False,\n",
    "   'east_west_placement': False,\n",
    "   'weight': 1}]}\n",
    "```"
   ]
  },
  {
   "cell_type": "code",
   "execution_count": 11,
   "metadata": {},
   "outputs": [
    {
     "name": "stdout",
     "output_type": "stream",
     "text": [
      "Sending request to following URL: https://192.168.1.15/api/virtualservice?name=vs-example-org1\n"
     ]
    },
    {
     "data": {
      "text/plain": [
       "{'count': 1,\n",
       " 'results': [{'_last_modified': '1723586462363933',\n",
       "   'active_standby_se_tag': 'ACTIVE_STANDBY_SE_1',\n",
       "   'advertise_down_vs': False,\n",
       "   'allow_invalid_client_cert': False,\n",
       "   'analytics_policy': {'all_headers': False,\n",
       "    'client_insights': 'NO_INSIGHTS',\n",
       "    'full_client_logs': {'duration': 30, 'enabled': False, 'throttle': 10},\n",
       "    'metrics_realtime_update': {'duration': 30, 'enabled': False},\n",
       "    'significant_log_throttle': 10,\n",
       "    'udf_log_throttle': 10},\n",
       "   'analytics_profile_ref': 'https://192.168.1.15/api/analyticsprofile/analyticsprofile-768ef0ed-a2ac-427c-92c7-8715ce805374',\n",
       "   'application_profile_ref': 'https://192.168.1.15/api/applicationprofile/applicationprofile-d6f57996-7ee0-4993-8eee-d95f82c84c45',\n",
       "   'bulk_sync_kvcache': False,\n",
       "   'close_client_conn_on_config_update': False,\n",
       "   'cloud_ref': 'https://192.168.1.15/api/cloud/cloud-baf1f7f6-18ff-46cb-a134-6154d9af52a1',\n",
       "   'cloud_type': 'CLOUD_NONE',\n",
       "   'delay_fairness': False,\n",
       "   'east_west_placement': False,\n",
       "   'enable_autogw': False,\n",
       "   'enabled': True,\n",
       "   'flow_dist': 'LOAD_AWARE',\n",
       "   'flow_label_type': 'NO_LABEL',\n",
       "   'http_policies': [{'http_policy_set_ref': 'https://192.168.1.15/api/httppolicyset/httppolicyset-93309f9a-a77a-4ae3-8295-231fcb34a398',\n",
       "     'index': 11}],\n",
       "   'ign_pool_net_reach': False,\n",
       "   'limit_doser': False,\n",
       "   'marked_for_delete': False,\n",
       "   'max_cps_per_client': 0,\n",
       "   'name': 'vs-example-org1',\n",
       "   'network_profile_ref': 'https://192.168.1.15/api/networkprofile/networkprofile-4ee2f4b9-728c-4437-a81a-0f7ad3550097',\n",
       "   'network_security_policy_ref': 'https://192.168.1.15/api/networksecuritypolicy/networksecuritypolicy-5bf8a4c3-1929-4163-92aa-0a2759ac6a49',\n",
       "   'pool_ref': 'https://192.168.1.15/api/pool/pool-66773fdb-8d10-4823-9257-51fffed6b1d4',\n",
       "   'redis_db': 13,\n",
       "   'redis_port': 5022,\n",
       "   'remove_listening_port_on_vs_down': False,\n",
       "   'scaleout_ecmp': False,\n",
       "   'se_group_ref': 'https://192.168.1.15/api/serviceenginegroup/serviceenginegroup-e5b13687-efbb-4417-9302-b1d37c367c8b',\n",
       "   'self_se_election': True,\n",
       "   'services': [{'enable_http2': False,\n",
       "     'enable_ssl': False,\n",
       "     'horizon_internal_ports': False,\n",
       "     'is_active_ftp_data_port': False,\n",
       "     'port': 80,\n",
       "     'port_range_end': 80}],\n",
       "   'ssl_sess_cache_avg_size': 1024,\n",
       "   'tenant_ref': 'https://192.168.1.15/api/tenant/admin',\n",
       "   'tls_ticket_key': [{'aes_key': 'HzFRH+gesg91Ja0Sh2BQNg==',\n",
       "     'hmac_key': '0YqMwZ1+PK3CAba8fFj6Qw==',\n",
       "     'name': 'd0ffddb5-69fb-4d77-920c-50c97707a27f'},\n",
       "    {'aes_key': 'grOGy919ey9afcqdlgmjvQ==',\n",
       "     'hmac_key': '2H+C/ajUdEg9xek+PkCHcg==',\n",
       "     'name': '7f8cb33b-0abf-45f3-b0c9-9b7b759f44c8'},\n",
       "    {'aes_key': '4cTOf7suMs2BsoPYdR2WuQ==',\n",
       "     'hmac_key': 'nZxBF2S7gtnqOJ1ptKbm9g==',\n",
       "     'name': '05b8612a-0061-407f-81f4-a3ccd07c8221'}],\n",
       "   'traffic_enabled': True,\n",
       "   'type': 'VS_TYPE_NORMAL',\n",
       "   'url': 'https://192.168.1.15/api/virtualservice/virtualservice-6bd64913-d5f4-41d7-ade9-eb2e7c003b23',\n",
       "   'use_bridge_ip_as_vip': False,\n",
       "   'use_vip_as_snat': False,\n",
       "   'uuid': 'virtualservice-6bd64913-d5f4-41d7-ade9-eb2e7c003b23',\n",
       "   'version': 27,\n",
       "   'vh_type': 'VS_TYPE_VH_SNI',\n",
       "   'vip_runtime': [{'first_se_assigned_time': {'secs': 1723586463,\n",
       "      'usecs': 707553},\n",
       "     'num_additional_se': 0,\n",
       "     'requested_resource': {'num_se': 1, 'num_standby_se': 1},\n",
       "     'se_list': [{'active_on_cloud': True,\n",
       "       'active_on_se': True,\n",
       "       'admin_down_requested': False,\n",
       "       'attach_ip_in_progress': False,\n",
       "       'cloud_programming_done': True,\n",
       "       'cloud_programming_status': 'Virtual Service IP is reachable in the Cloud',\n",
       "       'delete_in_progress': False,\n",
       "       'detach_ip_in_progress': False,\n",
       "       'incarnation': '2024-08-13 22:01:03.713870',\n",
       "       'is_portchannel': False,\n",
       "       'is_primary': True,\n",
       "       'is_standby': False,\n",
       "       'memory': 1971,\n",
       "       'mgmt_ip': {'addr': '192.168.1.21', 'type': 'V4'},\n",
       "       'mgmt_ip6': {'addr': 'fd38:9bda:673d:0:20c:29ff:feba:47eb',\n",
       "        'type': 'V6'},\n",
       "       'scaleout_in_progress': False,\n",
       "       'se_programming_done': True,\n",
       "       'se_ready_in_progress': False,\n",
       "       'se_ref': 'https://192.168.1.15/api/serviceengine/se-564d5830-e7a9-edc0-194c-c76236ba47eb',\n",
       "       'sec_idx': 0,\n",
       "       'vcpus': 1,\n",
       "       'vip6_subnet_mask': 128,\n",
       "       'vip_intf_list': [{'is_portchannel': False,\n",
       "         'vip_intf_ip': {'addr': '192.168.1.41', 'type': 'V4'},\n",
       "         'vip_intf_mac': '00:0c:29:ba:47:1d',\n",
       "         'vlan_id': 0}],\n",
       "       'vip_intf_mac': '00:0c:29:ba:47:1d',\n",
       "       'vip_subnet_mask': 32,\n",
       "       'vlan_id': 0,\n",
       "       'vnic': [{'mac': '00:0c:29:ba:47:1d', 'type': 'VNIC_TYPE_FE'},\n",
       "        {'mac': '00:0c:29:ba:47:1d', 'type': 'VNIC_TYPE_BE'}]},\n",
       "      {'active_on_cloud': False,\n",
       "       'active_on_se': True,\n",
       "       'admin_down_requested': False,\n",
       "       'attach_ip_in_progress': False,\n",
       "       'cloud_programming_done': True,\n",
       "       'cloud_programming_status': 'Virtual Service IP is not reachable in the Cloud',\n",
       "       'delete_in_progress': False,\n",
       "       'detach_ip_in_progress': False,\n",
       "       'incarnation': '2024-08-13 22:01:03.966517',\n",
       "       'is_portchannel': False,\n",
       "       'is_primary': False,\n",
       "       'is_standby': True,\n",
       "       'memory': 2944,\n",
       "       'mgmt_ip': {'addr': '192.168.1.20', 'type': 'V4'},\n",
       "       'mgmt_ip6': {'addr': 'fd38:9bda:673d:0:20c:29ff:fec4:a7af',\n",
       "        'type': 'V6'},\n",
       "       'scaleout_in_progress': False,\n",
       "       'se_programming_done': True,\n",
       "       'se_ready_in_progress': False,\n",
       "       'se_ref': 'https://192.168.1.15/api/serviceengine/se-564dcb90-ff93-dc99-bf4a-62907bc4a7af',\n",
       "       'sec_idx': 1,\n",
       "       'vcpus': 1,\n",
       "       'vip6_subnet_mask': 128,\n",
       "       'vip_intf_list': [{'is_portchannel': False,\n",
       "         'vip_intf_ip': {'addr': '192.168.1.40', 'type': 'V4'},\n",
       "         'vip_intf_mac': '00:0c:29:c4:a7:e1',\n",
       "         'vlan_id': 0}],\n",
       "       'vip_intf_mac': '00:0c:29:c4:a7:e1',\n",
       "       'vip_subnet_mask': 32,\n",
       "       'vlan_id': 0,\n",
       "       'vnic': [{'mac': '00:0c:29:c4:a7:e1', 'type': 'VNIC_TYPE_FE'},\n",
       "        {'mac': '00:0c:29:c4:a7:e1', 'type': 'VNIC_TYPE_BE'}]}],\n",
       "     'vip_id': '1'}],\n",
       "   'vrf_context_ref': 'https://192.168.1.15/api/vrfcontext/vrfcontext-e69db980-a4b4-4097-8717-7702fdba30b6',\n",
       "   'vsvip_ref': 'https://192.168.1.15/api/vsvip/vsvip-b2dc6a93-4bc1-4462-a778-b22dbf0a6e9b',\n",
       "   'weight': 1}]}"
      ]
     },
     "execution_count": 11,
     "metadata": {},
     "output_type": "execute_result"
    }
   ],
   "source": [
    "query= { \n",
    "    \"name\": \"vs-example-org1\"\n",
    "    }\n",
    "resp = api.get('virtualservice', params=query)\n",
    "print (\"Sending request to following URL: \" +resp.url)\n",
    "json.loads(resp.text)"
   ]
  },
  {
   "cell_type": "markdown",
   "metadata": {},
   "source": [
    "**Example 2**.- Get virtualservices with a name value equal to vs-example-org1 but only retrieve some fields in the response (enabled, vsvip_ref and type).\n",
    "\n",
    "_Sample output_:\n",
    "\n",
    "```json\n",
    "{'count': 1,\n",
    " 'results': [\n",
    "    {'enabled': True,\n",
    "   'name': 'vs-example-org1',\n",
    "   'type': 'VS_TYPE_NORMAL',\n",
    "   'url': 'https://192.168.1.15/api/virtualservice/virtualservice-f851f486-66d3-48ed-bfaa-d749c477f91c',\n",
    "   'uuid': 'virtualservice-f851f486-66d3-48ed-bfaa-d749c477f91c',\n",
    "   'vsvip_ref': 'https://192.168.1.15/api/vsvip/vsvip-188553aa-bbe1-4b6e-b2ed-7ed1d5f78293'}\n",
    "  ]\n",
    "}\n",
    "```"
   ]
  },
  {
   "cell_type": "code",
   "execution_count": 13,
   "metadata": {},
   "outputs": [
    {
     "name": "stdout",
     "output_type": "stream",
     "text": [
      "Sending request to following URL: https://192.168.1.15/api/virtualservice?name=vs-example-org1&fields=enabled%2Cvsvip_ref%2Ctype\n"
     ]
    },
    {
     "data": {
      "text/plain": [
       "{'count': 1,\n",
       " 'results': [{'enabled': True,\n",
       "   'name': 'vs-example-org1',\n",
       "   'type': 'VS_TYPE_NORMAL',\n",
       "   'url': 'https://192.168.1.15/api/virtualservice/virtualservice-6bd64913-d5f4-41d7-ade9-eb2e7c003b23',\n",
       "   'uuid': 'virtualservice-6bd64913-d5f4-41d7-ade9-eb2e7c003b23',\n",
       "   'vsvip_ref': 'https://192.168.1.15/api/vsvip/vsvip-b2dc6a93-4bc1-4462-a778-b22dbf0a6e9b'}]}"
      ]
     },
     "execution_count": 13,
     "metadata": {},
     "output_type": "execute_result"
    }
   ],
   "source": [
    "query= { \n",
    "    \"name\": \"vs-example-org1\", \n",
    "    \"fields\": \"enabled,vsvip_ref,type\"\n",
    "    }\n",
    "resp = api.get('virtualservice', params=query)\n",
    "print (\"Sending request to following URL: \" + resp.url)\n",
    "json.loads(resp.text)"
   ]
  },
  {
   "cell_type": "markdown",
   "metadata": {},
   "source": [
    "**Example 3**.- Get virtualservices that contains the string **-Example-** in the field **name** (key insensitive) and only retrieve some fields in the response (name).\n",
    "\n",
    "_Sample output_:\n",
    "\n",
    "```json\n",
    "{'count': 2,\n",
    " 'results': [{'name': 'vs-example-org1',\n",
    "   'url': 'https://192.168.1.15/api/virtualservice/virtualservice-f851f486-66d3-48ed-bfaa-d749c477f91c',\n",
    "   'uuid': 'virtualservice-f851f486-66d3-48ed-bfaa-d749c477f91c'},\n",
    "  {'name': 'vs-example-org1-new-name',\n",
    "   'url': 'https://192.168.1.15/api/virtualservice/virtualservice-ad04064c-f206-40c2-95b8-a69bd6d57646',\n",
    "   'uuid': 'virtualservice-ad04064c-f206-40c2-95b8-a69bd6d57646'}]}\n",
    "```"
   ]
  },
  {
   "cell_type": "code",
   "execution_count": 14,
   "metadata": {},
   "outputs": [
    {
     "name": "stdout",
     "output_type": "stream",
     "text": [
      "Sending request to following URL: https://192.168.1.15/api/virtualservice?name.icontains=-Example-&fields=name\n"
     ]
    },
    {
     "data": {
      "text/plain": [
       "{'count': 3,\n",
       " 'results': [{'name': 'vs-example-org1',\n",
       "   'url': 'https://192.168.1.15/api/virtualservice/virtualservice-6bd64913-d5f4-41d7-ade9-eb2e7c003b23',\n",
       "   'uuid': 'virtualservice-6bd64913-d5f4-41d7-ade9-eb2e7c003b23'},\n",
       "  {'name': 'vs-example-mad-002-01',\n",
       "   'url': 'https://192.168.1.15/api/virtualservice/virtualservice-b6fe59c3-cf9a-44a9-aac0-a646cfbdc54a',\n",
       "   'uuid': 'virtualservice-b6fe59c3-cf9a-44a9-aac0-a646cfbdc54a'},\n",
       "  {'name': 'vs-example-mad-002-02',\n",
       "   'url': 'https://192.168.1.15/api/virtualservice/virtualservice-1036ab9f-e282-47c7-9122-75a002f2cfac',\n",
       "   'uuid': 'virtualservice-1036ab9f-e282-47c7-9122-75a002f2cfac'}]}"
      ]
     },
     "execution_count": 14,
     "metadata": {},
     "output_type": "execute_result"
    }
   ],
   "source": [
    "query= { \n",
    "    \"name.icontains\": \"-Example-\", \n",
    "    \"fields\": \"name\"\n",
    "    }\n",
    "resp = api.get('virtualservice', params=query)\n",
    "print (\"Sending request to following URL: \" + resp.url)\n",
    "json.loads(resp.text)"
   ]
  },
  {
   "cell_type": "markdown",
   "metadata": {},
   "source": [
    "**Example 4**.- Using two queries obtain the virtualservices sharing the same service engine group with a given virtualservice named **vs-example-org1**.\n",
    "    \n",
    "  - 1st query get se_group_ref for a given virtualservice name  \n",
    "\n",
    "_Sample output_first_query:_\n",
    "\n",
    "```json\n",
    "{'count': 1,\n",
    " 'results': [{'name': 'vs-example-org1',\n",
    "   'se_group_ref': 'https://192.168.1.15/api/serviceenginegroup/serviceenginegroup-17a49de4-afad-4929-a8e1-297be6ab9d70#SOURCE-GROUP1',\n",
    "   'url': 'https://192.168.1.15/api/virtualservice/virtualservice-f851f486-66d3-48ed-bfaa-d749c477f91c#vs-example-org1',\n",
    "   'uuid': 'virtualservice-f851f486-66d3-48ed-bfaa-d749c477f91c'}]}\n",
    "```\n",
    "  - 2nd query after extracting the UUID (embedded in the se_group_ref retrieved field above) use the refers_to query parameter to get all virtualservice sharing same service engine group\n",
    "\n",
    "_Sample output_second_query:_\n",
    "\n",
    "```json\n",
    "{'count': 2,\n",
    " 'results': [{'name': 'vs-example-org1',\n",
    "   'url': 'https://192.168.1.15/api/virtualservice/virtualservice-f851f486-66d3-48ed-bfaa-d749c477f91c',\n",
    "   'uuid': 'virtualservice-f851f486-66d3-48ed-bfaa-d749c477f91c'},\n",
    "  {'name': 'vs-example2-org1',\n",
    "   'url': 'https://192.168.1.15/api/virtualservice/virtualservice-7779e1cb-c7b8-4050-a266-1ab699dd4076',\n",
    "   'uuid': 'virtualservice-7779e1cb-c7b8-4050-a266-1ab699dd4076'}]}\n",
    "```\n"
   ]
  },
  {
   "cell_type": "code",
   "execution_count": 16,
   "metadata": {},
   "outputs": [
    {
     "name": "stdout",
     "output_type": "stream",
     "text": [
      "Sending request to following URL: https://192.168.1.15/api/virtualservice?name=vs-example-org1&fields=name%2Cse_group_ref&include_name=true\n"
     ]
    },
    {
     "data": {
      "text/plain": [
       "{'count': 1,\n",
       " 'results': [{'name': 'vs-example-org1',\n",
       "   'se_group_ref': 'https://192.168.1.15/api/serviceenginegroup/serviceenginegroup-e5b13687-efbb-4417-9302-b1d37c367c8b#MAD-SEG001',\n",
       "   'url': 'https://192.168.1.15/api/virtualservice/virtualservice-6bd64913-d5f4-41d7-ade9-eb2e7c003b23#vs-example-org1',\n",
       "   'uuid': 'virtualservice-6bd64913-d5f4-41d7-ade9-eb2e7c003b23'}]}"
      ]
     },
     "execution_count": 16,
     "metadata": {},
     "output_type": "execute_result"
    }
   ],
   "source": [
    "# 1st query retrieve se_group_ref appending the name to ease identification\n",
    "query= {\n",
    "    \"name\": \"vs-example-org1\", \n",
    "    \"fields\": \"name,se_group_ref\", # Without blank spaces\n",
    "    \"include_name\": \"true\"\n",
    "    }\n",
    "resp = api.get('virtualservice', params=query)\n",
    "print (\"Sending request to following URL: \" + resp.url)\n",
    "json.loads(resp.text)"
   ]
  },
  {
   "cell_type": "markdown",
   "metadata": {},
   "source": [
    "Extract the se_group_ref (removing the trailing name delimited by #)"
   ]
  },
  {
   "cell_type": "code",
   "execution_count": 17,
   "metadata": {},
   "outputs": [
    {
     "name": "stdout",
     "output_type": "stream",
     "text": [
      "The extracted Service Engine Group UUID is serviceenginegroup-e5b13687-efbb-4417-9302-b1d37c367c8b\n"
     ]
    }
   ],
   "source": [
    "# Copy response text to the output variable\n",
    "output=json.loads(resp.text)\n",
    "# Access the first (0 index) of results and extract the se_group_ref field splitting the trailing name delimited by #. Store in se_group_ref_name variable\n",
    "se_group_ref_name = output[\"results\"][0][\"se_group_ref\"].split(\"#\")[0]\n",
    "# Extract the SE_GROUP_UUID from the se_group_ref (last part of URL)\n",
    "se_group_uuid = se_group_ref_name.split(\"/\")[5]\n",
    "print(\"The extracted Service Engine Group UUID is \"+se_group_uuid)"
   ]
  },
  {
   "cell_type": "code",
   "execution_count": 18,
   "metadata": {},
   "outputs": [
    {
     "name": "stdout",
     "output_type": "stream",
     "text": [
      "Sending request to following URL: https://192.168.1.15/api/virtualservice?fields=name&refers_to=serviceenginegroup%3Aserviceenginegroup-e5b13687-efbb-4417-9302-b1d37c367c8b\n"
     ]
    },
    {
     "data": {
      "text/plain": [
       "{'count': 1,\n",
       " 'results': [{'name': 'vs-example-org1',\n",
       "   'url': 'https://192.168.1.15/api/virtualservice/virtualservice-6bd64913-d5f4-41d7-ade9-eb2e7c003b23',\n",
       "   'uuid': 'virtualservice-6bd64913-d5f4-41d7-ade9-eb2e7c003b23'}]}"
      ]
     },
     "execution_count": 18,
     "metadata": {},
     "output_type": "execute_result"
    }
   ],
   "source": [
    "# 2st query retrieve all virtual services that refer to the service Engine Group UUID by that se_group_ref\n",
    "query= {\n",
    "    \"fields\": \"name\", # Without blank spaces\n",
    "    \"refers_to\": f\"serviceenginegroup:{se_group_uuid}\"\n",
    "    }\n",
    "resp = api.get('virtualservice', params=query)\n",
    "print (\"Sending request to following URL: \" + resp.url)\n",
    "json.loads(resp.text)"
   ]
  },
  {
   "cell_type": "markdown",
   "metadata": {},
   "source": [
    "### 2.2 API GET Object by Name method"
   ]
  },
  {
   "cell_type": "markdown",
   "metadata": {},
   "source": [
    "Another interesing method is the **get_obj_by_name**. This method is very useful when you know the name of the object you are looking for. Instead of parsing the contents of the results in the full json response and creating a query using the name field, this method directly returns the response of a particular object. "
   ]
  },
  {
   "cell_type": "code",
   "execution_count": 89,
   "metadata": {},
   "outputs": [
    {
     "data": {
      "text/plain": [
       "{'_last_modified': '1723645226248932',\n",
       " 'accelerated_networking': True,\n",
       " 'active_standby': True,\n",
       " 'aggressive_failure_detection': False,\n",
       " 'algo': 'PLACEMENT_ALGO_DISTRIBUTED',\n",
       " 'app_cache_percent': 0,\n",
       " 'app_cache_threshold': 5,\n",
       " 'app_learning_memory_percent': 0,\n",
       " 'archive_shm_limit': 8,\n",
       " 'async_ssl': False,\n",
       " 'async_ssl_threads': 1,\n",
       " 'auto_rebalance': False,\n",
       " 'auto_rebalance_interval': 300,\n",
       " 'auto_redistribute_active_standby_load': False,\n",
       " 'baremetal_dispatcher_handles_flows': False,\n",
       " 'bgp_peer_monitor_failover_enabled': False,\n",
       " 'bgp_state_update_interval': 60,\n",
       " 'buffer_se': 0,\n",
       " 'cloud_ref': 'https://192.168.1.15/api/cloud/cloud-baf1f7f6-18ff-46cb-a134-6154d9af52a1',\n",
       " 'compress_ip_rules_for_each_ns_subnet': True,\n",
       " 'config_debugs_on_all_cores': False,\n",
       " 'connection_memory_percentage': 50,\n",
       " 'core_shm_app_cache': False,\n",
       " 'core_shm_app_learning': False,\n",
       " 'cpu_reserve': False,\n",
       " 'cpu_socket_affinity': False,\n",
       " 'datascript_timeout': 1000000,\n",
       " 'disable_avi_securitygroups': False,\n",
       " 'disable_csum_offloads': False,\n",
       " 'disable_flow_probes': False,\n",
       " 'disable_se_memory_check': False,\n",
       " 'disable_tso': False,\n",
       " 'disk_per_se': 15,\n",
       " 'distribute_load_active_standby': False,\n",
       " 'distribute_queues': False,\n",
       " 'distribute_vnics': False,\n",
       " 'downstream_send_timeout': 3600000,\n",
       " 'dp_aggressive_deq_interval_msec': 1,\n",
       " 'dp_aggressive_enq_interval_msec': 1,\n",
       " 'dp_aggressive_hb_frequency': 100,\n",
       " 'dp_aggressive_hb_timeout_count': 10,\n",
       " 'dp_deq_interval_msec': 20,\n",
       " 'dp_enq_interval_msec': 20,\n",
       " 'dp_hb_frequency': 100,\n",
       " 'dp_hb_timeout_count': 10,\n",
       " 'dpdk_gro_timeout_interval': 50,\n",
       " 'enable_gratarp_permanent': False,\n",
       " 'enable_hsm_log': False,\n",
       " 'enable_hsm_priming': False,\n",
       " 'enable_multi_lb': False,\n",
       " 'extra_config_multiplier': 0,\n",
       " 'extra_shared_config_memory': 0,\n",
       " 'flow_table_new_syn_max_entries': 0,\n",
       " 'free_list_size': 1024,\n",
       " 'gratarp_permanent_periodicity': 10,\n",
       " 'grpc_channel_connect_timeout': 15,\n",
       " 'ha_mode': 'HA_MODE_LEGACY_ACTIVE_STANDBY',\n",
       " 'handle_per_pkt_attack': True,\n",
       " 'heap_minimum_config_memory': 8,\n",
       " 'hm_on_standby': False,\n",
       " 'host_gateway_monitor': False,\n",
       " 'http_rum_console_log': False,\n",
       " 'http_rum_min_content_length': 64,\n",
       " 'hybrid_rss_mode': False,\n",
       " 'ignore_docker_mac_change': True,\n",
       " 'ignore_rtt_threshold': 5000,\n",
       " 'ingress_access_data': 'SG_INGRESS_ACCESS_ALL',\n",
       " 'ingress_access_mgmt': 'SG_INGRESS_ACCESS_ALL',\n",
       " 'l7_conns_per_core': 16384,\n",
       " 'l7_resvd_listen_conns_per_core': 256,\n",
       " 'lbaction_num_requests_to_dispatch': 4,\n",
       " 'lbaction_rq_per_request_max_retries': 22,\n",
       " 'least_load_core_selection': True,\n",
       " 'license_tier': 'BASIC',\n",
       " 'license_type': 'LIC_CORES',\n",
       " 'log_agent_compress_logs': True,\n",
       " 'log_agent_debug_enabled': False,\n",
       " 'log_agent_file_sz_appl': 4,\n",
       " 'log_agent_file_sz_conn': 4,\n",
       " 'log_agent_file_sz_debug': 4,\n",
       " 'log_agent_file_sz_event': 4,\n",
       " 'log_agent_log_storage_min_sz': 1024,\n",
       " 'log_agent_max_concurrent_rsync': 1024,\n",
       " 'log_agent_max_storage_excess_percent': 110,\n",
       " 'log_agent_max_storage_ignore_percent': 20,\n",
       " 'log_agent_min_storage_per_vs': 10,\n",
       " 'log_agent_sleep_interval': 10,\n",
       " 'log_agent_trace_enabled': True,\n",
       " 'log_agent_unknown_vs_timer': 1800,\n",
       " 'log_disksz': 10000,\n",
       " 'log_malloc_failure': True,\n",
       " 'log_message_max_file_list_size': 64,\n",
       " 'max_cpu_usage': 80,\n",
       " 'max_memory_per_mempool': 64,\n",
       " 'max_public_ips_per_lb': 30,\n",
       " 'max_queues_per_vnic': 1,\n",
       " 'max_rules_per_lb': 150,\n",
       " 'max_scaleout_per_vs': 2,\n",
       " 'max_se': 2,\n",
       " 'max_skb_frags': 17,\n",
       " 'max_vs_per_se': 8,\n",
       " 'mem_reserve': True,\n",
       " 'memory_for_config_update': 15,\n",
       " 'memory_per_se': 2048,\n",
       " 'min_cpu_usage': 30,\n",
       " 'min_scaleout_per_vs': 2,\n",
       " 'min_se': 1,\n",
       " 'minimum_connection_memory': 20,\n",
       " 'n_log_streaming_threads': 1,\n",
       " 'name': 'MAD-SEG001',\n",
       " 'netlink_poller_threads': 2,\n",
       " 'netlink_sock_buf_size': 4,\n",
       " 'ngx_free_connection_stack': False,\n",
       " 'non_significant_log_throttle': 100,\n",
       " 'ns_helper_deq_interval_msec': 20,\n",
       " 'ntp_sync_fail_event': False,\n",
       " 'ntp_sync_status_interval': 0,\n",
       " 'num_dispatcher_cores': 0,\n",
       " 'num_dispatcher_queues': 1,\n",
       " 'num_flow_cores_sum_changes_to_ignore': 8,\n",
       " 'objsync_port': 9001,\n",
       " 'os_reserved_memory': 0,\n",
       " 'pcap_tx_mode': 'PCAP_TX_AUTO',\n",
       " 'pcap_tx_ring_rd_balancing_factor': 10,\n",
       " 'per_app': False,\n",
       " 'per_vs_admission_control': False,\n",
       " 'placement_mode': 'PLACEMENT_MODE_AUTO',\n",
       " 'realtime_se_metrics': {'duration': 30, 'enabled': False},\n",
       " 'reboot_on_panic': True,\n",
       " 'replay_vrf_routes_interval': 1000,\n",
       " 'resync_time_interval': 65536,\n",
       " 'sdb_flush_interval': 100,\n",
       " 'sdb_pipeline_size': 100,\n",
       " 'sdb_scan_count': 1000,\n",
       " 'se_bandwidth_type': 'SE_BANDWIDTH_UNLIMITED',\n",
       " 'se_debug_trace_sz': 8,\n",
       " 'se_delayed_flow_delete': True,\n",
       " 'se_deprovision_delay': 120,\n",
       " 'se_dos_profile': {'thresh_period': 5},\n",
       " 'se_dp_hm_drops': 0,\n",
       " 'se_dp_if_state_poll_interval': 10,\n",
       " 'se_dp_isolation': False,\n",
       " 'se_dp_isolation_num_non_dp_cpus': 0,\n",
       " 'se_dp_log_nf_enqueue_percent': 70,\n",
       " 'se_dp_log_udf_enqueue_percent': 90,\n",
       " 'se_dp_max_hb_version': 3,\n",
       " 'se_dp_vnic_queue_stall_event_sleep': 0,\n",
       " 'se_dp_vnic_queue_stall_threshold': 2000,\n",
       " 'se_dp_vnic_queue_stall_timeout': 10000,\n",
       " 'se_dp_vnic_restart_on_queue_stall_count': 3,\n",
       " 'se_dp_vnic_stall_se_restart_window': 3600,\n",
       " 'se_dpdk_pmd': 0,\n",
       " 'se_dump_core_on_assert': False,\n",
       " 'se_emulated_cores': 0,\n",
       " 'se_flow_probe_retries': 2,\n",
       " 'se_flow_probe_retry_timer': 40,\n",
       " 'se_hyperthreaded_mode': 'SE_CPU_HT_AUTO',\n",
       " 'se_ip_encap_ipc': 0,\n",
       " 'se_kni_burst_factor': 0,\n",
       " 'se_l3_encap_ipc': 0,\n",
       " 'se_log_buffer_app_blocking_dequeue': False,\n",
       " 'se_log_buffer_conn_blocking_dequeue': False,\n",
       " 'se_log_buffer_events_blocking_dequeue': True,\n",
       " 'se_mp_ring_retry_count': 500,\n",
       " 'se_name_prefix': 'Avi',\n",
       " 'se_packet_buffer_max': 0,\n",
       " 'se_pcap_lookahead': False,\n",
       " 'se_pcap_pkt_count': 0,\n",
       " 'se_pcap_pkt_sz': 69632,\n",
       " 'se_pcap_qdisc_bypass': True,\n",
       " 'se_pcap_reinit_frequency': 0,\n",
       " 'se_pcap_reinit_threshold': 0,\n",
       " 'se_probe_port': 7,\n",
       " 'se_rl_prop': {'msf_num_stages': 1, 'msf_stage_size': 16384},\n",
       " 'se_rum_sampling_nav_interval': 1,\n",
       " 'se_rum_sampling_nav_percent': 1,\n",
       " 'se_rum_sampling_res_interval': 2,\n",
       " 'se_rum_sampling_res_percent': 100,\n",
       " 'se_sb_dedicated_core': False,\n",
       " 'se_sb_threads': 1,\n",
       " 'se_thread_multiplier': 1,\n",
       " 'se_time_tracker_props': {'egress_audit_mode': 'SE_TT_AUDIT_OFF',\n",
       "  'egress_threshold': 20,\n",
       "  'event_gen_window': 300,\n",
       "  'ingress_audit_mode': 'SE_TT_AUDIT_OFF',\n",
       "  'ingress_threshold': 20},\n",
       " 'se_tunnel_mode': 0,\n",
       " 'se_tunnel_udp_port': 1550,\n",
       " 'se_tx_batch_size': 64,\n",
       " 'se_txq_threshold': 2048,\n",
       " 'se_udp_encap_ipc': 0,\n",
       " 'se_use_dpdk': 0,\n",
       " 'se_vnic_tx_sw_queue_flush_frequency': 0,\n",
       " 'se_vnic_tx_sw_queue_size': 256,\n",
       " 'se_vs_hb_max_pkts_in_batch': 64,\n",
       " 'se_vs_hb_max_vs_in_pkt': 256,\n",
       " 'self_se_election': False,\n",
       " 'send_se_ready_timeout': 300,\n",
       " 'shm_minimum_config_memory': 4,\n",
       " 'significant_log_throttle': 100,\n",
       " 'ssl_preprocess_sni_hostname': True,\n",
       " 'ssl_sess_cache_per_vs': 4096,\n",
       " 'tenant_ref': 'https://192.168.1.15/api/tenant/admin',\n",
       " 'transient_shared_memory_max': 30,\n",
       " 'udf_log_throttle': 100,\n",
       " 'upstream_connect_timeout': 3600000,\n",
       " 'upstream_connpool_enable': True,\n",
       " 'upstream_read_timeout': 3600000,\n",
       " 'upstream_send_timeout': 3600000,\n",
       " 'url': 'https://192.168.1.15/api/serviceenginegroup/serviceenginegroup-e5b13687-efbb-4417-9302-b1d37c367c8b',\n",
       " 'use_dp_util_for_scaleout': False,\n",
       " 'use_hyperthreaded_cores': True,\n",
       " 'use_legacy_netlink': False,\n",
       " 'use_objsync': False,\n",
       " 'user_defined_metric_age': 60,\n",
       " 'uuid': 'serviceenginegroup-e5b13687-efbb-4417-9302-b1d37c367c8b',\n",
       " 'vcenter_datastore_mode': 'VCENTER_DATASTORE_ANY',\n",
       " 'vcenter_datastores_include': False,\n",
       " 'vcenter_folder': 'AviSeFolder',\n",
       " 'vcpus_per_se': 1,\n",
       " 'vnic_dhcp_ip_check_interval': 6,\n",
       " 'vnic_dhcp_ip_max_retries': 10,\n",
       " 'vnic_ip_delete_interval': 5,\n",
       " 'vnic_probe_interval': 5,\n",
       " 'vnic_rpc_retry_interval': 5,\n",
       " 'vnicdb_cmd_history_size': 256,\n",
       " 'vs_host_redundancy': True,\n",
       " 'vs_scalein_timeout': 30,\n",
       " 'vs_scalein_timeout_for_upgrade': 30,\n",
       " 'vs_scaleout_timeout': 600,\n",
       " 'vs_se_scaleout_additional_wait_time': 0,\n",
       " 'vs_se_scaleout_ready_timeout': 60,\n",
       " 'vs_switchover_timeout': 300,\n",
       " 'vss_placement': {'core_nonaffinity': 2, 'num_subcores': 4},\n",
       " 'vss_placement_enabled': False,\n",
       " 'waf_mempool': True,\n",
       " 'waf_mempool_size': 64}"
      ]
     },
     "execution_count": 89,
     "metadata": {},
     "output_type": "execute_result"
    }
   ],
   "source": [
    "# Get an specific object by his name \n",
    "api_name = \"serviceenginegroup\"\n",
    "object_name = \"MAD-SEG001\"\n",
    "object = api.get_object_by_name(api_name, object_name)\n",
    "# Display object content\n",
    "object "
   ]
  },
  {
   "cell_type": "markdown",
   "metadata": {},
   "source": [
    "### 2.3 API GET Object Ref method"
   ]
  },
  {
   "cell_type": "markdown",
   "metadata": {},
   "source": [
    "Similarly the **get_obj_ref** is useful to get the reference value of certain object. This is sometimes required in some of CRUD operations. "
   ]
  },
  {
   "cell_type": "code",
   "execution_count": 98,
   "metadata": {},
   "outputs": [
    {
     "name": "stdout",
     "output_type": "stream",
     "text": [
      "The serviceenginegroup reference of the serviceenginegroup named MAD-SEG001 is:\n",
      "- https://192.168.1.15/api/serviceenginegroup/serviceenginegroup-e5b13687-efbb-4417-9302-b1d37c367c8b\n"
     ]
    }
   ],
   "source": [
    "# Get an specific object by his name \n",
    "api_name = \"serviceenginegroup\"\n",
    "object_name = \"MAD-SEG001\"\n",
    "object = api.get_object_by_name(api_name, object_name)\n",
    "\n",
    "# Get cloud reference \n",
    "api_name = \"serviceenginegroup\"\n",
    "object_name = \"MAD-SEG001\"\n",
    "object_ref = api.get_obj_ref(object)\n",
    "print('The '+api_name+' reference of the '+api_name+' named '+object_name+' is:')\n",
    "print('- '+ object_ref)"
   ]
  },
  {
   "cell_type": "markdown",
   "metadata": {},
   "source": [
    "## 3.- Working with Data Structures"
   ]
  },
  {
   "cell_type": "markdown",
   "metadata": {},
   "source": [
    "Lets now get familiar with data structures and some tipical operations. As a first step, let's create a new GET virtualservices request and we save the received response into a variable named **data**"
   ]
  },
  {
   "cell_type": "code",
   "execution_count": 20,
   "metadata": {},
   "outputs": [
    {
     "name": "stdout",
     "output_type": "stream",
     "text": [
      "Sending request to following URL: https://192.168.1.15/api/virtualservice?skip_default=true\n"
     ]
    }
   ],
   "source": [
    "query = {\n",
    "   \"skip_default\": \"true\"\n",
    "}\n",
    "resp = api.get('virtualservice', params=query)\n",
    "data = json.loads(resp.text)\n",
    "\n",
    "print (\"Sending request to following URL: \" + resp.url)\n"
   ]
  },
  {
   "cell_type": "markdown",
   "metadata": {},
   "source": [
    "Once we have the response, we can save it permanently into a file as json format (double quotes). This can help to explore the contents or even to modify the JSON document for further operations. "
   ]
  },
  {
   "cell_type": "code",
   "execution_count": 25,
   "metadata": {},
   "outputs": [],
   "source": [
    "# Save into a file\n",
    "with open('output.json', 'w') as outfile:\n",
    "    json.dump(data, outfile)"
   ]
  },
  {
   "cell_type": "markdown",
   "metadata": {},
   "source": [
    "Similarly we can open an existing JSON file (double quotes) and load the contents into a Python Dictionary (single quotes)"
   ]
  },
  {
   "cell_type": "code",
   "execution_count": 35,
   "metadata": {},
   "outputs": [
    {
     "data": {
      "text/plain": [
       "{'count': 3,\n",
       " 'results': [{'_last_modified': '1723586462363933',\n",
       "   'analytics_policy': {'full_client_logs': {'enabled': False},\n",
       "    'metrics_realtime_update': {'enabled': False}},\n",
       "   'analytics_profile_ref': 'https://192.168.1.15/api/analyticsprofile/analyticsprofile-768ef0ed-a2ac-427c-92c7-8715ce805374',\n",
       "   'application_profile_ref': 'https://192.168.1.15/api/applicationprofile/applicationprofile-d6f57996-7ee0-4993-8eee-d95f82c84c45',\n",
       "   'cloud_ref': 'https://192.168.1.15/api/cloud/cloud-baf1f7f6-18ff-46cb-a134-6154d9af52a1',\n",
       "   'enable_autogw': False,\n",
       "   'http_policies': [{'http_policy_set_ref': 'https://192.168.1.15/api/httppolicyset/httppolicyset-93309f9a-a77a-4ae3-8295-231fcb34a398',\n",
       "     'index': 11}],\n",
       "   'marked_for_delete': False,\n",
       "   'name': 'vs-example-org1',\n",
       "   'network_profile_ref': 'https://192.168.1.15/api/networkprofile/networkprofile-4ee2f4b9-728c-4437-a81a-0f7ad3550097',\n",
       "   'network_security_policy_ref': 'https://192.168.1.15/api/networksecuritypolicy/networksecuritypolicy-5bf8a4c3-1929-4163-92aa-0a2759ac6a49',\n",
       "   'pool_ref': 'https://192.168.1.15/api/pool/pool-66773fdb-8d10-4823-9257-51fffed6b1d4',\n",
       "   'redis_db': 13,\n",
       "   'redis_port': 5022,\n",
       "   'se_group_ref': 'https://192.168.1.15/api/serviceenginegroup/serviceenginegroup-e5b13687-efbb-4417-9302-b1d37c367c8b',\n",
       "   'self_se_election': True,\n",
       "   'services': [{'port': 80, 'port_range_end': 80}],\n",
       "   'tenant_ref': 'https://192.168.1.15/api/tenant/admin',\n",
       "   'tls_ticket_key': [{'aes_key': 'HzFRH+gesg91Ja0Sh2BQNg==',\n",
       "     'hmac_key': '0YqMwZ1+PK3CAba8fFj6Qw==',\n",
       "     'name': 'd0ffddb5-69fb-4d77-920c-50c97707a27f'},\n",
       "    {'aes_key': 'grOGy919ey9afcqdlgmjvQ==',\n",
       "     'hmac_key': '2H+C/ajUdEg9xek+PkCHcg==',\n",
       "     'name': '7f8cb33b-0abf-45f3-b0c9-9b7b759f44c8'},\n",
       "    {'aes_key': '4cTOf7suMs2BsoPYdR2WuQ==',\n",
       "     'hmac_key': 'nZxBF2S7gtnqOJ1ptKbm9g==',\n",
       "     'name': '05b8612a-0061-407f-81f4-a3ccd07c8221'}],\n",
       "   'url': 'https://192.168.1.15/api/virtualservice/virtualservice-6bd64913-d5f4-41d7-ade9-eb2e7c003b23',\n",
       "   'uuid': 'virtualservice-6bd64913-d5f4-41d7-ade9-eb2e7c003b23',\n",
       "   'version': 27,\n",
       "   'vip_runtime': [{'first_se_assigned_time': {'secs': 1723586463,\n",
       "      'usecs': 707553},\n",
       "     'num_additional_se': 0,\n",
       "     'requested_resource': {'num_se': 1, 'num_standby_se': 1},\n",
       "     'se_list': [{'active_on_cloud': True,\n",
       "       'active_on_se': True,\n",
       "       'admin_down_requested': False,\n",
       "       'attach_ip_in_progress': False,\n",
       "       'cloud_programming_done': True,\n",
       "       'cloud_programming_status': 'Virtual Service IP is reachable in the Cloud',\n",
       "       'delete_in_progress': False,\n",
       "       'detach_ip_in_progress': False,\n",
       "       'incarnation': '2024-08-13 22:01:03.713870',\n",
       "       'is_portchannel': False,\n",
       "       'is_primary': True,\n",
       "       'is_standby': False,\n",
       "       'memory': 1971,\n",
       "       'mgmt_ip': {'addr': '192.168.1.21', 'type': 'V4'},\n",
       "       'mgmt_ip6': {'addr': 'fd38:9bda:673d:0:20c:29ff:feba:47eb',\n",
       "        'type': 'V6'},\n",
       "       'scaleout_in_progress': False,\n",
       "       'se_programming_done': True,\n",
       "       'se_ready_in_progress': False,\n",
       "       'se_ref': 'https://192.168.1.15/api/serviceengine/se-564d5830-e7a9-edc0-194c-c76236ba47eb',\n",
       "       'sec_idx': 0,\n",
       "       'vcpus': 1,\n",
       "       'vip6_subnet_mask': 128,\n",
       "       'vip_intf_list': [{'is_portchannel': False,\n",
       "         'vip_intf_ip': {'addr': '192.168.1.41', 'type': 'V4'},\n",
       "         'vip_intf_mac': '00:0c:29:ba:47:1d',\n",
       "         'vlan_id': 0}],\n",
       "       'vip_intf_mac': '00:0c:29:ba:47:1d',\n",
       "       'vip_subnet_mask': 32,\n",
       "       'vlan_id': 0,\n",
       "       'vnic': [{'mac': '00:0c:29:ba:47:1d', 'type': 'VNIC_TYPE_FE'},\n",
       "        {'mac': '00:0c:29:ba:47:1d', 'type': 'VNIC_TYPE_BE'}]},\n",
       "      {'active_on_cloud': False,\n",
       "       'active_on_se': True,\n",
       "       'admin_down_requested': False,\n",
       "       'attach_ip_in_progress': False,\n",
       "       'cloud_programming_done': True,\n",
       "       'cloud_programming_status': 'Virtual Service IP is not reachable in the Cloud',\n",
       "       'delete_in_progress': False,\n",
       "       'detach_ip_in_progress': False,\n",
       "       'incarnation': '2024-08-13 22:01:03.966517',\n",
       "       'is_portchannel': False,\n",
       "       'is_primary': False,\n",
       "       'is_standby': True,\n",
       "       'memory': 2944,\n",
       "       'mgmt_ip': {'addr': '192.168.1.20', 'type': 'V4'},\n",
       "       'mgmt_ip6': {'addr': 'fd38:9bda:673d:0:20c:29ff:fec4:a7af',\n",
       "        'type': 'V6'},\n",
       "       'scaleout_in_progress': False,\n",
       "       'se_programming_done': True,\n",
       "       'se_ready_in_progress': False,\n",
       "       'se_ref': 'https://192.168.1.15/api/serviceengine/se-564dcb90-ff93-dc99-bf4a-62907bc4a7af',\n",
       "       'sec_idx': 1,\n",
       "       'vcpus': 1,\n",
       "       'vip6_subnet_mask': 128,\n",
       "       'vip_intf_list': [{'is_portchannel': False,\n",
       "         'vip_intf_ip': {'addr': '192.168.1.40', 'type': 'V4'},\n",
       "         'vip_intf_mac': '00:0c:29:c4:a7:e1',\n",
       "         'vlan_id': 0}],\n",
       "       'vip_intf_mac': '00:0c:29:c4:a7:e1',\n",
       "       'vip_subnet_mask': 32,\n",
       "       'vlan_id': 0,\n",
       "       'vnic': [{'mac': '00:0c:29:c4:a7:e1', 'type': 'VNIC_TYPE_FE'},\n",
       "        {'mac': '00:0c:29:c4:a7:e1', 'type': 'VNIC_TYPE_BE'}]}],\n",
       "     'vip_id': '1'}],\n",
       "   'vrf_context_ref': 'https://192.168.1.15/api/vrfcontext/vrfcontext-e69db980-a4b4-4097-8717-7702fdba30b6',\n",
       "   'vsvip_ref': 'https://192.168.1.15/api/vsvip/vsvip-b2dc6a93-4bc1-4462-a778-b22dbf0a6e9b'},\n",
       "  {'_last_modified': '1723646343861349',\n",
       "   'analytics_policy': {'full_client_logs': {'enabled': False},\n",
       "    'metrics_realtime_update': {'enabled': False}},\n",
       "   'analytics_profile_ref': 'https://192.168.1.15/api/analyticsprofile/analyticsprofile-768ef0ed-a2ac-427c-92c7-8715ce805374',\n",
       "   'application_profile_ref': 'https://192.168.1.15/api/applicationprofile/applicationprofile-d6f57996-7ee0-4993-8eee-d95f82c84c45',\n",
       "   'cloud_ref': 'https://192.168.1.15/api/cloud/cloud-baf1f7f6-18ff-46cb-a134-6154d9af52a1',\n",
       "   'enable_autogw': False,\n",
       "   'http_policies': [{'http_policy_set_ref': 'https://192.168.1.15/api/httppolicyset/httppolicyset-a9010d3e-3495-4dbc-b8ca-591101da9f08',\n",
       "     'index': 11}],\n",
       "   'marked_for_delete': False,\n",
       "   'name': 'vs-example-mad-002-01',\n",
       "   'network_profile_ref': 'https://192.168.1.15/api/networkprofile/networkprofile-4ee2f4b9-728c-4437-a81a-0f7ad3550097',\n",
       "   'network_security_policy_ref': 'https://192.168.1.15/api/networksecuritypolicy/networksecuritypolicy-d294d057-c9d1-4152-a384-f8e56b471a2f',\n",
       "   'pool_ref': 'https://192.168.1.15/api/pool/pool-e2c04f10-7a8c-4091-8538-acdd3f9d4310',\n",
       "   'redis_db': 2,\n",
       "   'redis_port': 5025,\n",
       "   'se_group_ref': 'https://192.168.1.15/api/serviceenginegroup/serviceenginegroup-932a4c8c-ee69-4970-94dc-e3d9fc42032f',\n",
       "   'self_se_election': True,\n",
       "   'services': [{'port': 80, 'port_range_end': 80}],\n",
       "   'tenant_ref': 'https://192.168.1.15/api/tenant/admin',\n",
       "   'tls_ticket_key': [{'aes_key': '+Euy2uaG0dsSwVsO7e/qGw==',\n",
       "     'hmac_key': 'JVLEctOCLwZJx3yQ0vlJew==',\n",
       "     'name': '19a43720-e36f-47ab-b61e-b6b084122755'},\n",
       "    {'aes_key': 'w5XxM/uJmGiHGGe1pxpjRQ==',\n",
       "     'hmac_key': 'rFBG0zPi83c2vcDijDS7qQ==',\n",
       "     'name': 'f78a9703-102a-46e3-820e-b5b18a1a84fb'},\n",
       "    {'aes_key': '6Vnwx8QuQQW2zo5DzwmqkA==',\n",
       "     'hmac_key': 'uMYdHsSeWf0zTKXmXjN4jg==',\n",
       "     'name': '37bbace5-0544-4d4f-bdab-0f487b72cc3b'}],\n",
       "   'url': 'https://192.168.1.15/api/virtualservice/virtualservice-b6fe59c3-cf9a-44a9-aac0-a646cfbdc54a',\n",
       "   'uuid': 'virtualservice-b6fe59c3-cf9a-44a9-aac0-a646cfbdc54a',\n",
       "   'version': 21,\n",
       "   'vip_runtime': [{'first_se_assigned_time': {'secs': 1723646344,\n",
       "      'usecs': 498881},\n",
       "     'num_additional_se': 0,\n",
       "     'requested_resource': {'num_se': 1, 'num_standby_se': 1},\n",
       "     'vip_id': '1'}],\n",
       "   'vrf_context_ref': 'https://192.168.1.15/api/vrfcontext/vrfcontext-e69db980-a4b4-4097-8717-7702fdba30b6',\n",
       "   'vsvip_ref': 'https://192.168.1.15/api/vsvip/vsvip-a27b05ca-377e-4ef3-b982-5fec57dbac35'},\n",
       "  {'_last_modified': '1723646399348410',\n",
       "   'analytics_policy': {'full_client_logs': {'enabled': False},\n",
       "    'metrics_realtime_update': {'enabled': False}},\n",
       "   'analytics_profile_ref': 'https://192.168.1.15/api/analyticsprofile/analyticsprofile-768ef0ed-a2ac-427c-92c7-8715ce805374',\n",
       "   'application_profile_ref': 'https://192.168.1.15/api/applicationprofile/applicationprofile-d6f57996-7ee0-4993-8eee-d95f82c84c45',\n",
       "   'cloud_ref': 'https://192.168.1.15/api/cloud/cloud-baf1f7f6-18ff-46cb-a134-6154d9af52a1',\n",
       "   'enable_autogw': False,\n",
       "   'http_policies': [{'http_policy_set_ref': 'https://192.168.1.15/api/httppolicyset/httppolicyset-2d7109ae-7942-4247-84bf-d75a2708ce25',\n",
       "     'index': 11}],\n",
       "   'marked_for_delete': False,\n",
       "   'name': 'vs-example-mad-002-02',\n",
       "   'network_profile_ref': 'https://192.168.1.15/api/networkprofile/networkprofile-4ee2f4b9-728c-4437-a81a-0f7ad3550097',\n",
       "   'network_security_policy_ref': 'https://192.168.1.15/api/networksecuritypolicy/networksecuritypolicy-2ac7a5eb-387f-4268-84dc-423dbb0e82d3',\n",
       "   'pool_ref': 'https://192.168.1.15/api/pool/pool-a6e0d7ba-4509-4f15-95d8-80c0c19e6d75',\n",
       "   'redis_db': 3,\n",
       "   'redis_port': 5023,\n",
       "   'se_group_ref': 'https://192.168.1.15/api/serviceenginegroup/serviceenginegroup-932a4c8c-ee69-4970-94dc-e3d9fc42032f',\n",
       "   'self_se_election': True,\n",
       "   'services': [{'port': 80, 'port_range_end': 80}],\n",
       "   'tenant_ref': 'https://192.168.1.15/api/tenant/admin',\n",
       "   'tls_ticket_key': [{'aes_key': '1gprqXgI5+/xjCha2ZR4Jw==',\n",
       "     'hmac_key': 'fM6h2muWqmT15J06LlY6eQ==',\n",
       "     'name': '4b5f0e88-d268-4159-9a83-8e6747e8823c'},\n",
       "    {'aes_key': 'QBKEHQ+wQB9Zh1SB+4EjNw==',\n",
       "     'hmac_key': 'HZ8FTT5rHrNbkNA7DGKoqg==',\n",
       "     'name': '79a722c4-cd00-4164-8f31-7fd887a9ccd3'},\n",
       "    {'aes_key': 'Y0SWf6850Qas0itNupAVCA==',\n",
       "     'hmac_key': 'T1KexCiV8tXwuXeZr3F4Ww==',\n",
       "     'name': 'a5189e95-2066-4da4-981e-abf88d7f95ef'}],\n",
       "   'url': 'https://192.168.1.15/api/virtualservice/virtualservice-1036ab9f-e282-47c7-9122-75a002f2cfac',\n",
       "   'uuid': 'virtualservice-1036ab9f-e282-47c7-9122-75a002f2cfac',\n",
       "   'version': 20,\n",
       "   'vip_runtime': [{'first_se_assigned_time': {'secs': 1723646399,\n",
       "      'usecs': 872766},\n",
       "     'num_additional_se': 0,\n",
       "     'requested_resource': {'num_se': 1, 'num_standby_se': 1},\n",
       "     'vip_id': '1'}],\n",
       "   'vrf_context_ref': 'https://192.168.1.15/api/vrfcontext/vrfcontext-e69db980-a4b4-4097-8717-7702fdba30b6',\n",
       "   'vsvip_ref': 'https://192.168.1.15/api/vsvip/vsvip-35b49c10-0f69-4306-8058-7918bb2a83aa'}]}"
      ]
     },
     "execution_count": 35,
     "metadata": {},
     "output_type": "execute_result"
    }
   ],
   "source": [
    "file_path = 'output.json'\n",
    "with open(file_path, 'r') as inputfile:\n",
    "    data = json.load(inputfile)\n",
    "data"
   ]
  },
  {
   "cell_type": "markdown",
   "metadata": {},
   "source": [
    "The response contents always include a **count** key that contains a value of the number of occurrences of the requested object whereas the response itself is contained as the value of the **results** key. The results key is essentially a _list of dictionaries_ Python data structure. We can refer the items using the index (0 for the first response, 1 for second response and so on). As an example, let's access to the first item"
   ]
  },
  {
   "cell_type": "code",
   "execution_count": 64,
   "metadata": {},
   "outputs": [
    {
     "data": {
      "text/plain": [
       "{'_last_modified': '1723586462363933',\n",
       " 'analytics_policy': {'full_client_logs': {'enabled': False},\n",
       "  'metrics_realtime_update': {'enabled': False}},\n",
       " 'analytics_profile_ref': 'https://192.168.1.15/api/analyticsprofile/analyticsprofile-768ef0ed-a2ac-427c-92c7-8715ce805374',\n",
       " 'application_profile_ref': 'https://192.168.1.15/api/applicationprofile/applicationprofile-d6f57996-7ee0-4993-8eee-d95f82c84c45',\n",
       " 'cloud_ref': 'https://192.168.1.15/api/cloud/cloud-baf1f7f6-18ff-46cb-a134-6154d9af52a1',\n",
       " 'enable_autogw': False,\n",
       " 'http_policies': [{'http_policy_set_ref': 'https://192.168.1.15/api/httppolicyset/httppolicyset-93309f9a-a77a-4ae3-8295-231fcb34a398',\n",
       "   'index': 11}],\n",
       " 'marked_for_delete': False,\n",
       " 'name': 'vs-example-org1',\n",
       " 'network_profile_ref': 'https://192.168.1.15/api/networkprofile/networkprofile-4ee2f4b9-728c-4437-a81a-0f7ad3550097',\n",
       " 'network_security_policy_ref': 'https://192.168.1.15/api/networksecuritypolicy/networksecuritypolicy-5bf8a4c3-1929-4163-92aa-0a2759ac6a49',\n",
       " 'pool_ref': 'https://192.168.1.15/api/pool/pool-66773fdb-8d10-4823-9257-51fffed6b1d4',\n",
       " 'redis_db': 13,\n",
       " 'redis_port': 5022,\n",
       " 'se_group_ref': 'https://192.168.1.15/api/serviceenginegroup/serviceenginegroup-e5b13687-efbb-4417-9302-b1d37c367c8b',\n",
       " 'self_se_election': True,\n",
       " 'services': [{'port': 80, 'port_range_end': 80}],\n",
       " 'tenant_ref': 'https://192.168.1.15/api/tenant/admin',\n",
       " 'tls_ticket_key': [{'aes_key': 'HzFRH+gesg91Ja0Sh2BQNg==',\n",
       "   'hmac_key': '0YqMwZ1+PK3CAba8fFj6Qw==',\n",
       "   'name': 'd0ffddb5-69fb-4d77-920c-50c97707a27f'},\n",
       "  {'aes_key': 'grOGy919ey9afcqdlgmjvQ==',\n",
       "   'hmac_key': '2H+C/ajUdEg9xek+PkCHcg==',\n",
       "   'name': '7f8cb33b-0abf-45f3-b0c9-9b7b759f44c8'},\n",
       "  {'aes_key': '4cTOf7suMs2BsoPYdR2WuQ==',\n",
       "   'hmac_key': 'nZxBF2S7gtnqOJ1ptKbm9g==',\n",
       "   'name': '05b8612a-0061-407f-81f4-a3ccd07c8221'}],\n",
       " 'url': 'https://192.168.1.15/api/virtualservice/virtualservice-6bd64913-d5f4-41d7-ade9-eb2e7c003b23',\n",
       " 'uuid': 'virtualservice-6bd64913-d5f4-41d7-ade9-eb2e7c003b23',\n",
       " 'version': 27,\n",
       " 'vip_runtime': [{'first_se_assigned_time': {'secs': 1723586463,\n",
       "    'usecs': 707553},\n",
       "   'num_additional_se': 0,\n",
       "   'requested_resource': {'num_se': 1, 'num_standby_se': 1},\n",
       "   'se_list': [{'active_on_cloud': True,\n",
       "     'active_on_se': True,\n",
       "     'admin_down_requested': False,\n",
       "     'attach_ip_in_progress': False,\n",
       "     'cloud_programming_done': True,\n",
       "     'cloud_programming_status': 'Virtual Service IP is reachable in the Cloud',\n",
       "     'delete_in_progress': False,\n",
       "     'detach_ip_in_progress': False,\n",
       "     'incarnation': '2024-08-13 22:01:03.713870',\n",
       "     'is_portchannel': False,\n",
       "     'is_primary': True,\n",
       "     'is_standby': False,\n",
       "     'memory': 1971,\n",
       "     'mgmt_ip': {'addr': '192.168.1.21', 'type': 'V4'},\n",
       "     'mgmt_ip6': {'addr': 'fd38:9bda:673d:0:20c:29ff:feba:47eb', 'type': 'V6'},\n",
       "     'scaleout_in_progress': False,\n",
       "     'se_programming_done': True,\n",
       "     'se_ready_in_progress': False,\n",
       "     'se_ref': 'https://192.168.1.15/api/serviceengine/se-564d5830-e7a9-edc0-194c-c76236ba47eb',\n",
       "     'sec_idx': 0,\n",
       "     'vcpus': 1,\n",
       "     'vip6_subnet_mask': 128,\n",
       "     'vip_intf_list': [{'is_portchannel': False,\n",
       "       'vip_intf_ip': {'addr': '192.168.1.41', 'type': 'V4'},\n",
       "       'vip_intf_mac': '00:0c:29:ba:47:1d',\n",
       "       'vlan_id': 0}],\n",
       "     'vip_intf_mac': '00:0c:29:ba:47:1d',\n",
       "     'vip_subnet_mask': 32,\n",
       "     'vlan_id': 0,\n",
       "     'vnic': [{'mac': '00:0c:29:ba:47:1d', 'type': 'VNIC_TYPE_FE'},\n",
       "      {'mac': '00:0c:29:ba:47:1d', 'type': 'VNIC_TYPE_BE'}]},\n",
       "    {'active_on_cloud': False,\n",
       "     'active_on_se': True,\n",
       "     'admin_down_requested': False,\n",
       "     'attach_ip_in_progress': False,\n",
       "     'cloud_programming_done': True,\n",
       "     'cloud_programming_status': 'Virtual Service IP is not reachable in the Cloud',\n",
       "     'delete_in_progress': False,\n",
       "     'detach_ip_in_progress': False,\n",
       "     'incarnation': '2024-08-13 22:01:03.966517',\n",
       "     'is_portchannel': False,\n",
       "     'is_primary': False,\n",
       "     'is_standby': True,\n",
       "     'memory': 2944,\n",
       "     'mgmt_ip': {'addr': '192.168.1.20', 'type': 'V4'},\n",
       "     'mgmt_ip6': {'addr': 'fd38:9bda:673d:0:20c:29ff:fec4:a7af', 'type': 'V6'},\n",
       "     'scaleout_in_progress': False,\n",
       "     'se_programming_done': True,\n",
       "     'se_ready_in_progress': False,\n",
       "     'se_ref': 'https://192.168.1.15/api/serviceengine/se-564dcb90-ff93-dc99-bf4a-62907bc4a7af',\n",
       "     'sec_idx': 1,\n",
       "     'vcpus': 1,\n",
       "     'vip6_subnet_mask': 128,\n",
       "     'vip_intf_list': [{'is_portchannel': False,\n",
       "       'vip_intf_ip': {'addr': '192.168.1.40', 'type': 'V4'},\n",
       "       'vip_intf_mac': '00:0c:29:c4:a7:e1',\n",
       "       'vlan_id': 0}],\n",
       "     'vip_intf_mac': '00:0c:29:c4:a7:e1',\n",
       "     'vip_subnet_mask': 32,\n",
       "     'vlan_id': 0,\n",
       "     'vnic': [{'mac': '00:0c:29:c4:a7:e1', 'type': 'VNIC_TYPE_FE'},\n",
       "      {'mac': '00:0c:29:c4:a7:e1', 'type': 'VNIC_TYPE_BE'}]}],\n",
       "   'vip_id': '1'}],\n",
       " 'vrf_context_ref': 'https://192.168.1.15/api/vrfcontext/vrfcontext-e69db980-a4b4-4097-8717-7702fdba30b6',\n",
       " 'vsvip_ref': 'https://192.168.1.15/api/vsvip/vsvip-b2dc6a93-4bc1-4462-a778-b22dbf0a6e9b'}"
      ]
     },
     "execution_count": 64,
     "metadata": {},
     "output_type": "execute_result"
    }
   ],
   "source": [
    "# Saving results in a new variable and access the first item of the list of dictionaries. \n",
    "results = data[\"results\"]\n",
    "results[0]"
   ]
  },
  {
   "cell_type": "markdown",
   "metadata": {},
   "source": [
    "Sometimes we want to extract an item (a single dictionary) from the existing list using a value of one of the fields as search element. For example, lets say from the n objects in above example, we want to get only the one where the **name** key contains a value equals to **vs-example-org1**. To implement this, we need to iterate over existing list until a coincidence is found using following sample code: "
   ]
  },
  {
   "cell_type": "code",
   "execution_count": 51,
   "metadata": {},
   "outputs": [
    {
     "name": "stdout",
     "output_type": "stream",
     "text": [
      "Number of items in results list: 3\n",
      "Number of items in new filtered list: 1\n"
     ]
    }
   ],
   "source": [
    "print(\"Number of items in results list: \" + str(len(results)))\n",
    "field_to_match = \"name\"\n",
    "value_to_match = \"vs-example-org1\"\n",
    "result = [ item for item in results if item.get(field_to_match) == value_to_match]\n",
    "print(\"Number of items in new filtered list: \" + str(len(result)))"
   ]
  },
  {
   "cell_type": "markdown",
   "metadata": {},
   "source": [
    "Sometimes we need to filter part of the fields and take only some interesting or mandatory fields. Using above example, we will extract just some interesting fields. Remember the filtered result will still be a list of dictionary so we need to use the index to access the inside elements. In this case there is a single item in the list so it can be accessed as result[0]. "
   ]
  },
  {
   "cell_type": "code",
   "execution_count": 65,
   "metadata": {},
   "outputs": [
    {
     "name": "stdout",
     "output_type": "stream",
     "text": [
      "The value of the name key for the single item is: vs-example-org1\n"
     ]
    }
   ],
   "source": [
    "print(\"The value of the name key for the single item is: \" +str(result[0][\"name\"]))"
   ]
  },
  {
   "cell_type": "markdown",
   "metadata": {},
   "source": [
    "Another typical operation is when we want to simplify the data by removing some irrelevant fields. As an example imagine we just want to extract the name, uuid, vsvip_ref, se_group_ref, vsvip_ref and pool_ref from the above full response. This can be done through following piece of code. \n",
    "\n",
    "_Sample output_:\n",
    "\n",
    "```json\n",
    "{'uuid': 'virtualservice-6bd64913-d5f4-41d7-ade9-eb2e7c003b23',\n",
    " 'se_group_ref': 'https://192.168.1.15/api/serviceenginegroup/serviceenginegroup-e5b13687-efbb-4417-9302-b1d37c367c8b',\n",
    " 'name': 'vs-example-org1',\n",
    " 'vsvip_ref': 'https://192.168.1.15/api/vsvip/vsvip-b2dc6a93-4bc1-4462-a778-b22dbf0a6e9b',\n",
    " 'pool_ref': 'https://192.168.1.15/api/pool/pool-66773fdb-8d10-4823-9257-51fffed6b1d4'}\n",
    "```"
   ]
  },
  {
   "cell_type": "code",
   "execution_count": 80,
   "metadata": {},
   "outputs": [
    {
     "name": "stdout",
     "output_type": "stream",
     "text": [
      "The new filtered data is:\n",
      "{\n",
      "   \"uuid\": \"virtualservice-6bd64913-d5f4-41d7-ade9-eb2e7c003b23\",\n",
      "   \"se_group_ref\": \"https://192.168.1.15/api/serviceenginegroup/serviceenginegroup-e5b13687-efbb-4417-9302-b1d37c367c8b\",\n",
      "   \"name\": \"vs-example-org1\",\n",
      "   \"vsvip_ref\": \"https://192.168.1.15/api/vsvip/vsvip-b2dc6a93-4bc1-4462-a778-b22dbf0a6e9b\",\n",
      "   \"pool_ref\": \"https://192.168.1.15/api/pool/pool-66773fdb-8d10-4823-9257-51fffed6b1d4\"\n",
      "}\n"
     ]
    }
   ],
   "source": [
    "# Save data to filter into a new variable\n",
    "data_to_filter = result[0]\n",
    "\n",
    "# Define list containing fields_of_interest\n",
    "fields_of_interest = [ \n",
    "    'uuid',\n",
    "    'se_group_ref',\n",
    "    'name', \n",
    "    'vsvip_ref',\n",
    "    'pool_ref']\n",
    "\n",
    "# Filter the data iterating through the items and save results\n",
    "filtered_data = {key: data_to_filter[key] for key in fields_of_interest if key in data_to_filter }\n",
    "print(\"The new filtered data is:\")\n",
    "print(json.dumps(filtered_data, indent=3))"
   ]
  }
 ],
 "metadata": {
  "kernelspec": {
   "display_name": "Python 3",
   "language": "python",
   "name": "python3"
  },
  "language_info": {
   "codemirror_mode": {
    "name": "ipython",
    "version": 3
   },
   "file_extension": ".py",
   "mimetype": "text/x-python",
   "name": "python",
   "nbconvert_exporter": "python",
   "pygments_lexer": "ipython3",
   "version": "3.10.12"
  }
 },
 "nbformat": 4,
 "nbformat_minor": 2
}
